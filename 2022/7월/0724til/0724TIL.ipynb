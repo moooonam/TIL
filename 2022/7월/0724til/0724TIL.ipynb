{
 "cells": [
  {
   "cell_type": "markdown",
   "metadata": {},
   "source": [
    "# 0724 TIL"
   ]
  },
  {
   "cell_type": "markdown",
   "metadata": {},
   "source": [
    "### 그냥 이것 저것 복습하기"
   ]
  },
  {
   "cell_type": "markdown",
   "metadata": {},
   "source": [
    "# 컨테이너(Container)\n",
    "\n",
    "여러 개의 값을 저장할 수 있는 것(객체)을 의미하며, `서로 다른 자료형`을 저장 할 수 있습니다.\n",
    "\n",
    "### 컨테이너 분류\n",
    "- 시퀀스(Sequence)형 : 순서가 있는(ordered) 데이터\n",
    "- 비 시퀀스(Non-sequence)형 : 순서가 없는(unordered) 데이터\n",
    "\n",
    "<img width=\"712\" alt=\"container\" src=\"https://user-images.githubusercontent.com/45934087/148164052-3b12d3a2-a95e-4d4d-ae25-86ca1ba9657b.png\">\n",
    "\n",
    "<center><img src=\"https://user-images.githubusercontent.com/18046097/61180439-44e60d80-a651-11e9-9adc-e60fa57c2165.png\", alt=\"container\"/></center>"
   ]
  },
  {
   "cell_type": "markdown",
   "metadata": {},
   "source": [
    "순서가 있는 시퀀스로 인덱스를 통해 접근 가능\n",
    "- 값에 대한 접근은 `list[i]` 방식으로 접근\n",
    "\n",
    "### 레인지 (range())\n",
    "\n",
    "`range` 는 정수의 시퀀스를 나타내기 위해 사용됩니다.\n",
    "\n",
    "기본형 : `range(n)` \n",
    "\n",
    "\n",
    "> 0부터 n-1까지 값을 가짐\n",
    "\n",
    "\n",
    "범위 지정 : `range(n, m)` \n",
    "\n",
    "> n부터 m-1까지 값을 가짐\n",
    "\n",
    "범위 및 스텝 지정 : `range(n, m, s)`\n",
    "\n",
    "> n부터 m-1까지 +s만큼 증가한다\n",
    "\n",
    "## 주의 : range  안에 ':' 이거 아니고 ',' 이거다!!!"
   ]
  },
  {
   "cell_type": "markdown",
   "metadata": {},
   "source": [
    "### 세트 (Set)\n",
    "\n",
    "* `set`은 중복되는 요소가없이, 순서에 상관없는 자료구조입니다.\n",
    "\n",
    "  * 데이터의 중복을 허용하지 않기 때문에 중복되는 원소가 있다면 하나만 저장\n",
    "  * 순서가 없기 때문에 인덱스를 이용한 접근 불가능\n",
    "\n",
    "* `set`은 수학에서의 집합과 동일하게 처리됩니다. \n",
    "  * 활용 가능한 연산자는 차집합(`-`), 합집합(`|`), 교집합(`&`), 대칭차칩합(`^`)입니다.\n",
    "  * 여집합을 표현하는 연산자는 별도로 존재하지 않음\n",
    "\n",
    "  * 중복된 값이 존재하지 않음\n",
    "\n",
    "* `set`은 중괄호`{}`를 통해 생성하며, 빈 세트를 만들려면 `set()`을 사용해야 합니다. (`{}`로 사용 불가능)\n",
    "\n",
    "* 담고있는 객체를 삽입 변경, 삭제 가능 (mutable) 합니다.\n",
    "\n",
    "**생성과 접근**\n",
    "```python\n",
    "{value1, value2, value3}\n",
    "```\n",
    "\n",
    "### 딕셔너리 (dictionary)\n",
    "**생성과 접근**\n",
    "\n",
    "```python\n",
    "{Key1:Value1, Key2:Value2, Key3:Value3, ...}\n",
    "```\n",
    "\n",
    "* `{}`를 통해 만들며, `dict()`로 만들 수 있습니다.\n",
    "* 순서를 보장하지 않습니다.\n",
    "* `key`는 **변경 불가능(immutable)한 데이터**만 가능합니다. (immutable : string, integer, float, boolean, tuple, range)\n",
    "* `value`는 `list`, `dictionary`를 포함한 모든 것이 가능합니다.\n",
    "\n",
    "\n",
    "## 대소문자\n",
    "1. 문자열 대문자로 변경하는 함수 (string.upper)  \n",
    "2. 문자열 소문자로 변경하는 함수 (string.lower)  \n",
    "3. 문자가 대문자인지 확인하는 함수 (string.isupper)  \n",
    "4. 문자가 소문자인지 확인하는 함수 (string.islower)\n",
    "\n",
    "\n",
    "## .replace(A, B)\n",
    "replace(A, B)는 문자열의 A를 모두 B로 변경합니다. 이 함수를 이용하여 특정 문자를 ''으로 변경하여 제거할 수 있습니다.  \n",
    "\n",
    "str = \"Hello, World, Python\"  \n",
    "\n",
    "new_str = str.replace(',', '')  \n",
    "print(new_str)  \n",
    "\n",
    "output  \n",
    "Hello World Python  \n"
   ]
  },
  {
   "cell_type": "code",
   "execution_count": null,
   "metadata": {},
   "outputs": [],
   "source": []
  },
  {
   "cell_type": "code",
   "execution_count": null,
   "metadata": {},
   "outputs": [],
   "source": []
  }
 ],
 "metadata": {
  "kernelspec": {
   "display_name": "Python 3.10.5 64-bit",
   "language": "python",
   "name": "python3"
  },
  "language_info": {
   "codemirror_mode": {
    "name": "ipython",
    "version": 3
   },
   "file_extension": ".py",
   "mimetype": "text/x-python",
   "name": "python",
   "nbconvert_exporter": "python",
   "pygments_lexer": "ipython3",
   "version": "3.10.5"
  },
  "orig_nbformat": 4,
  "vscode": {
   "interpreter": {
    "hash": "369f2c481f4da34e4445cda3fffd2e751bd1c4d706f27375911949ba6bb62e1c"
   }
  }
 },
 "nbformat": 4,
 "nbformat_minor": 2
}
