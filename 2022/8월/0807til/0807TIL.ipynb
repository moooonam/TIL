{
 "cells": [
  {
   "cell_type": "markdown",
   "metadata": {},
   "source": [
    "# 0807TIL (셤공부...)"
   ]
  },
  {
   "cell_type": "markdown",
   "metadata": {},
   "source": [
    "- head 예시\n",
    "    ```\n",
    "    <title>\n",
    "    <meta>\n",
    "    <link>\n",
    "    <script>\n",
    "    <style>\n",
    "    ```\n",
    "- 대부분의 태그들이 시작태그와 종료태그가 있지만(br,hr,img,input,link,meta)는 종료태그가 없음\n",
    "- input 유형중 checkbox는 다중선택 radio는 단일 선택\n",
    "- CSS 상속되는거는 텍스트 관련 요소 상속 안되는거는 box model 관련요소,position 관련요소\n",
    "  \n",
    "> 결합자  \n",
    "- 자손 결합자 (공백)\n",
    "  - 하위의 모든 요소\n",
    "- 자식 결헙자(>)\n",
    "  - 바로 아래의 요소만\n",
    "- 일반 형제 결합자(~)\n",
    "  - 형제 요소 중 뒤에 위치하는 모든 요소\n",
    "- 인접 형제 결합자(+)\n",
    "  - 형제 요소중 바로 뒤에 위치하는 요소만\n",
    "\n",
    ">블록 레벨 요소 VS 인라인 레벨 요소\n",
    "- 대표적인 블록 레벨 요소\n",
    "  - div/ul,li,li/p/hr/form 등\n",
    "- 대표적인 인라인 레벨 요소\n",
    "  - span/a/umg/input,label/b,em,i,strong 등\n",
    "\n"
   ]
  }
 ],
 "metadata": {
  "kernelspec": {
   "display_name": "Python 3.10.5 64-bit",
   "language": "python",
   "name": "python3"
  },
  "language_info": {
   "codemirror_mode": {
    "name": "ipython",
    "version": 3
   },
   "file_extension": ".py",
   "mimetype": "text/x-python",
   "name": "python",
   "nbconvert_exporter": "python",
   "pygments_lexer": "ipython3",
   "version": "3.10.5"
  },
  "orig_nbformat": 4,
  "vscode": {
   "interpreter": {
    "hash": "369f2c481f4da34e4445cda3fffd2e751bd1c4d706f27375911949ba6bb62e1c"
   }
  }
 },
 "nbformat": 4,
 "nbformat_minor": 2
}
