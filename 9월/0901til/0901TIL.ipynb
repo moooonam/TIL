{
 "cells": [
  {
   "cell_type": "markdown",
   "metadata": {},
   "source": [
    "# 0901(목) TIL\n",
    "\n",
    "### 가상환경 설정\n",
    "python -m venv ./venv  \n",
    "<br>\n",
    "source venv/scripts/activate  \n",
    "<br>\n",
    "pip install -r requirements.txt\n",
    "<br>\n",
    "\n",
    "순서대로 실행(requirements.txt 는 venv파일이랑 동일한 폴더에 있어야함(동등한 레벨?))\n",
    "<br>\n",
    "<br>\n",
    "<br>\n",
    "\n",
    "- 프로젝트 생성    \n",
    "django-admin startproject \"프로젝트이름\" . (\"는 없이 . 은 있어야해)\n",
    "- 서버 실행  \n",
    "python manage.py runserver\n",
    "- 앱 생성  \n",
    "python manage.py startapp \"앱이름\"\n",
    "\n",
    "- 이제 시작해보자 (URL -> VIEW -> TEMPLATE 순으로 작성)\n",
    "  1. sttings.py에 app을 추가하자 (쉼표 주의)\n",
    "  2. "
   ]
  }
 ],
 "metadata": {
  "kernelspec": {
   "display_name": "Python 3.9.13 64-bit",
   "language": "python",
   "name": "python3"
  },
  "language_info": {
   "name": "python",
   "version": "3.9.13"
  },
  "orig_nbformat": 4,
  "vscode": {
   "interpreter": {
    "hash": "3d3579b64ed644892bc49d0da2d1890659408e00eebf25200bc250e1696a02dd"
   }
  }
 },
 "nbformat": 4,
 "nbformat_minor": 2
}
