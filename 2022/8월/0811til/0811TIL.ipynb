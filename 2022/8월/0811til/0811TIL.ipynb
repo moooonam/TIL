{
 "cells": [
  {
   "cell_type": "markdown",
   "metadata": {},
   "source": [
    "# 0811(목) TIL\n",
    "\n",
    "1. 원소 하나씩 입력받기\n",
    "```\n",
    "arr = [for _ in range(B)] // 2차원 배열의 가로길이 : B\n",
    "\n",
    "for i in range(B):    \n",
    "\tarr[i] = list(map(int, input().split()))\n",
    "```\n",
    "\n",
    "2. 원소에 list 추가하기\n",
    "```\n",
    "arr = []\n",
    "\n",
    "for i in range(B):    \n",
    "\tarr.append(list(map(int, input().split())))\n",
    "```\n",
    " \n",
    "3. 선언과 동시에 입력받기\n",
    "```\n",
    "arr = [list(map(int, input().split())) for _ in range(B)]\n",
    "```\n"
   ]
  },
  {
   "cell_type": "code",
   "execution_count": null,
   "metadata": {},
   "outputs": [],
   "source": []
  }
 ],
 "metadata": {
  "kernelspec": {
   "display_name": "Python 3.9.13 64-bit",
   "language": "python",
   "name": "python3"
  },
  "language_info": {
   "codemirror_mode": {
    "name": "ipython",
    "version": 3
   },
   "file_extension": ".py",
   "mimetype": "text/x-python",
   "name": "python",
   "nbconvert_exporter": "python",
   "pygments_lexer": "ipython3",
   "version": "3.9.13"
  },
  "orig_nbformat": 4,
  "vscode": {
   "interpreter": {
    "hash": "3d3579b64ed644892bc49d0da2d1890659408e00eebf25200bc250e1696a02dd"
   }
  }
 },
 "nbformat": 4,
 "nbformat_minor": 2
}
