{
 "cells": [
  {
   "cell_type": "markdown",
   "metadata": {},
   "source": [
    "# 0720TIL"
   ]
  },
  {
   "cell_type": "markdown",
   "metadata": {},
   "source": [
    "## *제어문\n",
    "- 특정 상황에따라서 코드를 선택적으로 실행하거나 계속해서 실행(반복)하는 제어문\n",
    "### 조건문\n",
    "\n",
    "        "
   ]
  },
  {
   "cell_type": "code",
   "execution_count": null,
   "metadata": {},
   "outputs": [],
   "source": [
    "- 조건에는 참/거짓에 대한 조건식  \n",
    "  if 조건 == True:  \n",
    "       'Run this code block'  (앞에 공백 4칸이 되어있는 부분은 조건이 참일때 실행하는 코드)  \n",
    "  else:  \n",
    "        'Run this code block'   (조건이 거짓일때 실행하는 코드)  \n",
    "\n",
    "- 복수 조건문  \n",
    "  if 조건:  \n",
    "      Code  \n",
    "  elif 조건:  \n",
    "      Code        \n",
    "  elif 조건:  \n",
    "      Code  \n",
    "  else:  \n",
    "      Code   \n",
    "\n",
    "- 중첩 조건문(조건문안에 조건문)  \n",
    "  if 조건1:    \n",
    "      if 조건2:  \n",
    "          조건1이 True이고 조건2도 True일때 실행할코드  \n",
    "      else: \n",
    "          조건1은 트루인데 조건2가 거짓일때 실행할코드  \n",
    "    조건1이 참이면 실행될 코드  \n",
    "  else:  \n",
    "      if 조건3:  \n",
    "          조건1이 거짓이고 조건3이 참일때 실행할 코드  \n",
    "      else:  \n",
    "          조건1이 거짓이고 조건3도 거짓일때 실행할 코드    "
   ]
  },
  {
   "cell_type": "code",
   "execution_count": 11,
   "metadata": {},
   "outputs": [],
   "source": [
    "- 조건 표현식     \n",
    "      - 삼항 연산자로 부르기도 함    \n",
    "        True인 경우 값 | if 조건 | else | false인 경우 값 \n",
    "# value = num if num>=0 else -num\n",
    "# 조건 표현식을 이용해 절대값 저장하기 위한 코트"
   ]
  },
  {
   "cell_type": "markdown",
   "metadata": {
    "vscode": {
     "languageId": "python"
    }
   },
   "source": [
    "### 반복문\n",
    "- 특정 조건을 만족할 때까지 같은 동작을 계속 반복하고 싶을 때 사용\n",
    "- while 문\n",
    "    - 종료 조건에 해당하는 코드를 통해 반복문을 종료시켜야 함\n",
    "    - 언제 반복이 종료될지 우리가 한번에 예측하기 어렵다\n",
    "- for 문\n",
    "    - 반복가능한 객체를 모두 순회하면 종료 (별도의 종료 조건이 필요 없음)\n",
    "    - 길이를 알고 있기 때문에 반복이 언제까지 될지 예측하기 쉽다.\n",
    "- 반복 제어\n",
    "    - break, continue, for-else \n",
    "#### While문\n",
    "- while문은 조건식이 참인 경우 반복적으로 코드를 실행\n",
    "- while문은 무한 루프를 하지 않도록 종료 조건이 반드시 필요 "
   ]
  },
  {
   "cell_type": "code",
   "execution_count": 12,
   "metadata": {},
   "outputs": [
    {
     "name": "stdout",
     "output_type": "stream",
     "text": [
      "0\n",
      "1\n",
      "2\n",
      "3\n",
      "4\n",
      "끝\n"
     ]
    }
   ],
   "source": [
    "a = 0\n",
    "while a< 5:\n",
    "    print(a)\n",
    "    a +=1\n",
    "print('끝')"
   ]
  },
  {
   "cell_type": "markdown",
   "metadata": {},
   "source": [
    "### for문\n",
    "- for문은 시퀀스를 모함한 순회 가능한 객체의 요소를 모두 순회\n",
    "  - 처음부터 끝까지 모두 순회하므로 별도의 종료 조건이 필요하지 않음\n",
    "- iterable\n",
    "  - 순회할 수 있는 자료형 (str, list, dict, tuple, range, set 등)\n",
    "  - 순회형 함수(range, enumerate)  \n"
   ]
  },
  {
   "cell_type": "code",
   "execution_count": null,
   "metadata": {},
   "outputs": [],
   "source": [
    "for 변수명 in iterable:  \n",
    "    Code\n",
    "\n",
    "    변수명:  for문 안에있는 코드 블록에서 순회가능한 객체 안에 있는 요소를 부르는 이름\n",
    "    "
   ]
  },
  {
   "cell_type": "code",
   "execution_count": 13,
   "metadata": {},
   "outputs": [
    {
     "name": "stdout",
     "output_type": "stream",
     "text": [
      "name 홍길동\n",
      "age 30\n"
     ]
    }
   ],
   "source": [
    "dic1 = {\"name\" : \"홍길동\" , \"age\": 30}\n",
    "for item in dic1:\n",
    "    print(item, dic1[item])"
   ]
  },
  {
   "cell_type": "markdown",
   "metadata": {},
   "source": [
    "## *함수"
   ]
  },
  {
   "cell_type": "code",
   "execution_count": null,
   "metadata": {},
   "outputs": [],
   "source": []
  },
  {
   "cell_type": "code",
   "execution_count": null,
   "metadata": {},
   "outputs": [],
   "source": []
  },
  {
   "cell_type": "markdown",
   "metadata": {},
   "source": [
    "## 기타 그냥 알게된것들?.."
   ]
  },
  {
   "cell_type": "markdown",
   "metadata": {},
   "source": [
    "- 리스트에서 특정 단어 들어있는 원소 갯수 찾기..\n"
   ]
  },
  {
   "cell_type": "code",
   "execution_count": null,
   "metadata": {},
   "outputs": [],
   "source": [
    "orders = ['아이스아메리카노','카라멜마키야또','에스프레소','아메리카노','아메리카노',\n",
    "'아이스라떼','핫초코','아이스아메리카노','아메리카노','아이스카라멜마키야또','아이스라떼',\n",
    "'라떼마키야또','카푸치노','라떼마키야또']\n",
    "\n",
    "\n",
    "matching = [s for s in orders if \"아이스\" in s] \n",
    "print(len(matching))"
   ]
  },
  {
   "cell_type": "code",
   "execution_count": null,
   "metadata": {},
   "outputs": [],
   "source": [
    "#리스트에서 특정단어 갯수찾기\n",
    "list.count('단어')"
   ]
  }
 ],
 "metadata": {
  "kernelspec": {
   "display_name": "Python 3.10.5 64-bit",
   "language": "python",
   "name": "python3"
  },
  "language_info": {
   "codemirror_mode": {
    "name": "ipython",
    "version": 3
   },
   "file_extension": ".py",
   "mimetype": "text/x-python",
   "name": "python",
   "nbconvert_exporter": "python",
   "pygments_lexer": "ipython3",
   "version": "3.10.5"
  },
  "orig_nbformat": 4,
  "vscode": {
   "interpreter": {
    "hash": "369f2c481f4da34e4445cda3fffd2e751bd1c4d706f27375911949ba6bb62e1c"
   }
  }
 },
 "nbformat": 4,
 "nbformat_minor": 2
}
