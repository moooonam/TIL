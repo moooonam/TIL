{
 "cells": [
  {
   "cell_type": "markdown",
   "metadata": {},
   "source": [
    "# 0801(월) TIL"
   ]
  },
  {
   "cell_type": "code",
   "execution_count": 1,
   "metadata": {},
   "outputs": [
    {
     "name": "stdout",
     "output_type": "stream",
     "text": [
      "5\n",
      "3\n"
     ]
    }
   ],
   "source": [
    "print(3 and 5)\n",
    "# 5가 출력된다...\n",
    "print(3 or 5)\n",
    "# 3이 출력된다..."
   ]
  },
  {
   "cell_type": "markdown",
   "metadata": {},
   "source": [
    "## Web은 많은 경험이 필요하다\n",
    "\n",
    "#### 웹사이트의 구성 요소\n",
    "\n",
    "- 웹 사이트란 브라우저를 통해서 접속하는 웹페이지(문서)들의 모음\n",
    "- 웹 페이지는 글,그림,동영상 등 여러가지 정보를 담고 잇으며, 마우스로 클릭하면 다른 웹페이지로 이동하는 '링크'들이 있음\n",
    "  링크를 통해 여러 웹 페이지를 연결한 것을 웹 사이트라고 함.\n",
    "\n",
    ">HTML => 구조  \n",
    ">CSS => 표현  \n",
    ">Javascript => 동작\n",
    "\n",
    "#### 웹사이트와 브라우저\n",
    "\n",
    "- 웹 사이트는 브라우저를 통해 동작함\n",
    "- 브라우저마다 동작이 약간씩 달라서 문제가 생기는 경우가 많음(파편화)\n",
    "- 해결책으로 웹 표준이 등장\n",
    "\n",
    "#### 웹 표준\n",
    "\n",
    "- 웹에서 표준적으로 사용되는 기술, 규칙\n",
    "- 어떤 브라우저든 웹페이지가 동일하게 보이도록(동작하도록) 한다. ==> 크로스 브라우징\n",
    "- 브라우저별 호환성 체크, 웹 페이지를 개발할 때 다양한 브라우저에서 볼 수 있도록 호환성체크\n",
    "\n",
    "### HTML\n",
    "\n",
    "- 태그 등을 이용해서 문서나 데이터의 구조를 명시하는 언어 ==> Markup Language\n",
    "- 웹 페이지를 작성(구조화)하기 위한 언어다.\n",
    "- "
   ]
  },
  {
   "cell_type": "code",
   "execution_count": null,
   "metadata": {
    "vscode": {
     "languageId": "html"
    }
   },
   "outputs": [],
   "source": [
    "<!--주석은 이걸로 한다-->\n",
    "<body>\n",
    "    <h1>제목</h1>\n",
    "    <p>본문 내용</p>\n",
    "</body>"
   ]
  },
  {
   "cell_type": "code",
   "execution_count": null,
   "metadata": {
    "vscode": {
     "languageId": "html"
    }
   },
   "outputs": [],
   "source": [
    "<!DOCTYPE html>\n",
    "<html lang=\"en\">\n",
    "    <head>\n",
    "        <!--메타데이터 : 이 문서를 설명하는 요소들이 들어있다.-->\n",
    "        <meta charset=\"UTF-8\">\n",
    "        <title>문서의 제목</title> <!--브라우저 상단 탬에 표시될 타이틀-->\n",
    "        <style>\n",
    "            p {\n",
    "                color: blue;\n",
    "            }\n",
    "        </style>\n",
    "    </head>\n",
    "    <body>\n",
    "        <!-- 실제 웹페이지에 표시되는 요소들이 들어있다.-->\n",
    "        <h1>제목</h1>\n",
    "        <p>본문 내용</p>\n",
    "    </body>\n",
    "</html>"
   ]
  },
  {
   "cell_type": "markdown",
   "metadata": {},
   "source": [
    "### HTML 요소\n",
    "\n",
    "- HTML 작성 방법: <태그이름>포함시킬내용</태그이름>\n",
    "- 내용이 없는 태그들도 존재: (닫는 태그가 없음, 또는 여는 동시에 닫는 태그가 존재)\n",
    "  - br, hr, img...\n",
    "- HTML 요서는 중첩된다. (조건문 안에 조건문같이)\n",
    "  - 중첩을 통해서 문서를 구조화 할 수 있다.\n",
    "  - 여는 태그와 닫는 태그의 쌍을 잘 확인해야한다. 해당 태그의 범위가 어디까지인지 알아야 구조화가 잘 된다.\n",
    "  - 코드를 잘못 작성하면 오류를 반환하는게 아니라 그냥 화면이 깨지거나 오작동(원하는대로 동작 하지 않음) 디버깅이 힘들어진다.(어디가 잘못되었는지 한눈에 찾기 어렵다.)\n",
    "\n",
    "###  HTML 태그의 속성(attribute)\n",
    "\n",
    "'''html\n",
    "<a href=\"http://google.com\"></a> \n",
    "'''\n",
    "\n",
    "- 속성을 통해서 태그의 부가적인 정보를 설정할 수 있다.\n",
    "- html 요소는 속성을 가질 수 있다. 경로,요소의 크기 같은 추가적인 제공\n",
    "- 요소의 시작태그에 작성 보통 이름과 값이 하나의 쌍으로 존재한다.(=)\n",
    "\n",
    "\n",
    "### 시맨틱 태그\n",
    "\n",
    "- div 태그에 역할에 따른 이름을 부여 ==> 의미론적 마크업\n",
    "- 단순히 구역을 나누는것에 더해 태그가 의미를 가지도록 해주는 요소 \n",
    "- 의미가 명확해지기 때문에 코드의 가독성을 높일 수 있다. ==> 유지보수가 쉬워진다.\n",
    "- 검색엔진 최적화를 위해서 사용한다."
   ]
  },
  {
   "cell_type": "markdown",
   "metadata": {},
   "source": [
    "## CSS 적용 원칙\n",
    "\n",
    "- 기본적으로 CSS는 박스 형태로 지정된다.\n",
    "- box model\n",
    "- 위에서부터 아래로, 왼쪽에서 오른쪽으로 쌓인다.\n",
    "- 모든 html 요소는 box 형태로 되어있다. (눈에 보이는거랑 다르다.)\n",
    "- 하나의 박스는 아래 4가지 부분으로 이루어져 있다.\n",
    "  - margin : 요소 외부에 다른 요소와의 거리(간격)을 말함.\n",
    "  - border : 요소 외부의 경계선\n",
    "  - padding : 요소 내부 content와 border 간의 간격을 말한다.\n",
    "  - content : 요소 내부의 내용들..."
   ]
  },
  {
   "cell_type": "markdown",
   "metadata": {},
   "source": [
    "### display\n",
    "- 웹페이지에서 사용자에게 보여주는 방식을 설명하는 css 속성\n",
    "- 인라인/블록\n",
    "\n",
    "- block : 줄바꿈이 일어나게 해주는 속성(한줄 공간을 모두 차지하게 된다.)\n",
    "  - 블록 요소 안에는 inline 요소가 들어갈 수 있다.\n",
    "  - div ul ol li p\n",
    "\n",
    "\n",
    "- inline : 줄바꿈이 일어나지 않게 해주는 속성(내용의 크기만큼만 공간 차지)\n",
    "  - width, height 이런 속성들 지정 불가능\n",
    "  - 상하 여백을 line-height 속성을 통해 지정할 수 있다. \n",
    "  - span, a, img, input 기타 텍스트 태그\n",
    "\n",
    "- inline-block\n",
    "  - block 특성과 inline 특성을 모두 가지고있는 속성\n",
    "  - inline 처럼 한줄에 표시할 수 있고, block 처럼 width, height 이런 속성을 모두 지정 가능\n",
    "\n",
    "- none\n",
    "  - 해당 요소를 화면에 표시하지 않고, 차지할 공간조차 부여하지 않는다.\n",
    "  - visibillity : hidden ==> 공간은 차지하나 화면에 표시만 안한다."
   ]
  },
  {
   "cell_type": "markdown",
   "metadata": {},
   "source": [
    "### CSS Position\n",
    "\n",
    "- 문서 내에서 요소의 위치를 지정해주는 CSS 속성\n",
    "- position : static\n",
    "    \n",
    "- static : 모든 태그의 기본값(기준위치) 특별하게 설정해주지 않으면 이 값을 기본값으로 가지고 있다.\n",
    "    - 일반적인 요소의 배치 순서를 따른다.(좌측 상단)\n",
    "    - 부모 요소 안에서 배치될 때는 부모 요소의 위치를 기준으로 배치 된다.\n",
    "- relative : 상대적인 위치\n",
    "  - 자기 자신의 static 위치를 기준으로 이동(기본적인 css 위치 흐름을 유지한다.)\n",
    "- absolute : 절대적인 위치\n",
    "  - 일반적인 css 위치 흐름을 벗어나게 된다.(공중에 둥둥 뜬것처럼)\n",
    "  - 기준 위치가 static이 아닌 가장 가까이 있는 부모/조상 요소를 기준으로 이동한다.\n",
    "- fixed : 고정 위치\n",
    "  - 일반적인 css 위치 흐름을 벗어나게 된다.\n",
    "  - 부모 요소와 관계없이 viewport(사용자의 화면)을 기준으로 이동한다\n",
    "    - 스크롤 시에도 항상 같은곳에 위치한다.\n",
    "- sticky : 스크롤에 따라 고정 또는 아님 \n",
    "  - 원래 자리를 유지하고 있다가 스크롤을 통해 벗어나게 되면 화면 상단/하단에 달라붙는 속성\n",
    "  - 스크롤에 따라 static => fixed로 변경된다. "
   ]
  }
 ],
 "metadata": {
  "kernelspec": {
   "display_name": "Python 3.10.5 64-bit",
   "language": "python",
   "name": "python3"
  },
  "language_info": {
   "codemirror_mode": {
    "name": "ipython",
    "version": 3
   },
   "file_extension": ".py",
   "mimetype": "text/x-python",
   "name": "python",
   "nbconvert_exporter": "python",
   "pygments_lexer": "ipython3",
   "version": "3.10.5"
  },
  "orig_nbformat": 4,
  "vscode": {
   "interpreter": {
    "hash": "369f2c481f4da34e4445cda3fffd2e751bd1c4d706f27375911949ba6bb62e1c"
   }
  }
 },
 "nbformat": 4,
 "nbformat_minor": 2
}
