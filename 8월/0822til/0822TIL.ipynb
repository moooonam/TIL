{
 "cells": [
  {
   "cell_type": "markdown",
   "metadata": {},
   "source": [
    "# 0822(월) TIL\n",
    "\n",
    "\n",
    "- 중위표기법\n",
    "  - 연산자를 피연산자의 가운데 표기하는 방법\n",
    "  - ex) A+B\n",
    "\n",
    "- 후위표기법\n",
    "  - 연산자를 피연산자 뒤에 표기하는 방법\n",
    "  - ex) AB+"
   ]
  },
  {
   "cell_type": "code",
   "execution_count": null,
   "metadata": {},
   "outputs": [],
   "source": [
    "# 계산기 중위 연산식 => 후위연산식 (괄호 없는 버전)\n",
    "n = int(input()) # 식의 길이(문자 갯수)\n",
    "infix = input() # 중위표기식을 문자열로 입력받기\n",
    "\n",
    "stack = [0] * n #스택의 길이는 최대 n\n",
    "top = -1\n",
    "\n",
    "# 연산자의 우선순위\n",
    "icp = {\"+\": 1, \"-\": 1, \"/\" : 2, \"*\" : 2}\n",
    "\n",
    "postfix = \"\"\n",
    "# 중위연산식을 순회하면서 후위연산식으로 바꾸기\n",
    "for i in range(n):\n",
    "    # i 번째 문자를 하나 떼와서\n",
    "    # 피연산자이면 ==> 출력, 연산자이면 우선순위 스택의 top과 비교\n",
    "    if \"0\" <= infix[i] <= \"9\": #피연산자, 숫자인 경우\n",
    "        postfix += infix[i]\n",
    "    else:\n",
    "        # 연산자인 경우\n",
    "        # 우선순위를 비교해서 스택의 top의 원소와 지금 떼온 연산자와 우선순위를 비교\n",
    "        # 우선순위가 같거나 높으면 top\n",
    "        if top > -1 and icp[stack[top]] >=icp[infix[i]]:\n",
    "            # pop시켜주고 문자열에 출력\n",
    "            postfix += stack[top]\n",
    "            top -= 1\n",
    "        top += 1\n",
    "        stack[top] = infix[i]\n",
    "# 만약 스택 안에 연산자가 남아있는 경우 수식 뒤에 붙여주기\n",
    "while top > -1:\n",
    "    postfix += stack[top]\n",
    "    top -= 1\n",
    "\n",
    "print(postfix)"
   ]
  }
 ],
 "metadata": {
  "kernelspec": {
   "display_name": "Python 3.10.5 64-bit",
   "language": "python",
   "name": "python3"
  },
  "language_info": {
   "codemirror_mode": {
    "name": "ipython",
    "version": 3
   },
   "file_extension": ".py",
   "mimetype": "text/x-python",
   "name": "python",
   "nbconvert_exporter": "python",
   "pygments_lexer": "ipython3",
   "version": "3.10.5"
  },
  "orig_nbformat": 4,
  "vscode": {
   "interpreter": {
    "hash": "369f2c481f4da34e4445cda3fffd2e751bd1c4d706f27375911949ba6bb62e1c"
   }
  }
 },
 "nbformat": 4,
 "nbformat_minor": 2
}
