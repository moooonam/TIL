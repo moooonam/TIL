{
 "cells": [
  {
   "cell_type": "markdown",
   "metadata": {},
   "source": [
    "# 0809(화)TIL\n",
    "\n",
    "- 개념적인거 보다 실습 위주였음\n",
    "  \n",
    "- else 가 if 문이랑 보통 쓰이지만 for랑도 쓰일수 있음 =>for문이 중간에 break 등으로 끊기지 않고,\n",
    " 끝까지 수행 되었을 때 수행하는 코드임\n",
    "\n",
    "```\n",
    "for s in range(t):\n",
    "    어쩌고저쩌고\n",
    "else:\n",
    "    어쩌고저쩌고\n",
    "```\n",
    "\n",
    "- list에서 뒤에 추가하는건 list.append('추가할거') 하면 되는데 앞에 추가하려면  \n",
    "  list.insert(추가할인덱스, 추가할내용) 이렇게 해줘야함\n",
    "- print 문 뒤에 공백 주고 이어서 쓰러면 ```print(),end=''```"
   ]
  }
 ],
 "metadata": {
  "kernelspec": {
   "display_name": "Python 3.9.13 64-bit",
   "language": "python",
   "name": "python3"
  },
  "language_info": {
   "codemirror_mode": {
    "name": "ipython",
    "version": 3
   },
   "file_extension": ".py",
   "mimetype": "text/x-python",
   "name": "python",
   "nbconvert_exporter": "python",
   "pygments_lexer": "ipython3",
   "version": "3.9.13"
  },
  "orig_nbformat": 4,
  "vscode": {
   "interpreter": {
    "hash": "3d3579b64ed644892bc49d0da2d1890659408e00eebf25200bc250e1696a02dd"
   }
  }
 },
 "nbformat": 4,
 "nbformat_minor": 2
}
