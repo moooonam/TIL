{
 "cells": [
  {
   "cell_type": "markdown",
   "metadata": {},
   "source": [
    "# 0806(토) TIL이라 쓰고 시험공부\n"
   ]
  },
  {
   "cell_type": "markdown",
   "metadata": {},
   "source": [
    "- CSS 원칙 : 모든 요소는 **네모(박스모델)**이고, 위에서부터 아래로,왼쪽에서 오른쪽으로 쌓인다.\n",
    "- Float : 박스를 왼쪽 혹은 오른쪽으로 디오시켜 텍스트를 포함 인라인 요소들이 주변을 wrapping 하도록 함\n",
    "\n",
    "> ## Flex\n",
    "(플렉스는 https://studiomeal.com/archives/197여기를 참고하였음)\n",
    "- 행과 열 형태로 아이템들을 배치하는 1차원 레이아웃 모델\n",
    "- 축\n",
    "  - main axis(메인 축)\n",
    "  - cross axis(교차축)\n",
    "- 구성요소\n",
    "  - Flex Container(부모 요소)\n",
    "  - Flex item(자식 요소)\n",
    "\n",
    "![1](https://studiomeal.com/wp-content/uploads/2020/01/02.jpg)\n",
    "\n",
    "- Flex 속성 :flex-direction\n",
    "  - 아이템들이 배치되는 축의 방향을 결정하는 속성임\n",
    "  \n",
    "![2](https://studiomeal.com/wp-content/uploads/2020/01/05-1.jpg)\n",
    "\n",
    "- Flex-wrap: 줄넘김 처리 설정\n",
    "  - 컨데이너가 더 이상 아이템들을 한줄에 담을 여유 공간이 없을 때 줄바꿈 할지 안할지 결정\n",
    "  - nowrap(기본값): 줄바꿈을 하지 않음, 넘치면 그냥 삐져 나감\n",
    "  - wrap: 줄바꿈을 함\n",
    "  - wrap-reverse: 줄바꿈을 하는데, 아이템을 역순으로 배치\n",
    "  \n",
    "![3](https://studiomeal.com/wp-content/uploads/2020/01/06-1.jpg)\n",
    "\n",
    "- flex-flow : direction과 wrap을 한꺼번에 지정할 수 있는 속성\n",
    "  - flex-flow: row wrap; <= 이런식으로\n",
    "\n",
    "- ### 정렬\n",
    "  \n",
    "- justify: 메인축 방향으로 정렬\n",
    "  - .container {  \n",
    "\tjustify-content: flex-start;  \n",
    "\t/* justify-content: flex-end; */  \n",
    "\t/* justify-content: center; */  \n",
    "\t/* justify-content: space-between; */  \n",
    "\t/* justify-content: space-around; */  \n",
    "\t/* justify-content: space-evenly; */  \n",
    "}\n",
    "- align: 수직축 방향으로 정렬\n",
    "  \n",
    "  - .container {  \n",
    "\tflex-wrap: wrap;  \n",
    "\talign-content: stretch;  \n",
    "\t/* align-content: flex-start; */  \n",
    "\t/* align-content: flex-end; */  \n",
    "\t/* align-content: center; */  \n",
    "\t/* align-content: space-between; */  \n",
    "\t/* align-content: space-around; */  \n",
    "\t/* align-content: space-evenly; */  \n",
    "}\n",
    "  - .container {  \n",
    "\talign-items: stretch; => 아이템들이 수직축 방향으로 끝까지 쭈욱 늘어남.  \n",
    "\t/* align-items: flex-start; */  \n",
    "\t/* align-items: flex-end; */  \n",
    "\t/* align-items: center; */  \n",
    "\t/* align-items: baseline; */  \n",
    "}\n",
    "   "
   ]
  },
  {
   "cell_type": "markdown",
   "metadata": {},
   "source": [
    "- CDN(Content Delivery(Distribution) Network) : 컨텐츠를 효율정으로 전달하기 위해 여러 노드에 가진 네트워크 데이터를 제공하는 시스템"
   ]
  }
 ],
 "metadata": {
  "kernelspec": {
   "display_name": "Python 3.10.5 64-bit",
   "language": "python",
   "name": "python3"
  },
  "language_info": {
   "name": "python",
   "version": "3.10.5"
  },
  "orig_nbformat": 4,
  "vscode": {
   "interpreter": {
    "hash": "369f2c481f4da34e4445cda3fffd2e751bd1c4d706f27375911949ba6bb62e1c"
   }
  }
 },
 "nbformat": 4,
 "nbformat_minor": 2
}
