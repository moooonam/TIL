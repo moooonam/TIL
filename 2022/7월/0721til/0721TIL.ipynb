{
 "cells": [
  {
   "cell_type": "markdown",
   "metadata": {},
   "source": [
    "# 0721TIL"
   ]
  },
  {
   "cell_type": "code",
   "execution_count": 1,
   "metadata": {},
   "outputs": [
    {
     "name": "stdout",
     "output_type": "stream",
     "text": [
      "a\n"
     ]
    }
   ],
   "source": [
    "## 조건 표현식\n",
    "num = int(input('숫자를 입력하세요 : '))\n",
    "\n",
    "print('0 보다 큼') if num > 0 else print('0 보다 크지않음')\n",
    "\n",
    "num = int(input('숫자를 입력하세요 : '))\n",
    "value = num if num >= 0 else -num\n",
    "print(value)\n"
   ]
  },
  {
   "cell_type": "markdown",
   "metadata": {},
   "source": [
    "### 조건 표현식에서는 ':' 땡땡 없다\n",
    "### map (적용할 함수 이름, 함수를 적용하고 싶은 리스트) => 리스트 안에 있는 모든 원소에 함수를 적용시킨다\n",
    "ex) map(int, input().split())"
   ]
  },
  {
   "cell_type": "markdown",
   "metadata": {},
   "source": [
    "## 함수의 선언과 호출\n",
    "\n",
    "* 함수의 선언은 `def` 키워드를 활용합니다.\n",
    "\n",
    "\n",
    "* `들여쓰기(4spaces)`로 함수의 body(코드 블록)를 작성합니다.\n",
    "    * Docstring은 함수 body 앞에 선택적으로 작성 가능합니다.\n",
    "\n",
    "\n",
    "* 함수는 `매개변수(parameter)`를 넘겨줄 수도 있습니다.\n",
    "\n",
    "\n",
    "* 함수는 동작후에 `return`을 통해 결과값을 반환합니다.\n",
    "    * 반드시 하나의 값을 반환합니다 (`return` 값이 없으면, `None`을 반환)\n",
    "\n",
    "\n",
    "* 함수는 호출은 `함수명()`으로 합니다. \n",
    "    * 예) `func()` / `func(val1, val2)`\n",
    "\n",
    "---\n",
    "\n",
    "#### 활용법\n",
    "\n",
    "```python\n",
    "def <함수이름>(parameter1, parameter2):\n",
    "    <코드 블럭>\n",
    "    return value\n",
    "```"
   ]
  },
  {
   "cell_type": "markdown",
   "metadata": {},
   "source": [
    "* dictionary에서 `for`를 활용하는 4가지 방법\n",
    "\n",
    "```python\n",
    "# 0. dictionary 순회 (key 활용)\n",
    "for key in dict:\n",
    "    print(key)\n",
    "    print(dict[key])\n",
    "\n",
    "\n",
    "# 1. `.keys()` 활용\n",
    "for key in dict.keys():\n",
    "    print(key)\n",
    "    print(dict[key])\n",
    "    \n",
    "    \n",
    "# 2. `.values()` 활용\n",
    "# 이 경우 key는 출력할 수 없음\n",
    "for val in dict.values():\n",
    "    print(val)\n",
    "\n",
    "    \n",
    "# 3. `.items()` 활용\n",
    "for key, val in dict.items():\n",
    "    print(key, val)\n",
    "\n",
    "```"
   ]
  },
  {
   "cell_type": "markdown",
   "metadata": {},
   "source": [
    "### dic 이용하여 평균 구하기\n",
    "좋아하는 점심메뉴 이용하여 key는 메뉴, value는 가격인 dict를 만들고, 점심메뉴의 평균값을 출력하시오."
   ]
  },
  {
   "cell_type": "code",
   "execution_count": 6,
   "metadata": {},
   "outputs": [
    {
     "name": "stdout",
     "output_type": "stream",
     "text": [
      "4000.0\n",
      "4000.0\n"
     ]
    }
   ],
   "source": [
    "lunch = {\"김밥\" : 3000, \"햄버거\" : 5000, \"떡볶이\" : 4000}\n",
    "avg_lunch = (lunch[\"김밥\"] +lunch[\"햄버거\"] + lunch[\"떡볶이\"])/3   \n",
    "#딕셔너리에서 키로 꺼낼때 딕셔너리이름[]\n",
    "print(avg_lunch)\n",
    "## sum을 활용한 방법\n",
    "print((sum(lunch.values())) / len(lunch.keys()))"
   ]
  },
  {
   "cell_type": "markdown",
   "metadata": {},
   "source": [
    "#### 0720hw 2. 가로로 출력하기\n",
    "자연수를 입력받아서 가로로 1부터 자연수까지 띄어서 출력\n"
   ]
  },
  {
   "cell_type": "code",
   "execution_count": 8,
   "metadata": {
    "vscode": {
     "languageId": "markdown"
    }
   },
   "outputs": [
    {
     "name": "stdout",
     "output_type": "stream",
     "text": [
      "1 2 3 "
     ]
    }
   ],
   "source": [
    "num = int(input())\n",
    "\n",
    "for i in range(1, num +1):\n",
    "    print(i, end=\" \") #end 라는 파라미터에는 값을 \" \"으로 지정해서 준다. 키워드인자"
   ]
  },
  {
   "cell_type": "markdown",
   "metadata": {},
   "source": [
    "#### N줄 덧셈 (SWEA #2025)"
   ]
  },
  {
   "cell_type": "code",
   "execution_count": 9,
   "metadata": {
    "vscode": {
     "languageId": "markdown"
    }
   },
   "outputs": [
    {
     "name": "stdout",
     "output_type": "stream",
     "text": [
      "55\n"
     ]
    }
   ],
   "source": [
    "num = int(input())\n",
    "\n",
    "total = 0 # 누적으로 합을 저장할 변수\n",
    "# 0+1\n",
    "# (0+1)+2 ....\n",
    "for i in range(1, num+1):\n",
    "    total += i\n",
    "\n",
    "print(total)"
   ]
  },
  {
   "cell_type": "markdown",
   "metadata": {},
   "source": [
    "### 중간값 찾기 (SWEA#2063 변형)(0720hws 7번)"
   ]
  },
  {
   "cell_type": "code",
   "execution_count": 11,
   "metadata": {},
   "outputs": [
    {
     "name": "stdout",
     "output_type": "stream",
     "text": [
      "6\n"
     ]
    }
   ],
   "source": [
    "\n",
    "# 홀수일때만 가능한듯??\n",
    " num = [1, 2, 3, 4, 5, 6, 7, 8, 9]\n",
    "\n",
    " center = len(num) // 2 # 리스트의 가운데 익덱스를 얻어오기\n",
    " sorted_num = sorted(num)\n",
    " print(sorted_num[center])"
   ]
  },
  {
   "cell_type": "markdown",
   "metadata": {},
   "source": [
    "### hw_3-1"
   ]
  },
  {
   "cell_type": "code",
   "execution_count": 14,
   "metadata": {},
   "outputs": [
    {
     "name": "stdout",
     "output_type": "stream",
     "text": [
      "['apple', 'banana', 'apple', 'orange', 'orange']\n"
     ]
    }
   ],
   "source": [
    "fruits = \"apple,rottenBanana,apple,RoTTenorange,Orange\"\n",
    "\n",
    "#문자열을 split()함수를 통해 쪼개서 리스트로 만들어 준다.\n",
    "fruits_list = fruits.split(\",\")\n",
    "\n",
    "# 신선한 과일만 담을 리스트를 생성\n",
    "fresh_list=[]\n",
    "\n",
    "# 반복문을 사용해서 리스트 안의 썩은 과일을 새걸로 만든다음 신선한 과일 주머니로 옮긴다.\n",
    "# 썩은 과일이 아닐 경우 신선한 파일 주머니로 그대로 옮겨도 된다.\n",
    "\n",
    "string1 = \"RRRRR\"\n",
    "\n",
    "string2 = string1.lower() # 문자열을 모두 소문자로 바꿔주는 함수\n",
    "\n",
    "for fruit in fruits_list:\n",
    "    if \"rotten\" in fruit.lower():  \n",
    "    # 썩은 과일 => 신선한 과일\n",
    "        fresh_list.append(fruit.lower().replace(\"rotten\",\"\")) #replace(\"바꿀 문자열\", \"변경후 문자열\")\n",
    "    else:\n",
    "        #썩은과일이 아니다\n",
    "        fresh_list.append(fruit.lower())\n",
    "\n",
    "print(fresh_list)\n"
   ]
  },
  {
   "cell_type": "markdown",
   "metadata": {},
   "source": [
    "### ws 3-4 소금물"
   ]
  },
  {
   "cell_type": "code",
   "execution_count": 18,
   "metadata": {},
   "outputs": [
    {
     "name": "stdout",
     "output_type": "stream",
     "text": [
      "혼합물의 농도는 40.00, 양은 200\n"
     ]
    }
   ],
   "source": [
    "salt = 0 # 소금 양\n",
    "water = 0 # 소금물의 양\n",
    "\n",
    "count = 0 # 현재 내가 입력한 소금물의 갯수\n",
    "while count < 5:\n",
    "    command = input(\"농도를 입력하세요(Done 입력시 종료) :\")\n",
    "    if command == \"Done\" :\n",
    "        break #반복문을 즉시 종료\n",
    "\n",
    "    # 여기는 Done 을 입력하지 않았다 => command에 농도가 있다\n",
    "    density = int(command)\n",
    "    brine = int(input(\"소금물 입력 :\")) # 소금물\n",
    "\n",
    "    # 지금까지 입력받은 소금물의 소금양을 누적시킨다.\n",
    "    salt += density * brine\n",
    "\n",
    "    water += brine\n",
    "    # 입력을 하나 받았으니 카운트 증가\n",
    "    count +=1\n",
    "# 숫자 뒤 :.nf =>소수점 n자리까지 출력해줘\n",
    "print(f\"혼합물의 농도는 {salt/water:.2}, 양은{water} 입니다.\")\n",
    "density = salt/water\n",
    "print(\"혼합물의 농도는 {:.2f}, 양은 {}\".format(density , water ))"
   ]
  },
  {
   "cell_type": "markdown",
   "metadata": {},
   "source": [
    "## Up Down game"
   ]
  },
  {
   "cell_type": "code",
   "execution_count": null,
   "metadata": {},
   "outputs": [],
   "source": [
    "import random\n",
    "\n",
    "is_playing = True\n",
    "\n",
    "while is_playing:\n",
    "    print('================================')\n",
    "    print('        Up and Down Game        ')\n",
    "    print('================================')\n",
    "\n",
    "    answer = random.randint(1, 10000)  # 1이상 10000이하의 난수\n",
    "    counts = 0  # 몇 번만에 정답을 맞혔는지 담는 변수\n",
    "    # 여기부터 코드를 작성하세요.\n",
    "    # 1-1. 숫자 입력 받기(무조건 정수만 입력한다고 가정한다.)\n",
    "    while True:   \n",
    "        print()\n",
    "        number = int(input(\"1이상 10000이하의 숫자를 입력하세요. :\"))\n",
    "\n",
    "        #1-2. 범위 바깥 숫자를 입력했을때, 잘못되었다고 알려준 다음, 1-1로 돌아간다\n",
    "        if number<0 or number > 10000:\n",
    "            print(\"잘못된 범위의 숫자를 입력했습니다. 다시 입력해주세요.\")\n",
    "            continue #1-1로 돌아가야 하기 때문에 반복문의 시작을 1-1에서 다시 해준다.\n",
    "        \n",
    "        counts += 1\n",
    "\n",
    "        #2-1. 플레이어가 입력한 숫자와 정답을 비교하여 Up, Down을 출력한다.\n",
    "        # number : 플레이어가 입력한 숫자\n",
    "        # answer : 정답\n",
    "        if number > answer:\n",
    "            print(\"Down!!!!!!!!!!!!\")\n",
    "        elif number < answer:\n",
    "            print(\"Up!!!!!!!!!!!!\")\n",
    "        else:\n",
    "            #2-2 정답이라면 시도 회수와 함꼐 정답 문구를 출력한다.\n",
    "            print(f\"Correct!!! {counts}회 만에 정답을 맞히셨습니다.\")\n",
    "            print()\n",
    "            break # 정답 맞추면 반복 종료 \n",
    "    #3. 게임 재시작 여부 파악하기\n",
    "    # 3-1 재시작 여부를 묻는 문구를 출력한다.\n",
    "    command = input(\"게임을 재시작 하시려면 y, 종료하시려면 n을 입력하세요. : \")          \n",
    "\n",
    "    #3-2. y를 입력받으면 게임을 재시작\n",
    "    if command == \"y\":\n",
    "        print()\n",
    "        continue # continue로 게임을 종료하지 않고 반복하도록 한다.\n",
    "\n",
    "    #3-3. n을 입력받으면 게임을 종료\n",
    "    #3-4. y와 n 이외의 다른 문자를 입력받으면 종료\n",
    "    if command == \"n\":\n",
    "        print(\"게임을 종료합니다\")\n",
    "    else:\n",
    "        print(\"잘못된 값을 입력하셨습니다. 게임을 종료합니다.\")\n",
    "\n",
    "    is_playing = False #다음 반복문에서 조건을 검사할때 False이면 반복문을 종료한다.    "
   ]
  },
  {
   "cell_type": "markdown",
   "metadata": {},
   "source": [
    "## Vending Machine"
   ]
  },
  {
   "cell_type": "code",
   "execution_count": null,
   "metadata": {},
   "outputs": [],
   "source": [
    "print('=================================')\n",
    "print('         Vending Machine         ')\n",
    "print('=================================')\n",
    "print('[Menu]')\n",
    "print('1. 콜라 500원')\n",
    "print('2. 사이다 700원')\n",
    "print('3. 레모네이드 4500원')\n",
    "print('4. 오렌지주스 2000원')\n",
    "print('5. 초코우유 1200원')\n",
    "print('6. 아메리카노 3600원')\n",
    "print('=================================')\n",
    "\n",
    "menus = ['콜라', '사이다', '레모네이드', '오렌지주스', '초코우유', '아메리카노']  # 메뉴 이름\n",
    "costs = [500, 700, 4500, 2000, 1200, 3600]  # 메뉴 가격\n",
    "budget = 0  # 자판기에 넣은 총 누적 금액\n",
    "\n",
    "while True:\n",
    "    print()\n",
    "    #1-1. 금액넣기\n",
    "    money = int(input('금액을 넣어주세요.(그만 넣으시려면 0을 입력하세요.) : '))\n",
    "\n",
    "    # 여기부터 코드를 작성하세요.\n",
    "    #1-4. 0을 입력하면 반복문 탈출 (더이상 금액을 넣지 않음)\n",
    "    if money == 0:\n",
    "        break\n",
    "    #1-3. 음수를 입력하면 문구 출력 후에 1-1로 돌아간다.\n",
    "    if money <0:\n",
    "        print(\"금액은 1원 이상 넣어주세요.\")\n",
    "        continue\n",
    "\n",
    "\n",
    "    #1-2. 금액누적\n",
    "    #금액을 넣을 때마다 누적 금액에 합산한다. 이후 처음으로 돌아간다.\n",
    "    budget += money\n",
    "    #budget = budget +money\n",
    "    print(f\"현재 누적 금액은 {budget}원 입니다.\")\n",
    "\n",
    "print()\n",
    "\n",
    "# 2. 메뉴 출력\n",
    "\n",
    "# 2-1. 지금까지 넣은 돈이 메뉴중에 제일 저렴한 메뉴의 가격보다 낮으면\n",
    "# 구매 가능한 메뉴가 없다 라고 출력한 다음 종료\n",
    "if budget < 500:\n",
    "    print(f\"{budget}원으로 구매 가능한 메뉴가 없습니다.\")\n",
    "else:\n",
    "    #2-2.구매 가능한 메뉴 출력\n",
    "    print(f\"{budget}원으로 구매 가능한 메뉴는 다음과 같습니다.\")\n",
    "    #반복문을 통해 지금까지 넣은 돈 이하의 가격을 가진 메뉴만 출력\n",
    "    for i in range(6): # 0~5\n",
    "        if costs[i] <= budget:\n",
    "            print(f\"{i+1}. {menus[i]} {costs[i]}원\")\n",
    "    \n",
    "\n",
    "    while True:\n",
    "        print()\n",
    "    #3-1. 구매할 메뉴 선택\n",
    "        choice = int(input(\"구매하실 메뉴의 번호를 입력하세요:\"))\n",
    "\n",
    "    #구매 가능한 메뉴를 골랐다면 구매를 진행\n",
    "    #구매 가능한 메뉴의 조건: 번호가 1이상 6이하 and 내가 넣은 돈이 메뉴 가격보다 커야함\n",
    "        if 1 <= choice  <= 6 and costs[choice - 1] <= budget:\n",
    "            break \n",
    "    #구매할 수 없는 메뉴를 골랐다면 구매할수 없다고 출력한 뒤에 3-1로 돌아가야된다.\n",
    "        print(\"구매할 수 없는 메뉴입니다.\")\n",
    "\n",
    "print()\n",
    "\n",
    "# 거스름돈 반환\n",
    "# 4-1. 어떤 메뉴를 선택햇는지\n",
    "print(f\"{menus[choice-1]}를 구매하셨습니다.\")\n",
    "\n",
    "print(f\"거스름돈은 {budget-costs[choice-1]}원입니다. 감사합니다.\")\n",
    "    "
   ]
  },
  {
   "cell_type": "code",
   "execution_count": null,
   "metadata": {
    "vscode": {
     "languageId": "markdown"
    }
   },
   "outputs": [],
   "source": []
  }
 ],
 "metadata": {
  "kernelspec": {
   "display_name": "Python 3.10.5 64-bit",
   "language": "python",
   "name": "python3"
  },
  "language_info": {
   "codemirror_mode": {
    "name": "ipython",
    "version": 3
   },
   "file_extension": ".py",
   "mimetype": "text/x-python",
   "name": "python",
   "nbconvert_exporter": "python",
   "pygments_lexer": "ipython3",
   "version": "3.10.5"
  },
  "orig_nbformat": 4,
  "vscode": {
   "interpreter": {
    "hash": "369f2c481f4da34e4445cda3fffd2e751bd1c4d706f27375911949ba6bb62e1c"
   }
  }
 },
 "nbformat": 4,
 "nbformat_minor": 2
}
