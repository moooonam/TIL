{
 "cells": [
  {
   "cell_type": "markdown",
   "metadata": {},
   "source": [
    "# 0727TIL "
   ]
  },
  {
   "cell_type": "markdown",
   "metadata": {},
   "source": [
    "### 객체 지향 프로그래밍(OOP)\n",
    "컴퓨터 프로그래밍의 패러다임 중 하나\n",
    "객체 지향 프로그래밍은 컴퓨터 프로그램을 명령어의 목록으로 보는 시각에서 벗어나 여러개의 독립된 단위,  \n",
    "즉 \"객체\"들의 모임으로 파악하고자 하는 것이다. 각각의 객체는 메시지를 주고받고, 데이터를 처리할 수 있다.  \n",
    "  \n",
    "메세지를 주고 받는다 => 메소드(함수)를 사용한다.\n",
    "  \n",
    "데이터를 처리한다 => 객체안에 정보를 저장하거나 메소드를 통해 가공한다.  \n",
    "  \n",
    "현실세계를 프로그램 설계에 반영하는 방법이다.  \n",
    "\n",
    "\n",
    "#### 장점 \n",
    "\n",
    "- 클래스 단위로 모듈화시켜 개발할 수 있으므로 많인 인원이 참여하는 대규모 소프트웨어 개발에 적합\n",
    "- 필요한 부분만 수정하기 쉽기 때문에 프로그램의 유지보수가 쉬움\n",
    "  \n",
    "#### 단점\n",
    "\n",
    "- 설계 시 많은 노력과 시간이 필요함\n",
    "- 실행 속도가 상대적으로 느림\n",
    "  \n",
    "## 객체(컴퓨터과학)\n",
    "\n",
    "컴퓨터 과학에서 객체 또는 오브젝트는 **클래스에서 정의한 것을 토대로 메모리에 할당된 것으로**   \n",
    "프로그램에서 사용되는 데이터 또는 식별자에 의해 참조되는 공간을 의미하며,   \n",
    "변수, 자료구조, 함수 또는 메서드가 될 수 있다. => 속성과 행동으로 구성된 모든것\n",
    "\n",
    "### 클래스 와 객체 \n",
    "\n",
    "**클래스** : 객체를 어떻게 만들어야 하는지 나와있는 설계도  \n",
    "(객체의 구서이 어떻게 되어있는지 : 속성은 어떻게 되어있고, 행동(동작)은 무엇무엇이 있는지...)\n",
    "\n",
    "가수 클래스\n",
    "가수의 속성 : 이름, 대표곡, 생년월일, 국적\n",
    "가수의 행동(동작) : 랩하기, 노래하기, 춤추기\n",
    "\n",
    "**객체** : 설계또(클래스)를 통해서 실제로 만들어낸 사례 \n",
    "\n",
    "가수 객체\n",
    "임재범 : 이름=임재범, 대표곡=너를 위해 ....\n",
    "임재범은 행동(동작) : 랩하기, 노래하기...\n",
    "\n",
    "### 인스턴스??\n",
    "\n",
    "임재범은 객체다(O)  \n",
    "임재범은 인스턴스다(X)  \n",
    "임재범은 가수의 인스턴스다(O)  \n",
    "  \n",
    "자동차 클래스  \n",
    "  \n",
    "소나타는 객체다(O)  \n",
    "소나타는 인스턴스다(X)  \n",
    "소나타는 자동차의 인스턴스다(O)  \n",
    "  \n",
    "  \n",
    "  \n",
    "우리가 사용하고 있는 파이썬의 모든 데이터\n",
    "정수, 문자열, 리스트 ...=> 객체"
   ]
  },
  {
   "cell_type": "code",
   "execution_count": 1,
   "metadata": {},
   "outputs": [
    {
     "name": "stdout",
     "output_type": "stream",
     "text": [
      "<class 'int'>\n",
      "<class 'str'>\n",
      "<class 'list'>\n"
     ]
    }
   ],
   "source": [
    "a = 7\n",
    "b = \"문자열\"\n",
    "c = []\n",
    "# 어떤 변수안에 저장되어있는 데이터의 타입(클래스)을 알고싶다 ==> type()\n",
    "print(type(a))\n",
    "print(type(b))\n",
    "print(type(c))"
   ]
  },
  {
   "cell_type": "code",
   "execution_count": 2,
   "metadata": {},
   "outputs": [
    {
     "name": "stdout",
     "output_type": "stream",
     "text": [
      "[1, 2, 3]\n",
      "BANANA\n"
     ]
    }
   ],
   "source": [
    "a = [3, 2, 1]\n",
    "\n",
    "a.sort() # sort() ==> a객체의 행동, 메소드\n",
    "\n",
    "print(a)\n",
    "\n",
    "b = \"banana\"\n",
    "\n",
    "b.upper() # upper() ==> b 객체의 행동, 메소드\n",
    "\n",
    "print(b.upper())"
   ]
  },
  {
   "cell_type": "markdown",
   "metadata": {},
   "source": [
    "객체는 특정타입(클래스)의 인스턴스이다....\n",
    "\n",
    "- 123, 900, 5 는 모두 int의 인스턴스\n",
    "- \"hello\", \"hi\"는 모두 str 의 인스턴스\n",
    "- [1,2,3], [] 는 모두 list의 인스턴스\n",
    "  \n",
    "객체  \n",
    "속성 : 어떤 상태(데이터)를 가지는가??  \n",
    "메소드 : 어떤 행위(동작)을 할 수 있는가??  \n",
    "타입 : 어떤 클래스를 통해 만들어진 객체인가??  \n",
    "\n",
    "객체를 만들기 위해서는 클래스가 필요하다.  \n",
    "\n",
    "클래스 정의하는 방법\n",
    "\n",
    "class MyClass: **클래스의 이름은 대문자로 시작하는게 관례**  \n",
    "       pass  \n",
    "  \n",
    "인스턴스를 생성(객체 생성)  \n",
    "  \n",
    "my_instance = MyClass() 클래스의 이름 + ()  \n",
    "  \n",
    "메소드를 호출한다 (객체를 동작시킨다.) \n",
    "\n",
    "my_istance.my_method()  \n",
    "\n",
    "[3, 2, 1].sort()  \n",
    "\n",
    "속성(객체 안에 저장되어있는 데이터) : 괄호를 사용하지 않는다.  \n",
    "\n",
    "my_instanve.my_attribute\n"
   ]
  },
  {
   "cell_type": "code",
   "execution_count": 4,
   "metadata": {},
   "outputs": [
    {
     "name": "stdout",
     "output_type": "stream",
     "text": [
      "야옹\n",
      "white\n"
     ]
    }
   ],
   "source": [
    "# 클래스 생성(정의)\n",
    "\n",
    "class Cat:\n",
    "    color = 'white'\n",
    "    \n",
    "    def make_sound(self):\n",
    "        print(\"야옹\")\n",
    "# 객체(인스턴스) 생성\n",
    "\n",
    "my_cat = Cat()\n",
    "\n",
    "#Cat 클래스의 메소드를 사용한다.\n",
    "my_cat.make_sound()\n",
    "\n",
    "#Cat 클래스의 속성을 사용한다.\n",
    "print(my_cat.color)"
   ]
  },
  {
   "cell_type": "markdown",
   "metadata": {},
   "source": [
    "## 변수의 종류??\n",
    "\n",
    "1. 클래스변수(공통으로 가지고 있는 속성)\n",
    "2. 인스턴스변수(인스턴스마다 다르게 가지고 있는 속성)\n",
    "\n",
    "class Car:\n",
    "\n",
    "소나타 : 바퀴가 4개, 이름 : \"소나타\"\n",
    "\n",
    "그랜저 : 바퀴가 4개, 이름 : \"그랜저\"\n",
    "\n",
    "바퀴 ==> 클래스 변수  \n",
    "이름 ==> 인스턴스변수"
   ]
  },
  {
   "cell_type": "code",
   "execution_count": 7,
   "metadata": {},
   "outputs": [
    {
     "name": "stdout",
     "output_type": "stream",
     "text": [
      "소나타이름을 가진 Car 인스턴스가 생성됨\n",
      "4\n",
      "소나타\n"
     ]
    }
   ],
   "source": [
    "class Car:\n",
    "    tire = 4 # 클래스 변수\n",
    "\n",
    "    def __init__(self, name): # self=> 자기자신을 뜻하는 파라미터\n",
    "        # __init__ 함수는 객체(인스턴스)가 생성될때 반드시 실행되는 함수\n",
    "        print(f\"{name}이름을 가진 Car 인스턴스가 생성됨\")\n",
    "        self.name = name  #인스턴스 변수를 할당\n",
    "\n",
    "my_car = Car(\"소나타\")\n",
    "print(my_car.tire)\n",
    "print(my_car.name)"
   ]
  },
  {
   "cell_type": "code",
   "execution_count": 9,
   "metadata": {},
   "outputs": [
    {
     "name": "stdout",
     "output_type": "stream",
     "text": [
      "소나타이름을 가진 Car 인스턴스가 생성됨\n",
      "아반떼이름을 가진 Car 인스턴스가 생성됨\n",
      "2\n",
      "2\n",
      "2\n",
      "4\n",
      "===========\n",
      "6\n",
      "4\n",
      "6\n"
     ]
    }
   ],
   "source": [
    "a_car = Car(\"소나타\")\n",
    "b_car = Car(\"아반떼\")\n",
    "\n",
    "# 클래스 변수를 수정\n",
    "Car.tire = 2\n",
    "print(a_car.tire)\n",
    "print(b_car.tire)\n",
    "\n",
    "# 클래스 변수를 클래스가 아니라 인스턴스를 통해 수정\n",
    "b_car.tire = 4 #b_car 인스턴스의 tire라는 이름을 가진 인스턴스 변수를 생성해서 거기에 4를 할당\n",
    "print(a_car.tire)\n",
    "print(b_car.tire)\n",
    "\n",
    "print('===========')\n",
    "\n",
    "Car.tire = 6\n",
    "print(a_car.tire)\n",
    "print(b_car.tire)#인스턴스 변수를 클래스 변수보다 먼저 찾아서 할당하기 때문에\n",
    "#b_car는 tire 클래스 변수를 공통으로 사용할 수가 없게 된다\n",
    "\n",
    "del b_car.tire\n",
    "print(b_car.tire)"
   ]
  },
  {
   "cell_type": "markdown",
   "metadata": {},
   "source": [
    "## self ==> 인스턴스 자기 자신을 뜻한다 (클래스가 아니다)\n",
    "\n",
    "## cls ==> 클래스를 뜻한다 (공통)"
   ]
  },
  {
   "cell_type": "code",
   "execution_count": 10,
   "metadata": {},
   "outputs": [
    {
     "name": "stdout",
     "output_type": "stream",
     "text": [
      "초코\n"
     ]
    }
   ],
   "source": [
    "class Dog:\n",
    "    pass\n",
    "\n",
    "a_dog = Dog()\n",
    "\n",
    "a_dog.name = \"초코\" #이런식으로도 사용이 가능하긴 하다\n",
    "a_dog.color = \"검은색\"\n",
    "\n",
    "print(a_dog.name)"
   ]
  },
  {
   "cell_type": "markdown",
   "metadata": {},
   "source": [
    "## 메서드(메소드..)\n",
    "\n",
    "1. 인스턴스메서드\n",
    "   1. 인스턴스 변수를 사용하거나 인스턴스 변수에 값을 설정할 수 있는 메서드\n",
    "   2. 대부분의 클래스의 내부에 선언되는 메서드의 종류\n",
    "   3. 호출시 첫번째 인자로 인스턴스 자기자신을 뜻하는 self가 전달된다.\n",
    "2. 클래스메서드\n",
    "3. 정적메서드"
   ]
  },
  {
   "cell_type": "code",
   "execution_count": null,
   "metadata": {},
   "outputs": [],
   "source": [
    "class MyClass:\n",
    "\n",
    "    def method1(self): # 인스턴스메서드다!\n",
    "        pass\n",
    "\n",
    "my_class1= MyClass()\n",
    "my_class2= MyClass()"
   ]
  },
  {
   "cell_type": "markdown",
   "metadata": {},
   "source": [
    "## 클래스 메서드\n",
    "\n",
    "클래스가 사용할 메서드\n",
    "\n",
    "메서드 위에 @classmethod 데코레이터를 사용하여 정의한다\n",
    "\n",
    "호출시, 첫번째 인자로 cls(클래스) 클래스 자기 자신을 뜻하는 인자가 전달된다."
   ]
  },
  {
   "cell_type": "code",
   "execution_count": 14,
   "metadata": {},
   "outputs": [
    {
     "name": "stdout",
     "output_type": "stream",
     "text": [
      "인구수는 3입니다.\n"
     ]
    }
   ],
   "source": [
    "class MyClass:\n",
    "    count = 0 # 클래스변수\n",
    "    def __init__(self):\n",
    "        MyClass.count += 1\n",
    "\n",
    "    @classmethod\n",
    "    def number_of_population(cls): #cls : 클래스를 뜻하는 인자\n",
    "        print(f\"인구수는 {cls.count}입니다.\")\n",
    "\n",
    "my_class1 = MyClass()\n",
    "my_class2 = MyClass()\n",
    "my_class3 = MyClass()\n",
    "\n",
    "MyClass.number_of_population()"
   ]
  },
  {
   "cell_type": "markdown",
   "metadata": {},
   "source": [
    "## 데코레이터\n",
    "\n",
    "함수를 꾸며주는 일을 하는 함수\n",
    "\n",
    "순서대로(위에서 아래) 적용되기 때문에 순서가 중요"
   ]
  },
  {
   "cell_type": "code",
   "execution_count": 16,
   "metadata": {},
   "outputs": [
    {
     "name": "stdout",
     "output_type": "stream",
     "text": [
      "함수 시작\n",
      "hello\n",
      "함수 종료\n"
     ]
    }
   ],
   "source": [
    "# 함수를 꾸미는 함수 만들기 (데코레이터)\n",
    "def add_print(original) : #original : 꾸며줄 대상이 되는 함수\n",
    "    def wrapper() : # 함수 내에서 새로운 함수를 선언한다.\n",
    "        print(\"함수 시작\") #추가기능: 함수 시작 전에 출력\n",
    "        original()\n",
    "        print(\"함수 종료\") #추가기능: 함수 종료시 출련\n",
    "    return wrapper # 새로 만든 함수를 리턴한다.\n",
    "\n",
    "# 꾸미고 싶은 함수\n",
    "@add_print\n",
    "def print_hello():\n",
    "    print(\"hello\")\n",
    "\n",
    "print_hello()\n"
   ]
  },
  {
   "cell_type": "markdown",
   "metadata": {},
   "source": [
    "## 클래스 메서드와 인스턴스 메서드의 차이\n",
    "\n",
    "클래스 메서드는 ==> 클래스 변수를 사용한다(인스턴스 변수 사용XXX)\n",
    "\n",
    "인스턴스 메서드는 ==> 클래스 변수도 사용할 수 있고, 인스턴스 변수도 사용할 수 있다."
   ]
  },
  {
   "cell_type": "markdown",
   "metadata": {},
   "source": [
    "스태틱 메서드\n",
    "\n",
    "인스턴스 변수, 클래스 변수도 사용하지 않는 메서드\n",
    "\n",
    "언제 사용하는가?\n",
    "\n",
    "클래스의 속성을 아예 다루지 않고 단지기능(행동)만을 사용 할 때 사용하는 메서드\n",
    "\n",
    "@staticmethod 데코레이터를 사용해서 정의"
   ]
  },
  {
   "cell_type": "code",
   "execution_count": 17,
   "metadata": {},
   "outputs": [
    {
     "name": "stdout",
     "output_type": "stream",
     "text": [
      "2\n",
      "True\n",
      "True\n"
     ]
    }
   ],
   "source": [
    "class Person:\n",
    "    count = 0 #클래스 변수\n",
    "\n",
    "    def __init__(self):\n",
    "        Person.count+=1\n",
    "\n",
    "    @staticmethod\n",
    "    def check_rich(money): #스태틱 메서드는 cls, self 사용 불가\n",
    "        return money > 10000\n",
    "\n",
    "person1 = Person()\n",
    "person2 = Person()\n",
    "\n",
    "print(Person.count)\n",
    "print(person1.check_rich(20000))\n",
    "print(Person.check_rich(30000))"
   ]
  },
  {
   "cell_type": "markdown",
   "metadata": {},
   "source": [
    "인스턴스 메서드  \n",
    "- 호출한 인스턴스를 의미하는 self 매개변수를 통해 인스턴스를 조작\n",
    "\n",
    "클래스 메서드  \n",
    "- 클래스를 의미하는 cls 매개변수를 통해 클래스를 조작\n",
    "\n",
    "스태틱 메서드  \n",
    "- 클래스 변수나 인스턴스 변수를 사용하지 않는 경우에 사용  \n",
    "-  객체의 상태나 클래스의 상태를 변경할 수 없다."
   ]
  },
  {
   "cell_type": "markdown",
   "metadata": {},
   "source": [
    "## 객체지향의 핵심개념 4가지\n",
    "\n",
    "#### 상추캐다\n",
    "\n",
    "- 상속 : 클래스의 자원을 재사용할 수 있도록 만들어주는 기술(코드의 중복을 줄인다.)\n",
    "- 추상화 : 복잡한 것은 숨기고, 필요한것만 노출\n",
    "- 캡슐화\n",
    "- 다향성\n"
   ]
  },
  {
   "cell_type": "code",
   "execution_count": 41,
   "metadata": {},
   "outputs": [
    {
     "name": "stdout",
     "output_type": "stream",
     "text": [
      "반갑습니다.제 이름은 김싸피입니다.\n",
      "반갑습니다.제 이름은 박싸피입니다.\n",
      "<__main__.Person object at 0x00000283B25997B0>\n"
     ]
    }
   ],
   "source": [
    "class Person:\n",
    "\n",
    "    def __init__(self, name):\n",
    "        \n",
    "        self.name = name\n",
    "\n",
    "    def talk(self):\n",
    "        \n",
    "        print(f\"반갑습니다.제 이름은 {self.name}입니다.\")\n",
    "\n",
    "class Student(Person):\n",
    "\n",
    "    def __init__(self, name, grade):\n",
    "        self.name = name\n",
    "        self.grade = grade\n",
    "\n",
    "\n",
    "person1 = Person(\"김싸피\")\n",
    "student1 = Student(\"박싸피\", 1)\n",
    "\n",
    "person1.talk()\n",
    "student1.talk()\n",
    "\n",
    "\n",
    "\n",
    "\n",
    "\n"
   ]
  },
  {
   "cell_type": "markdown",
   "metadata": {},
   "source": [
    "## 상속\n",
    "\n",
    "파이썬의 모든 클래스는 object 라는 클래스로부터 상속된다  \n",
    "(모든 클래스의 부모를 계속 알아가다 보면 마지막에 object)\n",
    "\n",
    "부모클래스의 모든 요소(속성, 메소드)가 상속된다.  \n",
    "== 자식클래스는 부모클래스의 속성, 메소드를 사용할 수 있다.  \n",
    "== super() 를 통해 부모클래스의 요소를 호출 가능하다.  \n",
    "\n",
    "\n",
    "### 매소드 오버라이딩\n",
    "자식 클래스에서 부모의 메소드를 재정의하는 기능\n",
    "\n",
    "부모의 메소드를 호출하는데, 자식이 재정의 해버리면\n",
    "\n",
    "재정의 한대로 실행된다.(부모에서 작성된 기능으로는 동작하지 않는다.)\n",
    "\n",
    "상속관계에서 이름공간을 탐색하는 순서  \n",
    "인스턴스==> 자식클래스 ==> 부모클래스\n",
    "\n",
    "\n",
    "파이썬에서는 다중상속 (여러개의 클래스의 기능을 물려받아 사용하는게 가능하다.)    \n",
    "상속받는 모든 클래스들의 기능을 사용 가능하다"
   ]
  },
  {
   "cell_type": "code",
   "execution_count": 33,
   "metadata": {},
   "outputs": [
    {
     "name": "stdout",
     "output_type": "stream",
     "text": [
      "XY\n"
     ]
    }
   ],
   "source": [
    "class Person:\n",
    "    pass\n",
    "\n",
    "\n",
    "class Mom(Person):\n",
    "    gene = \"XX\" #클래스\n",
    "\n",
    "class Dad(Person):\n",
    "    gene = \"XY\"\n",
    "\n",
    "class Baby(Dad, Mom):\n",
    "    pass\n",
    "\n",
    "print(Baby.gene)"
   ]
  },
  {
   "cell_type": "markdown",
   "metadata": {},
   "source": [
    "## 다형성\n",
    "\n",
    "동일한 이름을 가진 메서드가 클래스에 따라 다르게 동작하는 것을 말한다.\n",
    "\n",
    "메서드 오버라이딩을 통해 구현"
   ]
  },
  {
   "cell_type": "code",
   "execution_count": 35,
   "metadata": {},
   "outputs": [
    {
     "name": "stdout",
     "output_type": "stream",
     "text": [
      "소리를 낸다.\n",
      "개는 멍멍 짖는다.\n",
      "고양이는 야옹한다\n"
     ]
    }
   ],
   "source": [
    "class Animal:\n",
    "\n",
    "    def make_sound(self):\n",
    "        print(\"소리를 낸다.\")\n",
    "\n",
    "class Dog(Animal):\n",
    "\n",
    "    def make_sound(self):\n",
    "        print(\"개는 멍멍 짖는다.\")\n",
    "\n",
    "class Cat(Animal):\n",
    "\n",
    "    def make_sound(self):\n",
    "        print(\"고양이는 야옹한다\")\n",
    "\n",
    "animal1 = Animal()\n",
    "dog1 = Dog()\n",
    "cat1 = Cat()\n",
    "\n",
    "animal1.make_sound()\n",
    "dog1.make_sound()\n",
    "cat1.make_sound()\n"
   ]
  },
  {
   "cell_type": "markdown",
   "metadata": {},
   "source": [
    "## 캡슐화\n",
    "\n",
    "객체의 일부 구현 내용에 대해 외부로부터 직접적인 접근을 차단한다.\n",
    "\n",
    "==> 객체 내부에 숨기고 싶은 정보가 있을때 사용  \n",
    "==> 사람 객체의 주민등록번호 같은것들...\n",
    "\n",
    "\n",
    "파이썬에서 암묵적으로 존재하지만, 언어적으로는 존재하지 않는다.\n"
   ]
  },
  {
   "cell_type": "markdown",
   "metadata": {},
   "source": [
    "접근 제어자\n",
    "\n",
    "접근할 수 있는 범위를 지정한다.\n",
    "\n",
    "- public : 언더바 없이 시작하는 메서드나 속성, 어디서나 호출이 가능하다(누구나 사용 가능)\n",
    "- protected : 언더바 1개로 시작하는 메서드나 속성, 암묵적 규칙에 의해서 부모 클래스와 지식 클래스에서만 호출이 가능하다.\n",
    "- private : 언더바 2개로 시작하는 메서드나 속성, 오직 자기 자신만이 사용가능하다. 외부에서 접근이 불가능\n",
    "\n",
    "\n",
    "## getter / setter\n",
    "변수에 접근할 수 있는 메서드를 별도로 생성해서 사용할 수 있게 한다.\n",
    "\n",
    "getter: 변수의 값을 읽어주는 메서드\n",
    "- @propery 데코레이터 사용\n",
    "  \n",
    "setter : 변수의 값을 설정하는 메서드\n",
    "- @변수.setter 사용"
   ]
  },
  {
   "cell_type": "code",
   "execution_count": null,
   "metadata": {},
   "outputs": [],
   "source": []
  },
  {
   "cell_type": "code",
   "execution_count": null,
   "metadata": {},
   "outputs": [],
   "source": []
  },
  {
   "cell_type": "code",
   "execution_count": null,
   "metadata": {},
   "outputs": [],
   "source": []
  },
  {
   "cell_type": "code",
   "execution_count": null,
   "metadata": {},
   "outputs": [],
   "source": []
  }
 ],
 "metadata": {
  "kernelspec": {
   "display_name": "Python 3.10.5 64-bit",
   "language": "python",
   "name": "python3"
  },
  "language_info": {
   "codemirror_mode": {
    "name": "ipython",
    "version": 3
   },
   "file_extension": ".py",
   "mimetype": "text/x-python",
   "name": "python",
   "nbconvert_exporter": "python",
   "pygments_lexer": "ipython3",
   "version": "3.10.5"
  },
  "orig_nbformat": 4,
  "vscode": {
   "interpreter": {
    "hash": "369f2c481f4da34e4445cda3fffd2e751bd1c4d706f27375911949ba6bb62e1c"
   }
  }
 },
 "nbformat": 4,
 "nbformat_minor": 2
}
