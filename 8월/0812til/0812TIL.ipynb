{
 "cells": [
  {
   "cell_type": "markdown",
   "metadata": {},
   "source": [
    "# 0812(금) TIL\n"
   ]
  },
  {
   "cell_type": "code",
   "execution_count": 4,
   "metadata": {},
   "outputs": [
    {
     "name": "stdout",
     "output_type": "stream",
     "text": [
      "3\n"
     ]
    }
   ],
   "source": [
    "#strlen()함수 만들어 보기\n",
    "def strlen(a):\n",
    "    i=0\n",
    "    while a[i]!='\\0':\n",
    "        i+=1    \n",
    "    return i\n",
    "a= ['a','b','c','\\0']\n",
    "print(strlen(a))"
   ]
  },
  {
   "cell_type": "code",
   "execution_count": 29,
   "metadata": {},
   "outputs": [
    {
     "name": "stdout",
     "output_type": "stream",
     "text": [
      "sgnirts siht esreveR\n"
     ]
    }
   ],
   "source": [
    "#문자열 뒤집기\n",
    "def my_reverse0(word):\n",
    "    word=list(word)\n",
    "    for i in range(len(word)//2):\n",
    "        word[i],word[len(word)-i-1]=word[len(word)-i-1],word[i]\n",
    "    word= ''.join(word)\n",
    "    return word\n",
    "\n",
    "s= 'Reverse this strings'\n",
    "print(my_reverse(s))\n",
    "\n",
    "# 문자열 뒤집기 교수님ver\n",
    "# 1.역순으로 쌓기\n",
    "def my_reverse1(s):\n",
    "    n = len(s)\n",
    "    new_s=\"\"#새로 만들 문자열\n",
    "    for i in range(n-1,-1,-1):\n",
    "        new_s+=s[i]\n",
    "    return new_s\n",
    "# 2. swap\n",
    "def my_reverse2(s):\n",
    "    n= len(s)\n",
    "    s_list=list(s)\n",
    "    for i in range(n//2):\n",
    "        s_list[i], s_list[n-1-i] = s_list[n-i-1], s_list[i]\n",
    "    new_s = \"\".join(s_list)\n",
    "    new_s = \"\"\n",
    "    for c in s_list:\n",
    "        new_s +=c\n",
    "    return new_s"
   ]
  },
  {
   "cell_type": "code",
   "execution_count": 34,
   "metadata": {},
   "outputs": [
    {
     "name": "stdout",
     "output_type": "stream",
     "text": [
      "True\n",
      "False\n",
      "True\n",
      "True\n",
      "===============\n",
      "True\n",
      "False\n",
      "True\n",
      "False\n"
     ]
    }
   ],
   "source": [
    "# == 과 is 비교\n",
    "s1 ='abc'\n",
    "s2 ='abc'\n",
    "s3 ='def'\n",
    "s4 = s1\n",
    "s5 = s1[:2]+'c'\n",
    "print(s1==s2)\n",
    "print(s1==s3)\n",
    "print(s1==s4)\n",
    "print(s1==s5)\n",
    "print('===============')\n",
    "print(s1 is s2)\n",
    "print(s1 is s3)\n",
    "print(s1 is s4)\n",
    "print(s1 is s5)"
   ]
  },
  {
   "cell_type": "code",
   "execution_count": null,
   "metadata": {},
   "outputs": [],
   "source": [
    "# 파이썬에서 사전 비교를 >,< 이거로 가능한듯\n",
    "# 파이썬에서 문자열에 부등호 사용시 문자의 ASCII값을 비교\n",
    "def my_vs(str1, str2):\n",
    "    if str1==str2:\n",
    "        return 0\n",
    "    elif str1>str2:\n",
    "        return 1\n",
    "    elif str1<str2:\n",
    "        return -1\n",
    "str1='afsdf'\n",
    "str2='afdfd'\n",
    "print(my_vs(str1, str2))\n",
    "# 교수님 ver\n"
   ]
  },
  {
   "cell_type": "code",
   "execution_count": 43,
   "metadata": {},
   "outputs": [
    {
     "name": "stdout",
     "output_type": "stream",
     "text": [
      "1234\n"
     ]
    }
   ],
   "source": [
    "# str()함수 안쓰고 정수를 문자열로 바꾸기\n",
    "def itoa(a):\n",
    "    i = 10\n",
    "    s = \"\" #숫자를 문자열로 바꾼 결과\n",
    "    while a>0:\n",
    "        mod= a%i\n",
    "        s+=chr(ord('0')+mod)\n",
    "        a//=10\n",
    "    return s[::-1]\n",
    "\n",
    "\n",
    "a=1234\n",
    "print(itoa(a))\n",
    "\n"
   ]
  },
  {
   "cell_type": "code",
   "execution_count": 61,
   "metadata": {},
   "outputs": [
    {
     "name": "stdout",
     "output_type": "stream",
     "text": [
      "sd\n",
      "True\n",
      "False\n",
      "9\n",
      "True\n",
      "===========\n",
      "True\n"
     ]
    }
   ],
   "source": [
    "#문자열 인덱스로 이런식으로 불러올수도 있음\n",
    "a= 'sdfsdfsdf'\n",
    "print(a[0:2])\n",
    "print(a[2]=='f')\n",
    "print(a[2]=='c')\n",
    "print(len(a))\n",
    "b='01011111'\n",
    "print(b[1]=='1')\n",
    "print('===========')\n",
    "# 실험실\n",
    "a = int(31)\n",
    "b = str(a)\n",
    "print('1'in b)\n",
    "\n"
   ]
  },
  {
   "cell_type": "markdown",
   "metadata": {},
   "source": [
    "## 최소공배수,최대공약수,소수\n",
    "\n",
    "- 최소공배수: 두수에 서로 공통으로 존재하는 배수 중 가장 작은수\n",
    "- 최대공약수: 두수에 서로 공통으로 존재하는 약수 중 가장 큰수\n",
    "- 소수: 약수가 1또는 자기 자신밖에 없는 숫자\n",
    "\n",
    "## 유클리드 호제법\n",
    "\n",
    "- 2개의 자연수 a,b(a>b)에 대해서 a를 b로 나눈 나머지가 r일때, a와 b의 최대공약수는 b와 r의 최대 공약수와 같다. 이 과정을 반복해서 나머지가 0이 되었을때, 이때 나누는 수가 a와 b의 최대공약수이다.\n",
    "\n",
    "- 최소 공배수의 성질\n",
    "  - 두 수 a와 b의 최소공배수는 a와 b의 곱을 a와 b의 최대 공약수로 나눈것과 같다."
   ]
  },
  {
   "cell_type": "code",
   "execution_count": 46,
   "metadata": {},
   "outputs": [
    {
     "name": "stdout",
     "output_type": "stream",
     "text": [
      "4\n"
     ]
    }
   ],
   "source": [
    "# 최대 공약수 구하기\n",
    "# gcd: greates common divisor\n",
    "def gcd(a, b):\n",
    "    r=0\n",
    "    #a를 나누어 떨어질 때까지 나눈다.\n",
    "    while b!=0:\n",
    "        r = a%b\n",
    "        a = b\n",
    "        b = r\n",
    "    return a\n",
    "print(gcd(16,36))"
   ]
  },
  {
   "cell_type": "markdown",
   "metadata": {},
   "source": [
    "## 소수 구하는 방법 (소수인지 확인하는 방법)\n"
   ]
  },
  {
   "cell_type": "code",
   "execution_count": null,
   "metadata": {},
   "outputs": [],
   "source": [
    "# 숫자 n이 소수이면 True 리턴, 소수가 아니면 False 를 리턴하도록\n",
    "# 소수인지 판별하는 방법은 1부터 n까지 나누었을때 약수가 1또는 자기 자신밖에 없으면 소수\n",
    "def is_prime(n):\n",
    "    if (n<2):\n",
    "        return False\n",
    "    for i in range(2,n):\n",
    "        # 나눴을때 나머지가 0인게 있다면 소수가 아니다\n",
    "        if n%i==0:\n",
    "            return False\n",
    "    \n",
    "    return True"
   ]
  },
  {
   "cell_type": "markdown",
   "metadata": {},
   "source": [
    "## 에라토스테네스의 체\n",
    "\n",
    "- 수학자 에라토스테네스가 고안한 방법, 마치 체로 치듯이 수를 걸러낸다고해서 붙여진 이름이다.\n"
   ]
  },
  {
   "cell_type": "code",
   "execution_count": 58,
   "metadata": {},
   "outputs": [
    {
     "name": "stdout",
     "output_type": "stream",
     "text": [
      "[2, 3, 5, 7, 11, 13, 17, 19, 23, 29]\n"
     ]
    }
   ],
   "source": [
    "def get_prime(n):# n까지의 숫자중에서 소수를 구한다.\n",
    "    arr = [True]*(n+1)\n",
    "    for i in range(2, int(n*(1/2))):\n",
    "        if arr[i]: # 만약 i번째 수가 소수다\n",
    "            # 소수의 배수를 모두 소사가 아니라고 체크\n",
    "            for j in range(i+i, n+1, i):\n",
    "                arr[j] =False\n",
    "    return [i for i in range(2, n+1) if arr[i]==True]\n",
    "\n",
    "print(get_prime(30))"
   ]
  },
  {
   "cell_type": "markdown",
   "metadata": {},
   "source": [
    "#### n 까지 다 검사하지 않고, n의 제곱근 까지만 검사해서 최적화함\n",
    "#### 제곱근을 쓰는 이유?\n",
    "- n = a*b로 나타낼 수 있다. n'를 n의 제곱근이라 하자.\n",
    "- n= n'* n' 여기서 a>=n'일때, b<= n'\n",
    "- n'까지만 검사를 하면 두수 a,b중에 작은수 b까지만 체크해 봐도 소수인지 아닌지 판별이 가능하다.\n"
   ]
  },
  {
   "cell_type": "code",
   "execution_count": 64,
   "metadata": {},
   "outputs": [
    {
     "name": "stdout",
     "output_type": "stream",
     "text": [
      "#1\n",
      "7041\n"
     ]
    }
   ],
   "source": [
    "N, L =input().split()\n",
    "L=int(L)\n",
    "print(N)\n",
    "print(L)"
   ]
  }
 ],
 "metadata": {
  "kernelspec": {
   "display_name": "Python 3.9.13 64-bit",
   "language": "python",
   "name": "python3"
  },
  "language_info": {
   "codemirror_mode": {
    "name": "ipython",
    "version": 3
   },
   "file_extension": ".py",
   "mimetype": "text/x-python",
   "name": "python",
   "nbconvert_exporter": "python",
   "pygments_lexer": "ipython3",
   "version": "3.9.13"
  },
  "orig_nbformat": 4,
  "vscode": {
   "interpreter": {
    "hash": "3d3579b64ed644892bc49d0da2d1890659408e00eebf25200bc250e1696a02dd"
   }
  }
 },
 "nbformat": 4,
 "nbformat_minor": 2
}
