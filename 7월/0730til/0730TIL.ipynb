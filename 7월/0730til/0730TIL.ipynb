{
 "cells": [
  {
   "cell_type": "markdown",
   "metadata": {},
   "source": [
    "# 0730TIL\n",
    "### 파이썬 쭉 복습하기"
   ]
  },
  {
   "cell_type": "markdown",
   "metadata": {},
   "source": [
    "### 자료형\n",
    "#### 자료형 분류\n",
    "\n",
    "<img width=\"634\" alt=\"자료형\" src=\"https://user-images.githubusercontent.com/45934087/148158891-fe28256b-1df4-4b83-ab51-54d06c107d20.png\">\n",
    "\n",
    "### 이스케이프 시퀀스 (Escape sequence)\n",
    "\n",
    "문자열을 활용하는 경우 특수문자 혹은 조작을 하기 위하여 사용되는 것으로 역슬래시 `\\`를 활용하여 이를 구분합니다. \n",
    "\n",
    "|<center>예약문자</center>|내용(의미)|\n",
    "|:--------:|:--------:|\n",
    "|\\n|줄 바꿈|\n",
    "|\\t|탭|\n",
    "|\\r|캐리지리턴|\n",
    "|\\0|널(Null)|\n",
    "|\\\\\\\\ |`\\`|\n",
    "|\\\\'|단일인용부호(`'`)|\n",
    "|\\\\\"|이중인용부호(`\"`)|\n",
    "\n",
    "### 컨테이너 분류\n",
    "- 시퀀스(Sequence)형 : 순서가 있는(ordered) 데이터\n",
    "- 비 시퀀스(Non-sequence)형 : 순서가 없는(unordered) 데이터\n",
    "\n",
    "<img width=\"712\" alt=\"container\" src=\"https://user-images.githubusercontent.com/45934087/148164052-3b12d3a2-a95e-4d4d-ae25-86ca1ba9657b.png\">\n",
    "\n",
    "### 레인지 (range())\n",
    "\n",
    "`range` 는 정수의 시퀀스를 나타내기 위해 사용됩니다.\n",
    "\n",
    "기본형 : `range(n)` \n",
    "\n",
    "\n",
    "> 0부터 n-1까지 값을 가짐\n",
    "\n",
    "\n",
    "범위 지정 : `range(n, m)` \n",
    "\n",
    "> n부터 m-1까지 값을 가짐\n",
    "\n",
    "범위 및 스텝 지정 : `range(n, m, s)`\n",
    "\n",
    "> n부터 m-1까지 +s만큼 증가한다\n",
    "\n",
    "\n",
    "### 세트 (Set)\n",
    "\n",
    "* `set`은 중복되는 요소가없이, 순서에 상관없는 자료구조입니다.\n",
    "\n",
    "  * 데이터의 중복을 허용하지 않기 때문에 중복되는 원소가 있다면 하나만 저장\n",
    "  * 순서가 없기 때문에 인덱스를 이용한 접근 불가능\n",
    "\n",
    "* `set`은 수학에서의 집합과 동일하게 처리됩니다. \n",
    "  * 활용 가능한 연산자는 차집합(`-`), 합집합(`|`), 교집합(`&`), 대칭차칩합(`^`)입니다.\n",
    "  * 여집합을 표현하는 연산자는 별도로 존재하지 않음\n",
    "\n",
    "  * 중복된 값이 존재하지 않음\n",
    "\n",
    "* `set`은 중괄호`{}`를 통해 생성하며, 빈 세트를 만들려면 `set()`을 사용해야 합니다. (`{}`로 사용 불가능)"
   ]
  },
  {
   "cell_type": "code",
   "execution_count": 2,
   "metadata": {},
   "outputs": [
    {
     "name": "stdout",
     "output_type": "stream",
     "text": [
      "4\n"
     ]
    }
   ],
   "source": [
    "# 정수 인풋여러개 받기\n",
    "n, m = map(int, input().split())\n"
   ]
  },
  {
   "cell_type": "code",
   "execution_count": null,
   "metadata": {},
   "outputs": [],
   "source": []
  },
  {
   "cell_type": "code",
   "execution_count": null,
   "metadata": {},
   "outputs": [],
   "source": []
  }
 ],
 "metadata": {
  "kernelspec": {
   "display_name": "Python 3.10.5 64-bit",
   "language": "python",
   "name": "python3"
  },
  "language_info": {
   "codemirror_mode": {
    "name": "ipython",
    "version": 3
   },
   "file_extension": ".py",
   "mimetype": "text/x-python",
   "name": "python",
   "nbconvert_exporter": "python",
   "pygments_lexer": "ipython3",
   "version": "3.10.5"
  },
  "orig_nbformat": 4,
  "vscode": {
   "interpreter": {
    "hash": "369f2c481f4da34e4445cda3fffd2e751bd1c4d706f27375911949ba6bb62e1c"
   }
  }
 },
 "nbformat": 4,
 "nbformat_minor": 2
}
