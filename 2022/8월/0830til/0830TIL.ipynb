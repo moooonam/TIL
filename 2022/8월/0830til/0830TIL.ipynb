{
 "cells": [
  {
   "cell_type": "markdown",
   "metadata": {},
   "source": [
    "# 0830(화) TIL\n",
    "\n",
    ">## Django \n",
    "#### \"거인의 어깨 위에서 프로그래밍하기\"\n",
    "\n",
    "- 프레임워크 => 서비스 개발에 필요한 기능들을 미리 구현해서 모아 놓은 것\n",
    "- Django는 python으로 작성된 프레임워크\n",
    "  \n"
   ]
  },
  {
   "cell_type": "markdown",
   "metadata": {},
   "source": [
    ">## 클라이언트-서버 구조\n",
    "\n",
    "- 오늘날 우리가 사용하는 대부분의 웹 서비스틑 클라이언트-서버 구조를 기반으로 동작\n",
    "- 클라이언트와 서버 역시 하나의 컴퓨터이다\n",
    "- **클라이언트**\n",
    "  - 웹 사용자의 인터넷에 연결된 장치\n",
    "  - 크롬 또는 파이어폭스와 같은 웹 브라우저\n",
    "  - 서비스를 요청하는 주체\n",
    "- **서버**\n",
    "  - 웹 페이지, 사이트 또는 앱을 저장하는 컴퓨터\n",
    "  - 요청에 대해 서비스를 응답한는 주체\n",
    "\n",
    "\n",
    "\n",
    "<br>\n",
    "\n",
    "![ㅇㅇ](https://images.velog.io/images/two_jay/post/45d20c5f-b1bd-4966-bfe8-96d058c24f55/%EC%9C%BC%EC%99%95.png) "
   ]
  },
  {
   "cell_type": "markdown",
   "metadata": {},
   "source": [
    ">## Design pattern\n",
    "- 소프트웨어에서의 관점\n",
    "  - 각기 다른 기능을 가진 다양한 응용 소프트웨어를 개발할 때 공통적인 설계 문제가 존재하며, 이를 처리하는 해결책 사이에도 공통점이 있다는 것을 발견\n",
    "  - 이러한 유사점을 패턴이라 함\n",
    "- Django에도 이러한 디자인 패턴이 적용이 되어 있는데,Django에 적용된 디자인 패턴은 **MTV 패턴**이다\n",
    "- MTV 패턴은 **MVC 디자인 패턴**을 기반으로 조금 변형된 패턴이다\n",
    "  1. Model: 데이터와 관련된 로직을 관리\n",
    "  2. View: 레이아웃과 화면을 처리 \n",
    "  3. Controller: 명령을 model과 view 부분으로 연결"
   ]
  }
 ],
 "metadata": {
  "kernelspec": {
   "display_name": "Python 3.9.13 64-bit",
   "language": "python",
   "name": "python3"
  },
  "language_info": {
   "name": "python",
   "version": "3.9.13"
  },
  "orig_nbformat": 4,
  "vscode": {
   "interpreter": {
    "hash": "3d3579b64ed644892bc49d0da2d1890659408e00eebf25200bc250e1696a02dd"
   }
  }
 },
 "nbformat": 4,
 "nbformat_minor": 2
}
