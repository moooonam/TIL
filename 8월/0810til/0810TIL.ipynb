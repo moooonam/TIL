{
 "cells": [
  {
   "cell_type": "markdown",
   "metadata": {},
   "source": [
    "# 0810(수)TIL\n",
    "### 2차원 배열\n",
    "- 1차원 배열을 묶어놓은 list(중첩)\n",
    "  "
   ]
  },
  {
   "cell_type": "code",
   "execution_count": null,
   "metadata": {},
   "outputs": [],
   "source": [
    "# 2차원 배열\n",
    "N= int(input())\n",
    "\n",
    "\n",
    "arr = [list(map(int, input().split())) for _ in range(N)]\n",
    "\n",
    "#i,j  행 우선 순회\n",
    "for i in range(N):\n",
    "    for j in range(N):\n",
    "        print(arr[i][j]) #i행 j열\n",
    "\n",
    "#델타를 이용한 2차 배열 탐색\n",
    "di =[0,0,-1,1] #상 하 좌 우\n",
    "dj =[-1,1,0,0]\n",
    "\n",
    "ni=0\n",
    "nj=0\n",
    "i, j =0,0\n",
    "\n",
    "for d in range(4):\n",
    "    ni= i +di[d]\n",
    "    nj= j +dj[d]\n"
   ]
  },
  {
   "cell_type": "code",
   "execution_count": null,
   "metadata": {},
   "outputs": [],
   "source": [
    "# 연습문제 1 내풀이...(굳!!) =>인덱스 범위 항상 주의\n",
    "T= int(input())\n",
    "di =[0,0,-1,1] #상 하 좌 우\n",
    "dj =[-1,1,0,0]\n",
    "for i in range(T):\n",
    "    N= int(input())\n",
    "    arr = [list(map(int, input().split())) for _ in range(N)]\n",
    "    sum=0\n",
    "    for i in range(N):\n",
    "        for j in range(N):\n",
    "            for d in range(4):\n",
    "                ni= i +di[d]\n",
    "                nj= j +dj[d]\n",
    "                if 0<=ni<N and 0<=nj<N:\n",
    "                    sum+=abs(arr[ni][nj]-arr[i][j])\n",
    "    print(sum)"
   ]
  },
  {
   "cell_type": "code",
   "execution_count": 1,
   "metadata": {},
   "outputs": [
    {
     "name": "stdout",
     "output_type": "stream",
     "text": [
      "[[0, 0, 0, 0], [0, 0, 0, 0], [0, 0, 0, 0]]\n",
      "[[0, 0, 0, 0], [0, 0, 0, 0], [0, 0, 0, 0]]\n",
      "[[1, 0, 0, 0], [0, 0, 0, 0], [0, 0, 0, 0]]\n",
      "[[1, 0, 0, 0], [1, 0, 0, 0], [1, 0, 0, 0]]\n"
     ]
    }
   ],
   "source": [
    "N = 3 #행의크기\n",
    "M = 4 #열의크기\n",
    "# N개의 원소를 갖는 0으로 초기화된 1차원배열\n",
    "arr1 = [0]*N\n",
    "\n",
    "\n",
    "# 크기가 NxM이고 0으로 초기화된 2차원배열\n",
    "arr2 = [[0]*M for _ in range(N)]\n",
    "arr3 = [[0]*M]*N #이렇게하면 리스트가 복사되서 안됨\n",
    "print(arr2)\n",
    "print(arr3)\n",
    "arr2[0][0]=1\n",
    "arr3[0][0]=1\n",
    "print(arr2)\n",
    "print(arr3)"
   ]
  },
  {
   "cell_type": "code",
   "execution_count": null,
   "metadata": {},
   "outputs": [],
   "source": [
    "# 모든원소 합 구하기\n",
    "N = int(input())\n",
    "arr = [list(map(int,input().split())) for _ in range(N)]\n",
    "\n",
    "s=0\n",
    "for i in range(N):\n",
    "    for j in range(N):\n",
    "        s+=arr[i][j]\n",
    "print(s)\n"
   ]
  },
  {
   "cell_type": "code",
   "execution_count": null,
   "metadata": {},
   "outputs": [],
   "source": [
    "#각행의 합을 구하고 그 중 최대값을 출력하시오\n",
    "N = int(input())\n",
    "arr = [list(map(int,input().split())) for _ in range(N)]\n",
    "maxV = 0 #최대 행의합\n",
    "for i in range(N):\n",
    "    rs = 0 #행의 합\n",
    "    for j in range(N):\n",
    "        rs += arr[i][j]\n",
    "    if maxV <rs:\n",
    "        maxV =rs\n",
    "print(maxV)"
   ]
  },
  {
   "cell_type": "code",
   "execution_count": null,
   "metadata": {},
   "outputs": [],
   "source": [
    "# 대각 합 구하기\n",
    "N = int(input())\n",
    "arr = [list(map(int,input().split())) for _ in range(N)]\n",
    "s=0\n",
    "for i in range(N):\n",
    "    for j in range(N):\n",
    "        if i==j:\n",
    "            s+= arr[i][j] # 이건 좀 길어\n",
    "\n",
    "s=0\n",
    "for i in range(N):\n",
    "    s+=arr[i][i] # 깰끔"
   ]
  },
  {
   "cell_type": "code",
   "execution_count": 5,
   "metadata": {},
   "outputs": [
    {
     "name": "stdout",
     "output_type": "stream",
     "text": [
      "0\n"
     ]
    }
   ],
   "source": [
    "#부분집합\n",
    "T= int(input())\n",
    "\n",
    "for tc in range(1,T+1):\n",
    "    arr = list(map(int, input().split()))\n",
    "    N = len(arr) #원소 개수\n",
    "\n",
    "    exist = 0 # 부분집합의 합이 0이 될때가 존재하면 1 그게 아니면 0\n",
    "    for i in range(1, 1<<N): #시작 지점을 1로 바꿔 공집합을 제외함\n",
    "        subset_sum=0\n",
    "        for j in range(N):\n",
    "            if i & (1<<j):\n",
    "                # i의 비트를 j와 비교 list의 j번째 인덱스가 있는 원소가 부분집합에 포함되어 있는지 검사\n",
    "                subset_sum +=arr[j]\n",
    "        exist =1 if subset_sum==0 else exist\n",
    "    print(exist)"
   ]
  }
 ],
 "metadata": {
  "kernelspec": {
   "display_name": "Python 3.10.5 64-bit",
   "language": "python",
   "name": "python3"
  },
  "language_info": {
   "codemirror_mode": {
    "name": "ipython",
    "version": 3
   },
   "file_extension": ".py",
   "mimetype": "text/x-python",
   "name": "python",
   "nbconvert_exporter": "python",
   "pygments_lexer": "ipython3",
   "version": "3.10.5"
  },
  "orig_nbformat": 4,
  "vscode": {
   "interpreter": {
    "hash": "369f2c481f4da34e4445cda3fffd2e751bd1c4d706f27375911949ba6bb62e1c"
   }
  }
 },
 "nbformat": 4,
 "nbformat_minor": 2
}
