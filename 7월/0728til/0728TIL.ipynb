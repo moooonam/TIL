{
 "cells": [
  {
   "cell_type": "code",
   "execution_count": null,
   "metadata": {},
   "outputs": [],
   "source": []
  },
  {
   "cell_type": "markdown",
   "metadata": {},
   "source": [
    "# 0728(목) TIL"
   ]
  },
  {
   "cell_type": "markdown",
   "metadata": {},
   "source": [
    "### 0727 ws 풀이\n",
    "1. pip install faker => faker라는 패키지를 설치\n",
    "2. from faker import Faker  \n",
    "   fake => Faker() Faker는 클래스, fake는 Faker의 인스턴스이다.\n",
    "   fake.name() => fake의 메서드 사용 : name()은 fake의 메서드이다."
   ]
  },
  {
   "cell_type": "code",
   "execution_count": 2,
   "metadata": {},
   "outputs": [
    {
     "data": {
      "text/plain": [
       "'Hunter Hill'"
      ]
     },
     "execution_count": 2,
     "metadata": {},
     "output_type": "execute_result"
    }
   ],
   "source": [
    "from faker import Faker\n",
    "fake = Faker()\n",
    "fake.name()"
   ]
  },
  {
   "cell_type": "code",
   "execution_count": 7,
   "metadata": {},
   "outputs": [
    {
     "name": "stdout",
     "output_type": "stream",
     "text": [
      "이진호\n",
      "강은주\n"
     ]
    }
   ],
   "source": [
    "# 4. Seeding the Generator\n",
    "\n",
    "fake1 = Faker('ko_KR')\n",
    "Faker.seed(87654321)  # seed 는 클래스 메서드\n",
    "# Faker 클래스 내부의 난수 생성 값을 클래스 변수로 설정\n",
    "# 설정한 후 생성된 모든 인스턴스가 해당 클래스 변수를 공유\n",
    "\n",
    "print(fake1.name())\n",
    "\n",
    "\n",
    "fake2 = Faker('ko_KR')\n",
    "print(fake2.name())\n",
    "\n"
   ]
  },
  {
   "cell_type": "code",
   "execution_count": 15,
   "metadata": {},
   "outputs": [
    {
     "name": "stdout",
     "output_type": "stream",
     "text": [
      "이진호\n",
      "강하윤\n"
     ]
    }
   ],
   "source": [
    "fake1 = Faker('ko_KR')\n",
    "fake1.seed_instance(87654321) # seed_instance는 인스턴스 변수를 수정하는 메서드 => 인스턴스 메서드 이다\n",
    "\n",
    "print(fake1.name())\n",
    "\n",
    "fake2 = Faker('ko_KR')\n",
    "\n",
    "print(fake2.name())"
   ]
  },
  {
   "cell_type": "code",
   "execution_count": 34,
   "metadata": {},
   "outputs": [
    {
     "name": "stdout",
     "output_type": "stream",
     "text": [
      "['류정순', '우은지', '최지아', '나영식', '윤영자', '장성훈', '김예준', '김우진', '최영수', '서명자', '지진호']\n",
      "['장성훈', '나영식', '우은지', '류정순', '최영수']\n",
      "[['김예준', '류정순', '장성훈'], ['서명자', '김우진'], ['나영식', '최지아'], ['최영수', '우은지'], ['윤영자', '지진호']]\n"
     ]
    }
   ],
   "source": [
    "# ws 7-5 풀이\n",
    "from faker import Faker\n",
    "import random\n",
    "import copy\n",
    "class Pairprogramming:\n",
    "    #1. 학생들의 리스트를 입력받는다.\n",
    "    def __init__(self, students): #students: 학생들의 리스트\n",
    "        self.students = students\n",
    "    \n",
    "    def pick(self, n):\n",
    "        result = set() #결과로 반환할 랜덤으로 뽑은 학생 세트(중복 불가능하게)\n",
    "        while len(result) < n: # 내가 뽑기 원하는 학생수가 될때까지 계속 세트에 뽑아서 넣기\n",
    "            result.add(random.choice(self.students))\n",
    "\n",
    "        return list(result)\n",
    "\n",
    "    def match_pair(self):\n",
    "        result = []#결과로 반환할 리스트\n",
    "        # 학생 리스트를 복사해서 (깊은복사)\n",
    "        # 뽑아서 짝을 지어준 학생은 리스트에서 제거\n",
    "        # 그다음에 다시 짝을 지어줄 학생을 뽑아서 페어링을 해주면 된다.\n",
    "        \n",
    "        \n",
    "        if len(self.students) < 2:\n",
    "            return None\n",
    "        #학생들의 수가 홀수인 경우 미리 3명을 뽑아서 조를 만들어준다.\n",
    "        \n",
    "        if len(self.students) % 2 ==1:\n",
    "            random_pick = self.pick(3)\n",
    "            # 뽑은 세명은 짝짓기가 완료 되었으니 리스트에서 제거해준다.\n",
    "            for student in random_pick:\n",
    "                self.students.remove(student)\n",
    "            result.append(random_pick)\n",
    "        \n",
    "        while len(self.students) > 0:\n",
    "            random_pick = self.pick(2)\n",
    "            for student in random_pick:\n",
    "                self.students.remove(student)\n",
    "            result.append(random_pick)\n",
    "\n",
    "        return result\n",
    "\n",
    "\n",
    "students = []\n",
    "\n",
    "# 학생 리스트 만들기\n",
    "fake = Faker('ko_KR')\n",
    "\n",
    "for i in range(11):\n",
    "    students.append(fake.name())\n",
    "\n",
    "\n",
    "pair1 = Pairprogramming(students)\n",
    "print(pair1.students)\n",
    "print(pair1.pick(5))\n",
    "print(pair1.match_pair())"
   ]
  },
  {
   "cell_type": "code",
   "execution_count": null,
   "metadata": {},
   "outputs": [],
   "source": []
  },
  {
   "cell_type": "code",
   "execution_count": null,
   "metadata": {},
   "outputs": [],
   "source": []
  },
  {
   "cell_type": "code",
   "execution_count": null,
   "metadata": {},
   "outputs": [],
   "source": []
  },
  {
   "cell_type": "markdown",
   "metadata": {},
   "source": [
    "### 클래스 기본 문법\n",
    "\n",
    "```python\n",
    "# 클래스 정의\n",
    "class MyClass:\n",
    "    pass\n",
    "\n",
    "# 인스턴스 생성\n",
    "my_instance = MyClass()\n",
    "\n",
    "# 속성 접근\n",
    "my_instance.my_attribute\n",
    "\n",
    "# 메서드 호출\n",
    "my_instance.my_method()\n",
    "```\n",
    "\n",
    "### 속성(attribute)\n",
    "\n",
    "- 속성(attribute)은 객체(object)의 상태/데이터를 뜻합니다.\n",
    "\n",
    "\n",
    "**활용법**\n",
    "\n",
    "```python\n",
    "<객체>.<속성>\n",
    "```\n",
    "\n",
    "**예시**\n",
    "\n",
    "```python\n",
    "person.name\n",
    "```\n",
    "\n",
    "### 메서드(method)\n",
    "\n",
    "- 특정 객체가 할 수 있는 행위(behavior)를 뜻 합니다.\n",
    "\n",
    "**활용법**\n",
    "```python\n",
    "<객체>.<메서드>()\n",
    "```\n",
    "\n",
    "**예시**\n",
    "```python\n",
    "person.talk()\n",
    "person.eat()\n",
    "```"
   ]
  },
  {
   "cell_type": "code",
   "execution_count": null,
   "metadata": {},
   "outputs": [],
   "source": []
  }
 ],
 "metadata": {
  "kernelspec": {
   "display_name": "Python 3.9.13 64-bit",
   "language": "python",
   "name": "python3"
  },
  "language_info": {
   "codemirror_mode": {
    "name": "ipython",
    "version": 3
   },
   "file_extension": ".py",
   "mimetype": "text/x-python",
   "name": "python",
   "nbconvert_exporter": "python",
   "pygments_lexer": "ipython3",
   "version": "3.9.13"
  },
  "orig_nbformat": 4,
  "vscode": {
   "interpreter": {
    "hash": "3d3579b64ed644892bc49d0da2d1890659408e00eebf25200bc250e1696a02dd"
   }
  }
 },
 "nbformat": 4,
 "nbformat_minor": 2
}
