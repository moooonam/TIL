{
 "cells": [
  {
   "cell_type": "markdown",
   "metadata": {},
   "source": [
    "# 0803(수) TIL"
   ]
  },
  {
   "cell_type": "markdown",
   "metadata": {},
   "source": [
    "- html 클래스 적용할 때 띄어쓰기로 여러개 가능 (div class=\"c1 c2 c3\")\n",
    "- https://studiomeal.com/archives/197 플렉스 참고"
   ]
  },
  {
   "cell_type": "markdown",
   "metadata": {},
   "source": [
    "## float\n",
    "\n",
    "- 화면에 둥둥 떠다니는 것처럼 표시해주는 css 속성\n",
    "- display나 위치를 직접 지정해주지 않고 float속성을 이용해서 화면 왼쪽 또는 오른쪽에 위치시키는 방법\n",
    "  - left :왼쪽\n",
    "  - right : 오른쪽\n",
    "  - none : 기본값(띄우지 않음.)\n",
    "\n",
    "## Flex box, Flexible box Layout\n",
    "\n",
    "- 행과 열 형태로 내용들을 배치하는 레이아웃 모델(방법)\n",
    "\n",
    ">축\n",
    "- main axis(메인 축)\n",
    "- cross axis(교차 축)\n",
    "\n",
    ">구성요소\n",
    "- Flex Container (부모요소), flex로 지정할 요소들을 포함하고 있는 요소\n",
    "- Flex Item(자식요소), flex로 지정할 요소들\n",
    "- 부모 요소에 적용 가능한 속성\n",
    "  - displat :flex;(자식 요소들에게 flex 형태로 배치하도록 하는 속성)\n",
    "  - flex-direction: row; (왼쪽에서 오른쪽으로)\n",
    "    - row-rever :(오른쪽에서 왼쪽으로)\n",
    "    - column :(위에서 아래로)\n",
    "    - column-reverse :(아래에서 위로)\n",
    "  - flex-wrap : 컨테이너가(부모 요소가) 자식 요소들을 담을 여유 공간이 없을때 어떻게 처리할찌\n",
    "    - nowrap :기본값(삐져 나갈수도 있음, 줄바꿈을 하지 않는다)\n",
    "    - wrap : 크기를 줄여서 표현 (줄바꿈을 해서 inline-block 처럼 포함한다.)\n",
    "  - justify-content: 메인축(main-axis) 방향으로 아이템들을 정렬하는 속성\n",
    "    - flex-start: 왼쪽 정렬 \n",
    "    - flex-end: 오른쪽 정렬\n",
    "    - center : 가운데 정렬\n",
    "    - space-between : 양 끝부터 시작해서 요소들을 공백으로 띄워서 양끝, 가운데\n",
    "    - space-around: 요소의 양 옆에 공백을 채워넣어서 space-between처럼 동작\n",
    "    - space-evenly : space-around랑 비슷... \n",
    "  - align-content :교차축(Cross-axis) 방향 아이템들을 정렬하는 속성\n",
    "    - (적용시 아이템의 크기의 합이 한줄의 너비보다 작으면 적용이 안된다.)\n",
    "    - flex-start :위쪽 정렬\n",
    "    - flex-end: 아래쪽 정렬\n",
    "    - center : 가운데 정렬 \n",
    "    - space-between : 위쪽 끝, 아래쪾 끝에서 시작해서 요소들을 공백으로 띄워서 채운다.\n",
    "    - space-around: 요소의 양 옆에 공백을 채워넣어서 space-between처럼 동작\n",
    "    - space-evenly : space-around랑 비슷...\n",
    "  - align-items: 모든 아이템을 세로축(cross-axis)을 기준으로 정렬    \n",
    "\n",
    "      \n",
    "- 아이템에 적용 가능한 속성\n",
    "  - align-self : 개별 아이템이 자기 자신을 어디에 위치시킬건지 정해주는 속성\n",
    "    - 컨테이너에 적용하는 것이 아니라 개별 아이템에 적용\n"
   ]
  },
  {
   "cell_type": "markdown",
   "metadata": {},
   "source": [
    "## Bootstrap\n",
    "\n",
    "- 우리가 css를 처음부터 다 설계하고 적용하는게 아니라 미리 정의된 클래스들을 통해서 적용하고싶은\n",
    "css 속성들을 빠르게 사용할 수 있게 해주는 라이브러리\n",
    "\n",
    "- CDN(content delivery network) :컨텐츠들을 효율적으로 전달해 주기 위해서 서버를 여러개 나눠놓고, 사용자가 해당 컨텐츠를 사용하려고 할 때, 제일 가깝고 제일 빠르게 제공받을 수 있는 서버에서 사용할 수 있도록 해주는 방식\n",
    "\n",
    "- 부트스트랩의 공백 주기(spacing) :margin, padding 을 미리 지정된 값으로 class 를 통해 쉽게 설정해주는 방법\n",
    "  - {property :margin or padding}{sides :적용시키고 싶은 방향}-{size :크기}\n",
    "    - ex) mt-3 =>margin top 3 // mx-2 => margin x축 2 // mx-auto :수평 중앙정렬\n",
    "\n",
    "\n",
    "\n",
    "#### bootstrap에서 위치를 정해주는 position\n",
    "\n",
    "- inline,block\n",
    "- d-inline\n",
    "- d-block\n",
    "\n",
    "### bootstrap의 breakpoint\n",
    "\n",
    "- 사용자가 보고 있는 브라우저의 크기에 따라 모양을 바꿔줄 수 있게 해주는 속성\n",
    "- 반응형 웹\n",
    "\n",
    "### bootstrap의 Grid system\n",
    "\n",
    "- 화면의 레이아웃을 쉽고 빠르게 구성할 수 있도록 해준다\n",
    "- Column: 실제 컨텐츠를 포함하는 부분\n",
    "- Gutter: Column들 사이사이의 빈공간\n",
    "- Container :Column들을 담고 있는 공간 (div에다가 만들어준다)\n",
    "  - row,col"
   ]
  },
  {
   "cell_type": "markdown",
   "metadata": {},
   "source": []
  }
 ],
 "metadata": {
  "kernelspec": {
   "display_name": "Python 3.9.13 64-bit",
   "language": "python",
   "name": "python3"
  },
  "language_info": {
   "name": "python",
   "version": "3.9.13"
  },
  "orig_nbformat": 4,
  "vscode": {
   "interpreter": {
    "hash": "3d3579b64ed644892bc49d0da2d1890659408e00eebf25200bc250e1696a02dd"
   }
  }
 },
 "nbformat": 4,
 "nbformat_minor": 2
}
