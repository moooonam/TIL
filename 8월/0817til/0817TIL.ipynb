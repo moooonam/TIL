{
 "cells": [
  {
   "cell_type": "markdown",
   "metadata": {},
   "source": [
    "# 0817(수) TIL\n",
    "### Stack...."
   ]
  },
  {
   "cell_type": "code",
   "execution_count": 1,
   "metadata": {},
   "outputs": [
    {
     "name": "stdout",
     "output_type": "stream",
     "text": [
      "push 0\n",
      "push 1\n",
      "push 2\n",
      "push 3\n",
      "push 4\n",
      "peek 4\n",
      "4\n"
     ]
    }
   ],
   "source": [
    "# 스택을 클래스로\n",
    "class stack:\n",
    "    def __init__(self):\n",
    "        self.items = [] # 스택에 사용할 리스트 (저장공간)\n",
    "        self.top = -1\n",
    "    #1. push 원소 삽입\n",
    "    #item : 삽입할 원소\n",
    "    def push(self, item):\n",
    "        self.items.append(item)\n",
    "        self.top +=1\n",
    "        print(f\"push {item}\")\n",
    "\n",
    "    #2. pop 원소 제거(꺼내기)\n",
    "    def pop(self):\n",
    "        item = self.items.pop(-1)\n",
    "        print(f\"pop {item}\")\n",
    "        return item\n",
    "\n",
    "    #3. peek top에 있는 원소 반환 (제거하지 않음)\n",
    "    def peek(self):\n",
    "        print(f\"peek {self.items[-1]}\")\n",
    "        return self.items[-1]\n",
    "\n",
    "    #4. isEmpty 스택이 비어있는지 확인하는 연산, 비어있으면 True\n",
    "    def isEmpty(self):\n",
    "        return not self.items\n",
    "\n",
    "# 스택 생성\n",
    "my_stack =stack()\n",
    "\n",
    "# 스택에 원소 삽입\n",
    "for i in range(5):\n",
    "    my_stack.push(i)\n",
    "# 스택의 꼭대기 (top)에 있는 원소 반환\n",
    "print(my_stack.peek())"
   ]
  },
  {
   "cell_type": "code",
   "execution_count": 2,
   "metadata": {},
   "outputs": [
    {
     "name": "stdout",
     "output_type": "stream",
     "text": [
      "in : 1\n",
      "in : 2\n",
      "in : 3\n",
      "in : 4\n",
      "in : 5\n",
      "in : 6\n",
      "in : 7\n",
      "in : 8\n",
      "in : 9\n",
      "in : 10\n",
      "끝\n",
      "out : 10\n",
      "out : 9\n",
      "out : 8\n",
      "out : 7\n",
      "out : 6\n",
      "out : 5\n",
      "out : 4\n",
      "out : 3\n",
      "out : 2\n",
      "out : 1\n"
     ]
    }
   ],
   "source": [
    "def f(n):\n",
    "    if n>10:\n",
    "        print(\"끝\")\n",
    "        return\n",
    "\n",
    "    print(f\"in : {n}\")\n",
    "    f(n+1)\n",
    "    print(f\"out : {n}\")\n",
    "\n",
    "\n",
    "f(1)"
   ]
  },
  {
   "cell_type": "code",
   "execution_count": null,
   "metadata": {},
   "outputs": [],
   "source": [
    "# DFS 연습문제\n",
    "#s: 시작지점\n",
    "#V: 정점 개수\n",
    "    # 0 1 2 3 4 5 6 7\n",
    "#          A  B  C  D  E  F  G\n",
    "adj = [[0, 0, 0, 0, 0, 0, 0, 0],\n",
    "       [0, 0, 1, 1, 0, 0, 0, 0],  # A\n",
    "       [0, 1, 0, 0, 1, 1, 0, 0],  # B\n",
    "       [0, 1, 0, 0, 0, 1, 0, 0],  # C\n",
    "       [0, 0, 1, 0, 0, 0, 1, 0],  # D\n",
    "       [0, 0, 1, 1, 0, 0, 1, 0],  # E\n",
    "       [0, 0, 0, 0, 1, 1, 0, 1],  # F\n",
    "       [0, 0, 0, 0, 0, 0, 1, 0]]  # G\n",
    "\n",
    "\n",
    "\n",
    "\n",
    "def dfs(s, V):\n",
    "    #정점의 방문 여부를 알기 위한 배열 선언\n",
    "    visited = [0]*(V+1) # 0번인덱스는 사용 안하고 인덱스랑 번호 맞추려고\n",
    "    stack = [] \n",
    "    now = s #현재 위치는 now로 표현\n",
    "    visited[now] = 1 #시작 위치는 방문 했다라고 체크\n",
    "    print(now, end=\" \")\n",
    "    #while len(stack) != 0\n",
    "    while True: #현재 위치가 0이 아닐때까지\n",
    "        # 다음 방문 위치를 방문\n",
    "        for w in range(1, V+1): #1_V번 까지 방문하기\n",
    "            #다음 방문 위치가 있고, 해당 방문위치를 방문한적이 없으면\n",
    "            if adj[now][w] == 1 and visited[w] == 0:     \n",
    "            #다음 방문 위치 처리\n",
    "            #현재 위치를 스택에 저장\n",
    "                stack.append(now)\n",
    "                # 다음 방문 위치를 방문했다고 체크\n",
    "                visited[w]=1\n",
    "                print(w, end=\" \")\n",
    "                # 현재 위치를 다음 위치로 바꾸고\n",
    "                now =w\n",
    "                # 탈출\n",
    "                break\n",
    "        else:\n",
    "            #다음 방문 위치가 없다 (방문했던곳만 남거나, 아니면 인접한 곳이 아예 없다)\n",
    "            if stack: # 스택이 비어있지 않으면 아직 방문할 곳이 남았다 라는 의미 \n",
    "                now = stack.pop()\n",
    "                # 지난 정점으로 돌아가도록 해야함\n",
    "            else: #스택이 비어있다. =>탐색 중지\n",
    "                break\n",
    "\n",
    "    return\n"
   ]
  }
 ],
 "metadata": {
  "kernelspec": {
   "display_name": "Python 3.10.5 64-bit",
   "language": "python",
   "name": "python3"
  },
  "language_info": {
   "codemirror_mode": {
    "name": "ipython",
    "version": 3
   },
   "file_extension": ".py",
   "mimetype": "text/x-python",
   "name": "python",
   "nbconvert_exporter": "python",
   "pygments_lexer": "ipython3",
   "version": "3.10.5"
  },
  "orig_nbformat": 4,
  "vscode": {
   "interpreter": {
    "hash": "369f2c481f4da34e4445cda3fffd2e751bd1c4d706f27375911949ba6bb62e1c"
   }
  }
 },
 "nbformat": 4,
 "nbformat_minor": 2
}
