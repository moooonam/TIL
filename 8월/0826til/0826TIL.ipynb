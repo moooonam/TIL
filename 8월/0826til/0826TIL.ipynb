{
 "cells": [
  {
   "cell_type": "markdown",
   "metadata": {},
   "source": [
    "# 0826(금) TIL\n",
    "<hr>\n"
   ]
  },
  {
   "cell_type": "markdown",
   "metadata": {},
   "source": [
    "#### 리스트를 문자열로 출력하기\n",
    "```py\n",
    "str_list = ['There', 'is', 4, \"items\"]\n",
    "result = ' '.join(map(str, str_list))\n",
    "print(result)\n",
    "```\n",
    "output:\n",
    "There is 4 items"
   ]
  },
  {
   "cell_type": "markdown",
   "metadata": {},
   "source": [
    "> ## 트리\n",
    "\n",
    "\n",
    "- 트리의 개념\n",
    "  - 비선형 구조\n",
    "  - 원소들 간에 계층 관계를 가지는 계층형 자료구조\n",
    "  - 상위 원소에서 하위 원소로 내려가면서 확장되는 트리모양의 구조\n",
    "- 정의\n",
    "  - 한개 이상의 노드로 이루어진 유한 집합이며 다음 조건을 만족\n",
    "    - 노트 중 최상위 노드를 루트(root)라 한다.\n",
    "    - 나머지 노드들은 n개의 분리 집합 으로 분리될 수 있다.\n",
    "- 용어\n",
    "  - 노드(node): 트리의 원소\n",
    "  - 간선(edge): 노드를 연결하는 선\n",
    "  - 루트 노트(root node): 트리의 시작 노드\n",
    "  - 형제 노드: 같은 부모 노드의 자식 노드들\n",
    "  - 조상 노드: 간선을 따라 루트 노드까지 이르는 경로에 있는 모든 노드들\n",
    "  - 서브 트리: 부모 노드와 연결된 간선을 끊었을 때 생성되는 트리\n",
    "  - 자손 노드: 서브 트리에 있는 하위 레벨의 노드들\n",
    "  - 차수(degree)\n",
    "    - 노드의 차수: 노드에 연결된 자식 노드의 수\n",
    "    - 트리의 차수: 트리에 있는 노드의 차수 중에서 가장 큰 값\n",
    "    - 단말 노드: 차수가 0인 노트. 자식 노드가 없는 노드\n",
    "  - 높이\n",
    "    - 노드의 높이: 루트에서 노드에 이르는 간선의 수.노드의 레벨\n",
    "    - 트리의 높이: 트리에 있는 노드의 높이 중에서 가장 큰 값.최대 레벨 \n",
    "\n",
    "- 이진트리\n",
    "  - 모든 노드들이 2개의 서브트리를 갖는 특별한 형태의 트리\n",
    "  - 각 노드가 자식 노드를 최대한 2개 까지만 가질 수 있는 트리\n",
    "    - 왼쪽 자식 노드\n",
    "    - 오른쪽 자식 노드\n"
   ]
  },
  {
   "cell_type": "code",
   "execution_count": null,
   "metadata": {},
   "outputs": [],
   "source": [
    "class Node:\n",
    "    def __init__(self, data):\n",
    "        self.data = data\n",
    "        self.left = None\n",
    "        self.right = None\n",
    "\n",
    "# 노드를 사용해서 트리 만들어보기\n",
    "\n",
    "root = Node(1)\n",
    "\n",
    "# 2,3을 root의 왼쪽과 오른쪽에 추가\n",
    "root.left = Node(2)\n",
    "root.right = Node(3)\n",
    "\n",
    "#4, 5 를 2번의 왼쪽과 오른쪽에 추가\n",
    "root.left.left = Node(4) # 노드 2번의 left\n",
    "root.right.right = Node(5) #노드 2번의 right\n",
    "\n",
    "\n",
    "# 전위순회 V L R\n",
    "def preorder(node):\n",
    "    if node:\n",
    "        print(node.data, end=\" \")\n",
    "        preorder(node.left)\n",
    "        preorder(node.right)\n",
    "\n",
    "# 중위순회\n",
    "def inorder(node):\n",
    "    if node:\n",
    "        inorder(node.left)\n",
    "        print(node.data, end=\" \")\n",
    "        inorder(node.right)\n",
    "\n",
    "# 후위순회\n",
    "def postorder(node):\n",
    "    if node:\n",
    "        postorder(node.left)\n",
    "        postorder(node.right)\n",
    "        print(node.data, end=\" \")\n"
   ]
  },
  {
   "cell_type": "code",
   "execution_count": null,
   "metadata": {},
   "outputs": [],
   "source": [
    "# 이진 탐색 트리\n",
    "class Node:\n",
    "    def __init__(Self, data):\n",
    "        self.data = data\n",
    "        self.left = None\n",
    "        self.right = None\n",
    "# Binart Search Tree\n",
    "class BST:\n",
    "    def __init__(self):\n",
    "        self.root = None # root는 트리의 시작지점\n",
    "    # 탐색연산\n",
    "    def search(self, target):\n",
    "        now = self.root # 탐색의시작은 루트부터\n",
    "\n",
    "    #찾을때 까지 반복( 노드가 없어질 때 까지)\n",
    "        while now:\n",
    "    # 현재 내가 있는 노드의 키값과 찾고있는 값이 같으면 반환\n",
    "           if target == now.data:\n",
    "            return now \n",
    "    # 내가있는 노드의 키값이 찾고있는 값보다 작으면 왼쪽이동\n",
    "            elif target < now.data:\n",
    "                now = now.left\n",
    "    # 내가있는 노드의 키값이 찾고있는 값보다 크면 오른쪽 이동\n",
    "            elif target > now.data:\n",
    "                now = now.right\n",
    "    # 만약 반복이 끝나버렸다 => 찾는 데이터가 이진 탐색 트리 안에 없다.\n",
    "        return now"
   ]
  }
 ],
 "metadata": {
  "kernelspec": {
   "display_name": "Python 3.10.5 64-bit",
   "language": "python",
   "name": "python3"
  },
  "language_info": {
   "name": "python",
   "version": "3.10.5"
  },
  "orig_nbformat": 4,
  "vscode": {
   "interpreter": {
    "hash": "369f2c481f4da34e4445cda3fffd2e751bd1c4d706f27375911949ba6bb62e1c"
   }
  }
 },
 "nbformat": 4,
 "nbformat_minor": 2
}
