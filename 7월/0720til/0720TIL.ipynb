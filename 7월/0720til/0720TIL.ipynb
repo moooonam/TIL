{
 "cells": [
  {
   "cell_type": "markdown",
   "metadata": {},
   "source": [
    "# 0720TIL"
   ]
  },
  {
   "cell_type": "markdown",
   "metadata": {},
   "source": [
    "## *제어문\n",
    "- 특정 상황에따라서 코드를 선택적으로 실행하거나 계속해서 실행(반복)하는 제어문\n",
    "### 조건문\n",
    "\n",
    "        "
   ]
  },
  {
   "cell_type": "code",
   "execution_count": null,
   "metadata": {},
   "outputs": [],
   "source": [
    "- 조건에는 참/거짓에 대한 조건식  \n",
    "  if 조건 == True:  \n",
    "       'Run this code block'  (앞에 공백 4칸이 되어있는 부분은 조건이 참일때 실행하는 코드)  \n",
    "  else:  \n",
    "        'Run this code block'   (조건이 거짓일때 실행하는 코드)  \n",
    "\n",
    "- 복수 조건문  \n",
    "  if 조건:  \n",
    "      Code  \n",
    "  elif 조건:  \n",
    "      Code        \n",
    "  elif 조건:  \n",
    "      Code  \n",
    "  else:  \n",
    "      Code   \n",
    "\n",
    "- 중첩 조건문(조건문안에 조건문)  \n",
    "  if 조건1:    \n",
    "      if 조건2:  \n",
    "          조건1이 True이고 조건2도 True일때 실행할코드  \n",
    "      else: \n",
    "          조건1은 트루인데 조건2가 거짓일때 실행할코드  \n",
    "    조건1이 참이면 실행될 코드  \n",
    "  else:  \n",
    "      if 조건3:  \n",
    "          조건1이 거짓이고 조건3이 참일때 실행할 코드  \n",
    "      else:  \n",
    "          조건1이 거짓이고 조건3도 거짓일때 실행할 코드    "
   ]
  },
  {
   "cell_type": "code",
   "execution_count": 11,
   "metadata": {},
   "outputs": [],
   "source": [
    "- 조건 표현식     \n",
    "      - 삼항 연산자로 부르기도 함    \n",
    "        True인 경우 값 | if 조건 | else | false인 경우 값 \n",
    "# value = num if num>=0 else -num\n",
    "# 조건 표현식을 이용해 절대값 저장하기 위한 코트"
   ]
  },
  {
   "cell_type": "markdown",
   "metadata": {
    "vscode": {
     "languageId": "python"
    }
   },
   "source": [
    "### 반복문\n",
    "- 특정 조건을 만족할 때까지 같은 동작을 계속 반복하고 싶을 때 사용\n",
    "- while 문\n",
    "    - 종료 조건에 해당하는 코드를 통해 반복문을 종료시켜야 함\n",
    "    - 언제 반복이 종료될지 우리가 한번에 예측하기 어렵다\n",
    "- for 문\n",
    "    - 반복가능한 객체를 모두 순회하면 종료 (별도의 종료 조건이 필요 없음)\n",
    "    - 길이를 알고 있기 때문에 반복이 언제까지 될지 예측하기 쉽다.\n",
    "- 반복 제어\n",
    "    - break, continue, for-else \n",
    "#### While문\n",
    "- while문은 조건식이 참인 경우 반복적으로 코드를 실행\n",
    "- while문은 무한 루프를 하지 않도록 종료 조건이 반드시 필요 "
   ]
  },
  {
   "cell_type": "code",
   "execution_count": 12,
   "metadata": {},
   "outputs": [
    {
     "name": "stdout",
     "output_type": "stream",
     "text": [
      "0\n",
      "1\n",
      "2\n",
      "3\n",
      "4\n",
      "끝\n"
     ]
    }
   ],
   "source": [
    "a = 0\n",
    "while a< 5:\n",
    "    print(a)\n",
    "    a +=1\n",
    "print('끝')"
   ]
  },
  {
   "cell_type": "markdown",
   "metadata": {},
   "source": [
    "### for문\n",
    "- for문은 시퀀스를 모함한 순회 가능한 객체의 요소를 모두 순회\n",
    "  - 처음부터 끝까지 모두 순회하므로 별도의 종료 조건이 필요하지 않음\n",
    "- iterable\n",
    "  - 순회할 수 있는 자료형 (str, list, dict, tuple, range, set 등)\n",
    "  - 순회형 함수(range, enumerate)  \n"
   ]
  },
  {
   "cell_type": "code",
   "execution_count": null,
   "metadata": {},
   "outputs": [],
   "source": [
    "for 변수명 in iterable:  \n",
    "    Code\n",
    "\n",
    "    변수명:  for문 안에있는 코드 블록에서 순회가능한 객체 안에 있는 요소를 부르는 이름\n",
    "    "
   ]
  },
  {
   "cell_type": "code",
   "execution_count": null,
   "metadata": {},
   "outputs": [],
   "source": []
  },
  {
   "cell_type": "code",
   "execution_count": 13,
   "metadata": {},
   "outputs": [
    {
     "name": "stdout",
     "output_type": "stream",
     "text": [
      "name 홍길동\n",
      "age 30\n"
     ]
    }
   ],
   "source": [
    "dic1 = {\"name\" : \"홍길동\" , \"age\": 30}\n",
    "for item in dic1:\n",
    "    print(item, dic1[item])"
   ]
  },
  {
   "cell_type": "markdown",
   "metadata": {},
   "source": [
    "## *함수\n",
    "\n",
    "코드의 재사용을 위해 함수를 사용한다.\n",
    "함수는 이름이 붙여진 코드 조각이라고 생각하자.\n",
    "\n",
    "함수는 두가지 작업을 수행한다.\n",
    "- 정의하기(생성하기) : 0개 또는 1개 이상의 매개변수를 가진다.\n",
    "  - 함수의 몸체(코드블록)을 작성, 함수가 실행해야될 코드들의 모음\n",
    "  - return 문이 있다 : 결과를 반환하는 함수\n",
    "  - return 문이 없다 : 함수의 결과가 None\n",
    "- 호출하기(사용하기) : 0개 또는 1개 이상의 결과를 얻는다.\n",
    "\n",
    "### 1.1 함수 정의하기 :def\n",
    "\n",
    "함수를 정의하기 위해서는 def 라는 키워드와 지어줄 함수의 이름, 괄호를 입력한다.  \n",
    "괄호 안에는 선택사항(옵션)으로 매개변수(파라미터)를 입력할 수 있다.  \n",
    "마지막에(괄호가 끝나고) : 콜론을 반드시 붙여준다."
   ]
  },
  {
   "cell_type": "code",
   "execution_count": 17,
   "metadata": {},
   "outputs": [],
   "source": [
    "def do_nothing():\n",
    "    pass # 책 에서 빈공간을 의도적으로 남기는 것처럼 코드에서도 아무일도 하지 않고 한줄만 차지하도록 함\n",
    "# 들여쓰기 중요"
   ]
  },
  {
   "cell_type": "markdown",
   "metadata": {},
   "source": [
    "### 1.2 함수 호출하기 :()\n",
    "\n",
    "함수 이름과 괄호를 입력해서 함수를 호출할 수 있다."
   ]
  },
  {
   "cell_type": "code",
   "execution_count": 18,
   "metadata": {},
   "outputs": [],
   "source": [
    "do_nothing() #아무일도 안일어남 ㅎ"
   ]
  },
  {
   "cell_type": "markdown",
   "metadata": {},
   "source": [
    "매개변수를 가진 함수 선언하기\n",
    "매개변수 : 함수 바깥에서 선언된 변수를 함수 내에서 사용하기 위해 사용하는 변수\n",
    "함수 내에서는 외부에 있는 변수를 식별할 수 없기때문에 매개변수를 통해 전달받아서 사용한다 "
   ]
  },
  {
   "cell_type": "code",
   "execution_count": 19,
   "metadata": {},
   "outputs": [
    {
     "name": "stdout",
     "output_type": "stream",
     "text": [
      "빵빵\n"
     ]
    }
   ],
   "source": [
    "def make_a_sound(sound): # make_a_sound 라는 함수 안에서는 sound라는 변수를 사용할 수 있다.\n",
    "    print(sound)\n",
    "\n",
    "str = \"빵빵\"\n",
    "\n",
    "make_a_sound(str)"
   ]
  },
  {
   "cell_type": "markdown",
   "metadata": {},
   "source": [
    "결과(output)를 반환하는 함수  \n",
    "이 함수를 사용하면 변수에 함수의 결과도 저장할 수 있다.  \n",
    "또는 종류에 따라 식에서도 사용할 수가 있게 된다.\n",
    "\n",
    "value= function()"
   ]
  },
  {
   "cell_type": "code",
   "execution_count": 23,
   "metadata": {},
   "outputs": [
    {
     "name": "stdout",
     "output_type": "stream",
     "text": [
      "True\n",
      "좋아요\n",
      "True\n",
      "None\n"
     ]
    }
   ],
   "source": [
    "def agree():\n",
    "    return True\n",
    "\n",
    "result = agree() # agree 라는 함수가 결과로 반환하는 값을 result라는 변수에 할당\n",
    "\n",
    "print(result)\n",
    "\n",
    "if agree():\n",
    "    print(\"좋아요\")\n",
    "else:\n",
    "    print(\"싫어요\")\n",
    "\n",
    "def agree_print():\n",
    "    print(True) #이 함수는 리턴문이 없다 =>결과를 반환하지 않는다.\n",
    "\n",
    "result = agree_print()\n",
    "print(result) #return문이 존재하지 않는 함수는 None을 반환한다\n",
    "# 어떤 함수가 값을 반환하는지 반환하지 않는지 알아보는 방법\n"
   ]
  },
  {
   "cell_type": "markdown",
   "metadata": {},
   "source": [
    "두개 이상의 값을 반환하고 싶을때, 어떻게 하나요?  \n",
    "함수는 기본적으로 두개의 값을 반환하는 것은 불가능, 대신 여러개의 값들을 컨테이너에 담아서 리턴하여 사용"
   ]
  },
  {
   "cell_type": "code",
   "execution_count": 25,
   "metadata": {},
   "outputs": [
    {
     "name": "stdout",
     "output_type": "stream",
     "text": [
      "(9, -1)\n",
      "<class 'tuple'>\n",
      "{'add': 9, 'minus': -1}\n",
      "<class 'dict'>\n"
     ]
    }
   ],
   "source": [
    "def add_minus(x, y):\n",
    "    return x+y, x-y\n",
    "\n",
    "result = add_minus(4,5)\n",
    "print(result)\n",
    "print(type(result)) \n",
    "\n",
    "def dic_add_minus(x, y):\n",
    "    return {\"add\": x+y, \"minus\" : x-y}\n",
    "\n",
    "result = dic_add_minus(4, 5)\n",
    "print(result)\n",
    "print(result.get(\"add\"))\n",
    "print(type(result))"
   ]
  },
  {
   "cell_type": "markdown",
   "metadata": {},
   "source": [
    "인수와 매개변수\n",
    "Argument, Parameter 의 차이점?\n",
    "\n",
    "__ 함수로 전달한 값을 인수 라고 부른다. 함수 외부에서 사용할 때 인수라고 한다.__  \n",
    "__ 함수 내부에서 사용하는 값들을 파라미터 라고 부른다.__\n",
    "\n",
    "매개변수, 파라미터 :함수를 정의할 때, 함수 내부에서 사용하는 변수  \n",
    "인수, 아규먼드 : 함수를 호출할 때, 함수 외부에서 사용되는 변수\n"
   ]
  },
  {
   "cell_type": "code",
   "execution_count": 27,
   "metadata": {},
   "outputs": [
    {
     "data": {
      "text/plain": [
       "'안녕하세요'"
      ]
     },
     "execution_count": 27,
     "metadata": {},
     "output_type": "execute_result"
    }
   ],
   "source": [
    "def echo(message): #파라미터,매개변수: massage\n",
    "    return message #파라미터\n",
    "\n",
    "echo(\"안녕하세요\") #아규먼트, 인수 \"안녕하세요\""
   ]
  },
  {
   "cell_type": "markdown",
   "metadata": {},
   "source": [
    "기본 인수값 지정하기\n",
    "매개변수에 기본값을 지정할 수 있다. 만약 인수로 들어온 값이 없다면 기본값을 사용하게 된다."
   ]
  },
  {
   "cell_type": "code",
   "execution_count": 29,
   "metadata": {},
   "outputs": [
    {
     "name": "stdout",
     "output_type": "stream",
     "text": [
      "5\n",
      "4\n"
     ]
    }
   ],
   "source": [
    "def add(x, y=2) : \n",
    "    return x+y\n",
    "print(add(2,3))\n",
    "print(add(2))"
   ]
  },
  {
   "cell_type": "markdown",
   "metadata": {},
   "source": [
    "정해지지 않은 여러개의 인수를 처리하는 방법  \n",
    "\n",
    "애스터리스크 또는 언패킹연산자 라고 불리는 * 사용  \n",
    "\n",
    "가변인자 (*args)\n",
    "- 여러개의 위치 인수를 하나의 필수 파라미터로 받아서 사용한다.\n",
    "- 멸개의 위치 인수를 받을지 모르는 함수를 작성할때 유용하다.\n",
    "\n",
    "패킹? 언패킹?\n",
    "- 패킹: 여러개의 데이터를 묶어서 하나의 면수에 할당한다.\n",
    "- 언패킹 : 시퀀스 속의 요소들을 여러개의 변수에 나눠서 할당한다."
   ]
  },
  {
   "cell_type": "code",
   "execution_count": null,
   "metadata": {},
   "outputs": [],
   "source": [
    "numbers = (1, 2, 3, 4, 5)\n",
    "\n",
    "print(numbers)"
   ]
  },
  {
   "cell_type": "code",
   "execution_count": 30,
   "metadata": {},
   "outputs": [
    {
     "name": "stdout",
     "output_type": "stream",
     "text": [
      "(1, 2, 3, 4, 5, '6')\n",
      "<class 'tuple'>\n"
     ]
    }
   ],
   "source": [
    "def func(*args):\n",
    "    print(args)\n",
    "    print(type(args))\n",
    "\n",
    "func(1,2,3,4,5, '6')\n"
   ]
  },
  {
   "cell_type": "code",
   "execution_count": 31,
   "metadata": {},
   "outputs": [
    {
     "name": "stdout",
     "output_type": "stream",
     "text": [
      "15\n"
     ]
    }
   ],
   "source": [
    "def sum_all(*numbers): #numbers 에는 몇개가 들어올지 모르는 상황\n",
    "    result = 0\n",
    "    for num in numbers:\n",
    "        result += num\n",
    "    return result\n",
    "\n",
    "print(sum_all(1,2,3,4,5))"
   ]
  },
  {
   "cell_type": "code",
   "execution_count": 32,
   "metadata": {},
   "outputs": [
    {
     "name": "stdout",
     "output_type": "stream",
     "text": [
      "아버지:아빠\n",
      "어머니:엄마\n",
      "그외 :\n",
      "누나\n",
      "형\n"
     ]
    }
   ],
   "source": [
    "def family(father, mother, *others):\n",
    "    print(\"아버지:\" + father)\n",
    "    print(\"어머니:\" + mother)\n",
    "    print(\"그외 :\")\n",
    "    for name in others:\n",
    "        print(name)\n",
    "\n",
    "family(\"아빠\", \"엄마\", \"누나\", \"형\")\n"
   ]
  },
  {
   "cell_type": "markdown",
   "metadata": {},
   "source": [
    "가변 키워드 인자 (**Kwargs)\n",
    "\n",
    "몇개의 키워드 인자를 받을지 모르는 함수를 정의할때 사용한다  \n",
    "**Kwargs는 딕셔너리로 묶어서 처리된다. **를 붙여서 표현한다."
   ]
  },
  {
   "cell_type": "code",
   "execution_count": 38,
   "metadata": {},
   "outputs": [
    {
     "ename": "IndentationError",
     "evalue": "expected an indented block after 'for' statement on line 2 (2479144526.py, line 3)",
     "output_type": "error",
     "traceback": [
      "\u001b[1;36m  Input \u001b[1;32mIn [38]\u001b[1;36m\u001b[0m\n\u001b[1;33m    print(key, \":\", value)\u001b[0m\n\u001b[1;37m    ^\u001b[0m\n\u001b[1;31mIndentationError\u001b[0m\u001b[1;31m:\u001b[0m expected an indented block after 'for' statement on line 2\n"
     ]
    }
   ],
   "source": [
    "def family(**Kwargs):\n",
    "    for key, value in Kwargs.items():\n",
    "    print(key, \":\", value)\n",
    "\n",
    "family(father=\"아버지\", mother=\"어머니\")"
   ]
  },
  {
   "cell_type": "markdown",
   "metadata": {},
   "source": [
    "파이썬의 범위 (Scope 스코프)\n",
    "LEGB?\n",
    "- L : Local scope : 지역범위 (함수,조건문, 코드블록 등)\n",
    "- E : Enclosed scope : 지역범위의 한단계 위 범위\n",
    "- G : Global scope : 최상단(파이썬 파일)에 위치한 범위\n",
    "- B : Built-in scope : 모든것을 담고 있는 범위(정의하지 않고도 사용할 수 있는 것들)"
   ]
  },
  {
   "cell_type": "code",
   "execution_count": null,
   "metadata": {},
   "outputs": [],
   "source": []
  },
  {
   "cell_type": "markdown",
   "metadata": {},
   "source": [
    "## 기타 그냥 알게된것들?.."
   ]
  },
  {
   "cell_type": "markdown",
   "metadata": {},
   "source": [
    "- 리스트에서 특정 단어 들어있는 원소 갯수 찾기..\n"
   ]
  },
  {
   "cell_type": "code",
   "execution_count": null,
   "metadata": {},
   "outputs": [],
   "source": [
    "orders = ['아이스아메리카노','카라멜마키야또','에스프레소','아메리카노','아메리카노',\n",
    "'아이스라떼','핫초코','아이스아메리카노','아메리카노','아이스카라멜마키야또','아이스라떼',\n",
    "'라떼마키야또','카푸치노','라떼마키야또']\n",
    "\n",
    "\n",
    "matching = [s for s in orders if \"아이스\" in s] \n",
    "print(len(matching))"
   ]
  },
  {
   "cell_type": "code",
   "execution_count": null,
   "metadata": {},
   "outputs": [],
   "source": [
    "#리스트에서 특정단어 갯수찾기\n",
    "list.count('단어')"
   ]
  },
  {
   "cell_type": "code",
   "execution_count": 16,
   "metadata": {},
   "outputs": [
    {
     "name": "stdout",
     "output_type": "stream",
     "text": [
      "[4, 3, 2, 1]\n"
     ]
    }
   ],
   "source": [
    "#리스트 뒤집기[::-1]\n",
    "mylist = [1, 2, 3, 4]\n",
    "mylist = mylist[::-1]\n",
    "print(mylist)"
   ]
  },
  {
   "cell_type": "code",
   "execution_count": null,
   "metadata": {},
   "outputs": [],
   "source": [
    "# 인풋 받아서 스플릿하기\n",
    "a = input().split()"
   ]
  },
  {
   "cell_type": "markdown",
   "metadata": {},
   "source": [
    "## if문도 그렇고 함수 def도 그렇고 ':' 이거 까먹지 말자!!!"
   ]
  }
 ],
 "metadata": {
  "kernelspec": {
   "display_name": "Python 3.10.5 64-bit",
   "language": "python",
   "name": "python3"
  },
  "language_info": {
   "codemirror_mode": {
    "name": "ipython",
    "version": 3
   },
   "file_extension": ".py",
   "mimetype": "text/x-python",
   "name": "python",
   "nbconvert_exporter": "python",
   "pygments_lexer": "ipython3",
   "version": "3.10.5"
  },
  "orig_nbformat": 4,
  "vscode": {
   "interpreter": {
    "hash": "369f2c481f4da34e4445cda3fffd2e751bd1c4d706f27375911949ba6bb62e1c"
   }
  }
 },
 "nbformat": 4,
 "nbformat_minor": 2
}
