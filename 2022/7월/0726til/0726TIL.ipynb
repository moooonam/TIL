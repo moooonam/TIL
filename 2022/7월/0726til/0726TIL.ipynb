{
 "cells": [
  {
   "cell_type": "markdown",
   "metadata": {},
   "source": [
    "# 0726 TIL\n",
    "\n",
    "\n"
   ]
  },
  {
   "cell_type": "code",
   "execution_count": 1,
   "metadata": {},
   "outputs": [
    {
     "name": "stdout",
     "output_type": "stream",
     "text": [
      "85.5\n"
     ]
    }
   ],
   "source": [
    "# 평균점수 구하기\n",
    "def get_dict_avg(student):\n",
    "    scores = []\n",
    "    for score in student.values(): # 딕셔너리 않에 값만 가져옴\n",
    "        scores.append(score)\n",
    "\n",
    "    result = sum(scores) / len(student)\n",
    "    return result # return 안하고 print 하면 값이 안남음\n",
    "    # 방법2\n",
    "    # sum(student.values()) / len(student.keys())\n",
    "\n",
    "student = {\"python\": 80, \"web\":83, \"algorithm\":90, \"django\":89}\n",
    "\n",
    "print(get_dict_avg(student))"
   ]
  },
  {
   "cell_type": "markdown",
   "metadata": {
    "vscode": {
     "languageId": "python"
    }
   },
   "source": [
    "## 주피터 노트북에서는 print 안해도 함수의 return값을 보여준다 !!!!!!! 다른 환경에서 보여주려면 print 꼭 해야함"
   ]
  },
  {
   "cell_type": "code",
   "execution_count": 4,
   "metadata": {},
   "outputs": [
    {
     "name": "stdout",
     "output_type": "stream",
     "text": [
      "2\n"
     ]
    }
   ],
   "source": [
    "#모음은 몇개나 있을까?\n",
    "def count_vowels(word):\n",
    "    vowels = 'aeiou'\n",
    "    result = 0\n",
    "    for vowel in vowels:\n",
    "        result += word.count(vowel) # word 안에 모음이 몇개 있는지 센 다음 더해서 저장한다.\n",
    "    return result\n",
    "\n",
    "print(count_vowels(\"apple\"))"
   ]
  },
  {
   "cell_type": "markdown",
   "metadata": {
    "vscode": {
     "languageId": "python"
    }
   },
   "source": [
    "### 문자열 다루기"
   ]
  },
  {
   "cell_type": "code",
   "execution_count": 9,
   "metadata": {},
   "outputs": [
    {
     "name": "stdout",
     "output_type": "stream",
     "text": [
      "kurassic\n",
      "jurattic\n",
      "juratsic\n",
      "     jurassic      \n",
      "jurassic\n"
     ]
    }
   ],
   "source": [
    "print(\"jurassic\".replace(\"j\",\"k\"))\n",
    "print(\"jurassic\".replace(\"s\",\"t\"))\n",
    "print(\"jurassic\".replace(\"s\",\"t\", 1)) #3번째 인자는 선택사항이고 바꿀 문자열의 갯수를 지정해줌\n",
    "print(\"     jurassic      \") \n",
    "print(\"     jurassic      \".strip()) # 공백 제거"
   ]
  },
  {
   "cell_type": "markdown",
   "metadata": {},
   "source": [
    "# 문자열\n",
    "\n",
    "### `.find(x)` \n",
    "\n",
    "x의 **첫 번째 위치**를 반환합니다. 만일 리스트 내에 x가 없으면, `-1`을 반환합니다.  \n",
    "\n",
    "### `.index(x)`\n",
    "\n",
    "x의 **첫 번째 위치**를 반환합니다. 만일 x가 리스트 내에 없으면, 오류가 발생합니다.\n",
    "\n",
    "### `.startswith(x)`, `/.endswith(x)`\n",
    "\n",
    "- `.startswith(x)` : 문자열이 x로 시작하면 True를 반환하고 아니면 False를 반환합니다.\n",
    "- `.endswith(x)` : 문자열이 x로 끝나면 True를 반환하고 아니면 False를 반환합니다.\n",
    "\n",
    "\n",
    "### `'separator'.join(iterable)`\n",
    "iterable 의 문자열들을 separator(구분자)로 이어 붙인(`join()`) 문자열을 반환합니다.\n",
    "\n",
    "다른 메서드들과 달리, <u>**구분자**</u>가 join 메서드를 제공하는 문자열입니다.\n",
    "\n",
    "---"
   ]
  },
  {
   "cell_type": "markdown",
   "metadata": {},
   "source": [
    "## 리스트 값 추가 및 삭제\n",
    "\n",
    "### `.append(x)`\n",
    "\n",
    "리스트에 값을 추가할 수 있습니다.\n",
    "\n",
    "`a[len(a):] = [x]` 와 동일합니다.\n",
    "\n",
    "### `.extend(iterable)`\n",
    "\n",
    "리스트에 iterable(list, range, tuple, string) 값을 붙일 수가 있습니다.\n",
    "\n",
    "`a[len(a):] = iterable` 와 동일합니다.\n",
    "\n",
    "### `.insert(i, x)`\n",
    "\n",
    "정해진 위치 `i`에 값을 추가합니다.  \n",
    "a.insert(0, x)는 리스트의 처음에 x를 삽입하고,  \n",
    "a.insert(len(a), x) 는 a.append(x) 와 같습니다.  \n",
    "\n",
    "### `.pop([i])`\n",
    "\n",
    "정해진 위치 `i`에 있는 값을 삭제하며, 그 항목을 반환합니다.\n",
    "\n",
    "`i`가 지정되지 않으면 마지막 항목을 삭제하고 되돌려줍니다.\n",
    "\n",
    "### `.clear()`\n",
    "\n",
    "리스트의 모든 항목을 삭제합니다.  \n",
    "\n",
    "---"
   ]
  },
  {
   "cell_type": "markdown",
   "metadata": {},
   "source": [
    "## 리스트 정렬\n",
    "\n",
    "### `.sort()`\n",
    "\n",
    "리스트를 정렬합니다.\n",
    "\n",
    "내장함수 `sorted()` 와는 다르게 **원본 list를 변형**시키고, **`None`**을 리턴합니다.\n",
    "\n",
    "파라미터로는 `key`와 `reverse`가 있습니다.\n",
    "\n",
    "### `.reverse()`\n",
    "\n",
    "리스트의 element들을 제자리에서 반대로 뒤집습니다.\n",
    "정렬하는 것이 아닌 원본 순서를 뒤집고 수정합니다.\n",
    "\n",
    "내장함수 `reversed()` 와는 다르게 **원본 list를 변형**시키고, **`None`**을 리턴합니다.\n",
    "\n",
    "sort와 마찬가지로, 파라미터 `key`와 `reverse`가 있습니다.\n",
    "\n",
    "---"
   ]
  },
  {
   "cell_type": "markdown",
   "metadata": {},
   "source": [
    "## SET 추가 및 삭제\n",
    "\n",
    "### `.add(elem)`\n",
    "elem을 셋(set)에 추가합니다.\n",
    "\n",
    "### `.update(*others)`\n",
    "\n",
    "여러 값을 추가합니다.\n",
    "\n",
    "반드시 iterable 데이터 구조를 전달해야합니다.\n",
    "\n",
    "### `.remove(elem)`\n",
    "\n",
    "elem을 셋(set)에서 삭제하고, 셋(set) 내에 elem이 존재하지 않으면 KeyError가 발생합니다.\n",
    "\n",
    "### `.discard(elem)`\n",
    "`elem`을 셋(set)에서 삭제합니다.\n",
    "\n",
    "remove와 다른 점은 elem이 셋(set) 내에 존재하지 않아도, 에러가 발생하지 않는다는 점입니다.\n",
    "\n",
    "---"
   ]
  },
  {
   "cell_type": "markdown",
   "metadata": {},
   "source": [
    "# 딕셔너리(Dictionary)\n",
    "\n",
    "> 변경 가능하고(mutable), 순서가 없고(unordered), 순회 가능한(iterable)\n",
    ">\n",
    "> `Key: Value` 페어(pair)의 자료구조\n",
    "\n",
    "### `.get(key[, default])`\n",
    "\n",
    "key를 통해 value를 가져옵니다.\n",
    "\n",
    "key가 존재하지 않을 경우 None을 반환합니다.\n",
    "<u>KeyError가 발생하지 않습니다.</u>\n",
    "\n",
    "### `.setdefault(key[, default])`\n",
    "`dict.get()` 메서드와 비슷한 동작을 하는 메서드로, key가 딕셔너리에 있으면 value를 돌려줍니다.\n",
    "\n",
    "get과 다른 점은 key가 딕셔너리에 없을 경우, default 값을 갖는 key 를 삽입한 후 default 를 반환한다는 점입니다. 만일 default가 주어지지 않을 경우, None 을 돌려줍니다.\n",
    "\n",
    "## 추가 및 삭제\n",
    "\n",
    "### `.pop(key[, default])`\n",
    "\n",
    "key가 딕셔너리에 있으면 제거하고 그 값을 돌려줍니다. 그렇지 않으면 default를 반환합니다.\n",
    "\n",
    "default가 없는 상태에서 해당 key가 딕셔너리에 없는 경우, KeyError가 발생합니다.\n",
    "\n",
    "### `.update([other])`\n",
    "other 가 제공하는 key,value 쌍으로 딕셔너리를 덮어씁니다.\n",
    "`other` 는 다른 딕셔너리나 key/value 쌍으로 되어있는 모든 iterable을 사용 가능합니다.\n",
    "\n",
    "- `keyword argument`로 업데이트 하는 방법\n",
    "    - 키워드 인자가 지정되면, 딕셔너리는 그 key/value 쌍으로 갱신됩니다."
   ]
  },
  {
   "cell_type": "code",
   "execution_count": 29,
   "metadata": {},
   "outputs": [
    {
     "name": "stdout",
     "output_type": "stream",
     "text": [
      "{'proper': 'improper', 'possible': 'impossible', 'moral': 'immoral', 'patient': 'impatient', 'balance': 'imbalance', 'perfect': 'imperfect', 'logical': 'imlogical', 'legal': 'imlegal', 'relevant': 'imrelevant', 'responsible': 'imresponsible', 'regular': 'imregular'}\n"
     ]
    }
   ],
   "source": [
    "# 실습과제 0725 ws_5-5\n",
    "\n",
    "# 영어 접두사 in\n",
    "# 아래의 경우는 in말고 변형된 형태가 옴\n",
    "#1. 단어가 b,m,p로 시작하는 경우 => im\n",
    "#2. 단어가 l로 시작하는 경우 => il\n",
    "#3. 단어가 r로 시작하는 경우=> ir\n",
    "\n",
    "def get_opposite(words_dict):\n",
    "    opposite_dict = {}\n",
    "    #key : 원래단어 / valut:반대단어 ex) {\"correct\": \"incorrect\"}\n",
    "    for word in words_dict.keys():\n",
    "        start = word[0]\n",
    "        opposite = \"\" \n",
    "        if start == 'b' or 'm' or 'p':\n",
    "            opposite = \"im\" + word\n",
    "        elif start == 'l':\n",
    "            opposite = \"il\" + word\n",
    "        elif start == 'r':\n",
    "            opposite = \"ir\" + word\n",
    "        else:\n",
    "            opposite = 'in' +word\n",
    "        opposite_dict[word] = opposite\n",
    "    sorted_result = sorted(opposite_dict.items(), key=lambda item:[1])        \n",
    "    return opposite_dict\n",
    "\n",
    "\n",
    "\n",
    "words_dict = {'proper' : '적절한',\n",
    "'possible' : '가능한',\n",
    "'moral' : '도덕적인',\n",
    "'patient' : '참을성 있는',\n",
    "'balance' : '균형',\n",
    "'perfect' : '완벽한',\n",
    "'logical' : '논리적인',\n",
    "'legal' : '합법적인',\n",
    "'relevant' : '관련 있는',\n",
    "'responsible' : '책임감 있는',\n",
    "'regular' : '규칙적인'}\n",
    "\n",
    "print(get_opposite(words_dict))"
   ]
  },
  {
   "cell_type": "code",
   "execution_count": null,
   "metadata": {},
   "outputs": [],
   "source": []
  },
  {
   "cell_type": "code",
   "execution_count": null,
   "metadata": {},
   "outputs": [],
   "source": []
  },
  {
   "cell_type": "code",
   "execution_count": null,
   "metadata": {},
   "outputs": [],
   "source": []
  },
  {
   "cell_type": "code",
   "execution_count": null,
   "metadata": {},
   "outputs": [],
   "source": []
  }
 ],
 "metadata": {
  "kernelspec": {
   "display_name": "Python 3.9.13 64-bit",
   "language": "python",
   "name": "python3"
  },
  "language_info": {
   "codemirror_mode": {
    "name": "ipython",
    "version": 3
   },
   "file_extension": ".py",
   "mimetype": "text/x-python",
   "name": "python",
   "nbconvert_exporter": "python",
   "pygments_lexer": "ipython3",
   "version": "3.9.13"
  },
  "orig_nbformat": 4,
  "vscode": {
   "interpreter": {
    "hash": "3d3579b64ed644892bc49d0da2d1890659408e00eebf25200bc250e1696a02dd"
   }
  }
 },
 "nbformat": 4,
 "nbformat_minor": 2
}
