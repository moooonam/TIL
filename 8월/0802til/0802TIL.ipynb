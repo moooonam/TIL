{
 "cells": [
  {
   "cell_type": "markdown",
   "metadata": {},
   "source": [
    "# 0802(화) TIL"
   ]
  },
  {
   "cell_type": "markdown",
   "metadata": {},
   "source": [
    "- html 스타일은 해드에 들어감\n",
    "- 결합자: 다른 선택자와 결합 해서 문서내의 어떤 요소를 대상으로 하기 위해 사용한다.\n",
    "  - 자손 결합자(공백)\n",
    "    - selectorA 하위의 모든 selectorB 요소\n",
    "  - 자식 결합자(>)\n",
    "    - selectorA 바로 아래의 selectorB 요소\n",
    "  - 일반 형제 결합자(~)\n",
    "    - selectorA의 형제 요소 중 뒤에 위치하는 selectorB 요소를 모두 선택\n",
    "  - 인접 형제 결합자(+)\n",
    "    - selectorA의 형제 요소 중 바로 뒤에 위치하는 selectorB 요소를 선택\n",
    "- /* 주석내용 */  <=주석은 이런식으로 하는듯\n",
    "- 시맨틱 태그의 종류는 다음과 같다.\n",
    "  - header: 일반적으로 제목, 로고, 등의 웹페이지의 주요 정보가 있는곳\n",
    "  - nav: (navigation var) :홈페이지의 메뉴버튼, 링크, 탭 이런 내용들이 모여져있는 사용자의 편의를 위해 제공하는 것들\n",
    "  - aside, section, article, footer ....\n",
    "- css 가져와서 쓰기 link rel=\"stylesheet\" href=\"css파일이름.css\""
   ]
  },
  {
   "cell_type": "markdown",
   "metadata": {},
   "source": [
    "## HTML(HyperText Markup Language)\n",
    "- 우리가 보는 웹페이지가 어떻게 구조화 되어있는지 브라우저로 하여금 알 수 있도록 해주는 마크업 언어.\n",
    "- HTML은 element(요소)로 이우어져 있다. =>tag로 감싸서 표현\n",
    "- 태그의 역할은 다른 페이지로 이동시켜주는 하이퍼링크를 생성하거나, 단어를 강조하는 등의 역할을 해준다.\n",
    "\n",
    "```html\n",
    "<a href =\"www.naver.com\">네이버로 이동 </a>\n",
    "<strong>단어강조</strong>\n",
    "```\n",
    "- 태그의 왼쪽에 존재하는 것이 여는 태그 (Opening Tag)\n",
    "  - 요소의 이름과 열고 닫는 꺽쇠 괄호(부등호 표시)로 구성된다.\n",
    "- 태그의 오른쪽 마지막에 존재하는 것이 닫는 태그(Closing tag)\n",
    "  - 요소의 이름 앞에 슬래시(/)가 있다. 나머지는 여는 태그와 같다.\n",
    "  - 닫는 태그는 요수의 끝에 위치한다. 닫는태그는 여는 태그가 있으면 꼭 존재 해야한다.\n",
    "- 여는태그와 닫는 태그의 사이에 위치하는 것이 내용 (Content)\n",
    "  - 요소의 내용\n",
    "- 여는태그, 닫는태그, 내용을 다 합쳐서 요소라고 한다.   "
   ]
  },
  {
   "cell_type": "markdown",
   "metadata": {},
   "source": [
    "### 요소는 중첩 가능하다.\n",
    "```html\n",
    "<div>\n",
    "    <strong> I am Strong</strong>\n",
    "</div>\n",
    "```\n",
    "- 요소 안에 모든 다른 요소가 들어갈 수 있따.\n"
   ]
  },
  {
   "cell_type": "markdown",
   "metadata": {},
   "source": [
    "### CSS ? (Cascading Style Sheets)\n",
    "\n",
    "HTML 은 웹 페이지의 구조를 설명한는데 필요한 언어이고  \n",
    "CSS 웹 문서(페이지)를 사용자에게 어떻게 보여줄건지 를 표시하는 언어(스타일링,꾸며준다)\n",
    "```CSS\n",
    "h1 {\n",
    "    color:red;\n",
    "    font-size:20px;\n",
    "}\n",
    "```\n",
    "- 스타일을 지정할 HTML요소를 선택(h1 태그)\n",
    "- 중괄호를 이용해서 어느 속성들을 지정해 줄지 선언\n",
    "- 속성: 값 쌍으로 이루어진 한줄 이상의 코드\n",
    "  - 스타일을 지정해줄 속성, 어떻게 지정해줄지를 설명하는 값\n",
    "\n",
    "###  HTML에 CSS 적용하기\n",
    "\n",
    "1. 외부 스타일 시트 사용(.css 파일)\n",
    "2. 내부 스타일 시트 사용 (html 파일 안의 style태그)\n",
    "3. 인라인 스타일(태그 내의 style속성 안에 작성) => 제일 지양해야할(피해야할) 작성 방법\n",
    "\n",
    "### 선택자\n",
    "\n",
    "CSS를 적용하기 위해서 어떤 HTML 요소를 선택해야 하는지 알려주는 패턴  \n",
    "\n",
    "\n",
    "### CSS box model\n",
    "\n",
    "- html 요소들은 모두  상자 모양으로 크기를 가지고 있다 (공간을 차지한다).\n",
    "- 그 상자 모양을 이루는 4가지 요소\n",
    "  1. margin :여백\n",
    "  2. border: 테두리, 경계선\n",
    "  3. padding : 내부여백 => content를 얼마만큼 공백을 주고 내부에 위치 시킬지\n",
    "  4. content : 내용물,컨텐츠가 표시되는 영역\n",
    "\n",
    "\n",
    " "
   ]
  },
  {
   "cell_type": "code",
   "execution_count": null,
   "metadata": {},
   "outputs": [],
   "source": []
  }
 ],
 "metadata": {
  "kernelspec": {
   "display_name": "Python 3.9.13 64-bit",
   "language": "python",
   "name": "python3"
  },
  "language_info": {
   "name": "python",
   "version": "3.9.13"
  },
  "orig_nbformat": 4,
  "vscode": {
   "interpreter": {
    "hash": "3d3579b64ed644892bc49d0da2d1890659408e00eebf25200bc250e1696a02dd"
   }
  }
 },
 "nbformat": 4,
 "nbformat_minor": 2
}
