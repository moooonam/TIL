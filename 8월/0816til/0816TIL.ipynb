{
 "cells": [
  {
   "cell_type": "markdown",
   "metadata": {},
   "source": [
    "# 0816(화) TIL\n",
    "\n"
   ]
  },
  {
   "cell_type": "code",
   "execution_count": null,
   "metadata": {},
   "outputs": [],
   "source": [
    "# 문자열 비교 교수님 풀이\n",
    "T = int (input())\n",
    "\n",
    "for tc in range(1,T+1):\n",
    "    pattern = input()\n",
    "    text = input()\n",
    "\n",
    "    pl = len(pattern)\n",
    "    tl = len(text)\n",
    "\n",
    "    pi=0\n",
    "    ti=0\n",
    "\n",
    "    answer=0\n",
    "    \n",
    "    while ti < tl and pi < pl:\n",
    "        if pattern[pi]!=text[ti]:\n",
    "            ti = ti - pi +1\n",
    "            pi=0\n",
    "        else:\n",
    "            pi += 1\n",
    "            ti += 1\n",
    "        if pi==pl:\n",
    "            answer =1\n",
    "            break\n",
    "print(f'#{tc} {answer}')"
   ]
  },
  {
   "cell_type": "code",
   "execution_count": null,
   "metadata": {},
   "outputs": [],
   "source": [
    "# 회문찾기 교수님 풀이\n",
    "# 인풋은 생략하겠음\n",
    "# 교수님은 인풋을 리스트로 받았음\n",
    "for i in range(n):\n",
    "    for j in range(n-m+1)\n",
    "        word_row=\"\"\n",
    "        for k in range(m):\n",
    "            word_row+= text[i][j+k]\n",
    "\n",
    "            if text[i][j+k] != text[i][j+m-k+1]:\n",
    "                break\n",
    "            if k==m-1\n",
    "                answer=word_row\n",
    "        #이번엔 세로 검사\n",
    "        word_col=\"\"\n",
    "        for k in range(m)\n",
    "            word_col += text[j+k][i]\n",
    "            if text[j+k][i]!= text[j+m-k-1][i]:\n",
    "                break\n",
    "            if k ==m-1:\n",
    "                answer =word_col\n",
    "\n",
    "print('')"
   ]
  },
  {
   "cell_type": "code",
   "execution_count": 1,
   "metadata": {},
   "outputs": [
    {
     "name": "stdout",
     "output_type": "stream",
     "text": [
      "0 1 4 7 8\n"
     ]
    }
   ],
   "source": [
    "a = [0, 1, 4, 7, 8]\n",
    "result = ' '.join(str(i) for i in a)\n",
    "print(result)\n",
    "# 숫자 리스트를 리스트 없에고 출력하기"
   ]
  }
 ],
 "metadata": {
  "kernelspec": {
   "display_name": "Python 3.9.13 64-bit",
   "language": "python",
   "name": "python3"
  },
  "language_info": {
   "codemirror_mode": {
    "name": "ipython",
    "version": 3
   },
   "file_extension": ".py",
   "mimetype": "text/x-python",
   "name": "python",
   "nbconvert_exporter": "python",
   "pygments_lexer": "ipython3",
   "version": "3.9.13"
  },
  "orig_nbformat": 4,
  "vscode": {
   "interpreter": {
    "hash": "3d3579b64ed644892bc49d0da2d1890659408e00eebf25200bc250e1696a02dd"
   }
  }
 },
 "nbformat": 4,
 "nbformat_minor": 2
}
