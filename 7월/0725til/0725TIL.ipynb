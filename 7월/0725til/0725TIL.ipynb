{
 "cells": [
  {
   "cell_type": "markdown",
   "metadata": {},
   "source": [
    "# 0725 TIL\n",
    "\n",
    "\n",
    "append 쓸때\n",
    "my_list = my_list.append() 이따구로 하면 안되고\n",
    "my_list.append() 그냥 이렇게 해야함"
   ]
  },
  {
   "cell_type": "markdown",
   "metadata": {},
   "source": [
    "## 리스트에서 숫자 붙이기\n",
    "join 앞에는 뭘로 구분할건지"
   ]
  },
  {
   "cell_type": "code",
   "execution_count": 18,
   "metadata": {},
   "outputs": [
    {
     "name": "stdout",
     "output_type": "stream",
     "text": [
      "12345\n",
      "1,2,3,4,5\n"
     ]
    }
   ],
   "source": [
    "li = [1,2,3,4,5]\n",
    "a = ''.join(map(str,li))\n",
    "b = ','.join(map(str,li))\n",
    "print(a)\n",
    "print(b)\n",
    "\n",
    "\n"
   ]
  },
  {
   "cell_type": "markdown",
   "metadata": {},
   "source": [
    "### 2진수로 바꾸기\n",
    "\n"
   ]
  },
  {
   "cell_type": "code",
   "execution_count": 16,
   "metadata": {},
   "outputs": [
    {
     "name": "stdout",
     "output_type": "stream",
     "text": [
      "110111\n"
     ]
    }
   ],
   "source": [
    "# 내답\n",
    "def dec_to_bin(n):\n",
    "    my_list = list()\n",
    "    while True:\n",
    "        a = n%2\n",
    "        n = n//2\n",
    "        my_list.append(a)\n",
    "        if n == 1:\n",
    "            my_list.append(1)\n",
    "            break\n",
    "        elif n == 0:\n",
    "            my_list.append(0)\n",
    "            break\n",
    "    my_list = my_list[::-1]\n",
    "    print(''.join(map(str,my_list)))\n",
    "\n",
    "dec_to_bin(55)\n"
   ]
  },
  {
   "cell_type": "markdown",
   "metadata": {},
   "source": [
    "## 재귀 활용.. 엄청나다.."
   ]
  },
  {
   "cell_type": "code",
   "execution_count": 19,
   "metadata": {},
   "outputs": [
    {
     "data": {
      "text/plain": [
       "'110111'"
      ]
     },
     "execution_count": 19,
     "metadata": {},
     "output_type": "execute_result"
    }
   ],
   "source": [
    "# 교수님 답\n",
    "\n",
    "def dec_to_bin(number):\n",
    "    if number < 2:\n",
    "        return str(number)\n",
    "    else:\n",
    "        return dec_to_bin(number//2) + dec_to_bin(number % 2)\n",
    "\n",
    "dec_to_bin(55)\n",
    "        \n"
   ]
  },
  {
   "cell_type": "markdown",
   "metadata": {},
   "source": [
    "### 데이터 구조 활용\n",
    "method 활용\n",
    "\n",
    "데이터 구조.메서드() 형태\n",
    "주어.동사()"
   ]
  },
  {
   "cell_type": "code",
   "execution_count": 22,
   "metadata": {},
   "outputs": [
    {
     "name": "stdout",
     "output_type": "stream",
     "text": [
      "['a', ' b', ' c']\n",
      "['a', 'b', 'c']\n",
      "['서울시', '강남구', '00동']\n",
      "s*s*a*f*y\n",
      "3 5\n"
     ]
    }
   ],
   "source": [
    "print('a, b, c'.split(','))\n",
    "print('a b c'.split())\n",
    "print('서울시 강남구 00동'.split())\n",
    "\n",
    "print('*'.join('ssafy'))\n",
    "print(' '.join(['3', '5']))"
   ]
  },
  {
   "cell_type": "code",
   "execution_count": null,
   "metadata": {},
   "outputs": [],
   "source": [
    "# 평면 좌표에서 현재 좌표와 이동하는 방향이 주어졌을때,\n",
    "# 이동하고 난 후의 위치가 유효한 위치인지 알려주는 함수\n",
    "\n",
    "def is_position_safe(N, M, position):\n",
    "    # N : 행, 열의크기\n",
    "    # M : 이동하는 방향 (1칸씩 이동한다.)\n",
    "    # position : 현재 위치를 말해주는 튜플 (0, 0) => x=0, t=0, 0행 0열에 있다\n",
    "    x, y = position\n",
    "    # 0, 1, 2, 3 :상 하 좌 우\n",
    "    if M == 0 : #위로 움직인다.\n",
    "        x += -1\n",
    "    elif M == 1 :\n",
    "        x += 1\n",
    "    elif M == 2:\n",
    "        y += -1\n",
    "    elif M == 3:\n",
    "        y += 1\n",
    "\n",
    "    # 이동한 다음에 x,y가 범위 안에 있는지 확인\n",
    "    if 0 <= x <= N-1 and 0 <= y <= N-1:\n",
    "        return True\n",
    "    else:\n",
    "        return False\n",
    "\n"
   ]
  }
 ],
 "metadata": {
  "kernelspec": {
   "display_name": "Python 3.10.5 64-bit",
   "language": "python",
   "name": "python3"
  },
  "language_info": {
   "codemirror_mode": {
    "name": "ipython",
    "version": 3
   },
   "file_extension": ".py",
   "mimetype": "text/x-python",
   "name": "python",
   "nbconvert_exporter": "python",
   "pygments_lexer": "ipython3",
   "version": "3.10.5"
  },
  "orig_nbformat": 4,
  "vscode": {
   "interpreter": {
    "hash": "369f2c481f4da34e4445cda3fffd2e751bd1c4d706f27375911949ba6bb62e1c"
   }
  }
 },
 "nbformat": 4,
 "nbformat_minor": 2
}
