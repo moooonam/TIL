{
 "cells": [
  {
   "cell_type": "markdown",
   "metadata": {},
   "source": [
    "# 0729(금)TIL"
   ]
  },
  {
   "cell_type": "markdown",
   "metadata": {},
   "source": [
    "### 생성자(constructor) 메서드\n",
    "- 인스턴스 객체가 생성될 때 자동으로 호출되는 함수입니다.\n",
    "- 반드시 `__init__` 이라는 이름으로 정의합니다.\n",
    "\n",
    "\n",
    "\n",
    "### from  **'가져올 파일'**  import  **'함수이름'** as  **'내가 바꿔서 사용할 함수이름'**"
   ]
  },
  {
   "cell_type": "markdown",
   "metadata": {},
   "source": [
    "### 1. 도형만들기\n",
    "Point 라는 클래스를 만들고 x,y위치를 뜻하는 정수 두개를 입력받아서 초기화하는 생성자 작성"
   ]
  },
  {
   "cell_type": "code",
   "execution_count": null,
   "metadata": {},
   "outputs": [],
   "source": [
    "class Point:\n",
    "    def __init__(self, x, y):\n",
    "        self.x = x\n",
    "        self.y = y\n",
    "\n",
    "class Rectangle:\n",
    "    def __init__(self, p1, p2):\n",
    "        self.p1 = p1\n",
    "        self.p2 = p2\n",
    "\n",
    "    def get_area(self):\n",
    "        width = abs(self.p2.x - self.p1.x)\n",
    "        height = abs(self.p1.y - self.p2.y)\n",
    "        return width*height\n",
    "    \n",
    "    def get_perimeter(self):\n",
    "        width = abs(self.p2.x - self.p1.x)\n",
    "        height = abs(self.p1.y - self.p2.y)\n",
    "        return (width+height)*2\n",
    "\n",
    "    def is_square(self):\n",
    "        width = abs(self.p2.x - self.p1.x)\n",
    "        height = abs(self.p1.y - self.p2.y)\n",
    "        return width == height\n"
   ]
  },
  {
   "cell_type": "markdown",
   "metadata": {},
   "source": [
    "### 딕셔너리 정렬"
   ]
  },
  {
   "cell_type": "code",
   "execution_count": 6,
   "metadata": {},
   "outputs": [
    {
     "name": "stdout",
     "output_type": "stream",
     "text": [
      "[{'이름': '김무무', '나이': '27', '정렬대상': 1}, {'이름': '김사피', '나이': '26', '정렬대상': 2}, {'이름': '토르', '나이': '1500', '정렬대상': 3}, {'이름': '홍길동', '나이': '30', '정렬대상': 4}]\n"
     ]
    }
   ],
   "source": [
    "my_dict_list = [\n",
    "    {'이름':\"김사피\", \"나이\":\"26\", \"정렬대상\": 2},\n",
    "    {'이름':\"김무무\", \"나이\":\"27\", \"정렬대상\": 1},\n",
    "    {'이름':\"홍길동\", \"나이\":\"30\", \"정렬대상\": 4},\n",
    "    {'이름':\"토르\", \"나이\":\"1500\", \"정렬대상\": 3}\n",
    "]\n",
    "# 방법 1 람다 사용 but 어려움\n",
    "# sorted_dict_list = sorted(my_dict_list, key=lambda dict1: dict1.get(\"정렬대상\"))\n",
    "# print(sorted_dict_list)\n",
    "# 방법2 정렬 대상을 리턴하는 함수를 직접 생성\n",
    "def function1(dict1): #dict1은 딕셔너리이다.\n",
    "    return dict1.get(\"정렬대상\")\n",
    "sorted_dict_list = sorted(my_dict_list, key=function1)\n",
    "print(sorted_dict_list)"
   ]
  },
  {
   "cell_type": "code",
   "execution_count": null,
   "metadata": {},
   "outputs": [],
   "source": []
  }
 ],
 "metadata": {
  "kernelspec": {
   "display_name": "Python 3.9.13 64-bit",
   "language": "python",
   "name": "python3"
  },
  "language_info": {
   "codemirror_mode": {
    "name": "ipython",
    "version": 3
   },
   "file_extension": ".py",
   "mimetype": "text/x-python",
   "name": "python",
   "nbconvert_exporter": "python",
   "pygments_lexer": "ipython3",
   "version": "3.9.13"
  },
  "orig_nbformat": 4,
  "vscode": {
   "interpreter": {
    "hash": "3d3579b64ed644892bc49d0da2d1890659408e00eebf25200bc250e1696a02dd"
   }
  }
 },
 "nbformat": 4,
 "nbformat_minor": 2
}
