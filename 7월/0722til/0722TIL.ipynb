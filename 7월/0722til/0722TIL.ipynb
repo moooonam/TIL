{
 "cells": [
  {
   "cell_type": "markdown",
   "metadata": {},
   "source": [
    "# 0722 TIL"
   ]
  },
  {
   "cell_type": "markdown",
   "metadata": {},
   "source": [
    "- chr(number) ==> number에 대응하는 아스키코드를 가진 알파벳 변환  \n",
    "- ord(char) 주어진 문자열 char 를 아스키코드로 바꿔주는 함수\n",
    "\n",
    "  -sorted() => 결과가 리스트, 물자열로 변환해야한다.==> join()"
   ]
  },
  {
   "cell_type": "markdown",
   "metadata": {},
   "source": []
  },
  {
   "cell_type": "code",
   "execution_count": null,
   "metadata": {},
   "outputs": [],
   "source": []
  },
  {
   "cell_type": "code",
   "execution_count": null,
   "metadata": {},
   "outputs": [],
   "source": []
  },
  {
   "cell_type": "code",
   "execution_count": null,
   "metadata": {},
   "outputs": [],
   "source": []
  },
  {
   "cell_type": "markdown",
   "metadata": {},
   "source": [
    "## 0721 HW, WS 풀이 "
   ]
  },
  {
   "cell_type": "markdown",
   "metadata": {},
   "source": [
    "### 1. 간단한 N의 약수 (SWEA #1933)\n",
    "입력으로 1개의 정수 N이 주어진다. 정수 N의 약수를 오름차순으로 출력하는 프로그램을 완성하시오."
   ]
  },
  {
   "cell_type": "code",
   "execution_count": 3,
   "metadata": {},
   "outputs": [
    {
     "name": "stdout",
     "output_type": "stream",
     "text": [
      "1 2 3 4 6 8 12 24 "
     ]
    }
   ],
   "source": [
    "N = int(input())\n",
    "\n",
    "# 반복문을 통해 1부터 N까지 순회하면서 N을 나누어서 나머지가 0이면 출력\n",
    "for i in range(1, N+1):\n",
    "    if N % i == 0:\n",
    "        print(i, end=\" \")\n"
   ]
  },
  {
   "cell_type": "markdown",
   "metadata": {},
   "source": [
    "### 2. List의 합 구하기\n",
    "정수로만 이루어진 list를 전달 받아 해당 리스트의 모든 요소들의 합을 Built-in 함수인 sum()을 사용하지 않고\n",
    "list_sum 이라는 이름을 가진 함수로 작성하시오."
   ]
  },
  {
   "cell_type": "code",
   "execution_count": 4,
   "metadata": {},
   "outputs": [
    {
     "data": {
      "text/plain": [
       "21"
      ]
     },
     "execution_count": 4,
     "metadata": {},
     "output_type": "execute_result"
    }
   ],
   "source": [
    "def list_sum(numbers): #numbers는 정수로만 이루어진 list다.\n",
    "    # 리스트안의 요소들의 합을 저장할 변수를 선언\n",
    "    sum_value = 0\n",
    "    # numbers 리스트를 순회하면서 누적 합을 저장\n",
    "    for num in numbers:\n",
    "        sum_value += num\n",
    "    return sum_value\n",
    "\n",
    "list_sum(([1,2,3,4,5,6]))\n"
   ]
  },
  {
   "cell_type": "markdown",
   "metadata": {},
   "source": [
    "### 3. dict로 이루어진 List의 합 구하기\n",
    "Dictionary로 이루어진 list를 전달 받아 모든 dictionary의 'age' key에 해당하는 value\n",
    "들의 합을 반환하는 dict_list_sum 함수를 built-in 함수인 sum() 함수를 사용하지 않고\n",
    "작성하시오."
   ]
  },
  {
   "cell_type": "code",
   "execution_count": 5,
   "metadata": {},
   "outputs": [
    {
     "data": {
      "text/plain": [
       "16"
      ]
     },
     "execution_count": 5,
     "metadata": {},
     "output_type": "execute_result"
    }
   ],
   "source": [
    "my_dict_list = [\n",
    "    {\n",
    "        \"name\" : \"kim\",\n",
    "        \"age\" : 12\n",
    "    },\n",
    "    {\n",
    "        \"name\" : \"lee\",\n",
    "        \"age\" : 4\n",
    "    }\n",
    "]\n",
    "\n",
    "def dict_list_sum(infos): #infos라는 파라미터는 dictionary로 이루어진 리스트이다.\n",
    "    age_sum = 0 # age키에 저장하는 밸류들의 총 합을 저장할 변수\n",
    "    for info in infos: # infos리스트 , info 는 dictionary\n",
    "        age_sum += info[\"age\"]\n",
    "    return age_sum\n",
    "\n",
    "dict_list_sum(my_dict_list)"
   ]
  },
  {
   "cell_type": "markdown",
   "metadata": {},
   "source": [
    "### 4. 2차원 List의 전체 합 구하기\n",
    "\n",
    "정수로만 이루어진 2차원 list를 전달받아 해당 list의 모든 요소들의 합을 반환하는 all_list_sum함수를 빌트인 함수 sum 쓰지 않고 작성하시오\n"
   ]
  },
  {
   "cell_type": "code",
   "execution_count": 6,
   "metadata": {},
   "outputs": [
    {
     "data": {
      "text/plain": [
       "55"
      ]
     },
     "execution_count": 6,
     "metadata": {},
     "output_type": "execute_result"
    }
   ],
   "source": [
    "my_list = [[1],[2,3],[4,5,6],[7,8,9,10]]\n",
    "\n",
    "def all_list_sum(num_lists): # num_lists는 2차원 리스트이다.\n",
    "    lists_sum = 0 #2차원 리스트의 요소들의 합을 저장할 변수\n",
    "    for num_list in num_lists: #num_lists는 2차원 리스트이고 num_list는 그 안에있는 리스트 하나\n",
    "        # num_list의 합을 구하기\n",
    "        for num in num_list: # num_list는 1차원 리스트이고 num은 그 안에 있는 숫자 하나\n",
    "            lists_sum += num\n",
    "    return lists_sum\n",
    "\n",
    "all_list_sum(my_list)"
   ]
  },
  {
   "cell_type": "markdown",
   "metadata": {},
   "source": [
    "### 5. 숫자의 의미"
   ]
  },
  {
   "cell_type": "code",
   "execution_count": 9,
   "metadata": {},
   "outputs": [
    {
     "data": {
      "text/plain": [
       "'SsAfY'"
      ]
     },
     "execution_count": 9,
     "metadata": {},
     "output_type": "execute_result"
    }
   ],
   "source": [
    " my_numbers = [83, 115, 65, 102, 89]\n",
    "\n",
    "def get_secret_word(numbers): # numbers는 정수로 이루어진 리스트이다.\n",
    "    word = \"\" # numbers 안에있는 숫자들을 대응하는 알파벳으로 바꾼 후 이어붙일 문자열\n",
    "    for number in numbers:\n",
    "        # number를 알파벳으로 변환\n",
    "        word += chr(number) #chr(number) ==> number에 대응하는 아스키코드를 가진 알파벳 변환\n",
    "    return word\n",
    "\n",
    "get_secret_word(my_numbers)"
   ]
  },
  {
   "cell_type": "markdown",
   "metadata": {},
   "source": [
    "### 6. 내 이름은 몇일가?\n",
    "문자열을 전달 받아서 해당 문자열의 각 문자에 대응되는 아스키 숫자들의 합을 반환하는\n",
    "get_secret_number함수를 작성하시오"
   ]
  },
  {
   "cell_type": "code",
   "execution_count": 12,
   "metadata": {},
   "outputs": [
    {
     "data": {
      "text/plain": [
       "647"
      ]
     },
     "execution_count": 12,
     "metadata": {},
     "output_type": "execute_result"
    }
   ],
   "source": [
    "def get_secret_number(word): #word는 문자열\n",
    "    total = 0 # word의 단어 하나하나를 숫자로 바꾼 후에 그 합을 저장할 변수\n",
    "    for char in word: # 문자열 word를 문자 하나하나로 쪼갠 char // \"happy\" => \"h\",\"a\",\"p\",\"P\",\"y\"\n",
    "        total += ord(char) # ord(char) 주어진 문자열 char 를 아스키코드로 바꿔주는 함수\n",
    "    return total\n",
    "\n",
    "get_secret_number(\"moonam\")"
   ]
  },
  {
   "cell_type": "markdown",
   "metadata": {},
   "source": [
    "### 7. 강한 이름"
   ]
  },
  {
   "cell_type": "code",
   "execution_count": 14,
   "metadata": {},
   "outputs": [
    {
     "data": {
      "text/plain": [
       "'moo'"
      ]
     },
     "execution_count": 14,
     "metadata": {},
     "output_type": "execute_result"
    }
   ],
   "source": [
    "def get_strong_word(word1, word2): #문자열 2개 입력\n",
    "    total1 = 0\n",
    "    total2 = 0\n",
    "    for char in word1:\n",
    "        total1 += ord(char)\n",
    "    for char in word2:\n",
    "        total2 += ord(char)\n",
    "    if total1 > total2:\n",
    "        return word1\n",
    "    elif total1 < total2:\n",
    "        return word2\n",
    "    else:\n",
    "        return word1, word2\n",
    "\n",
    "get_strong_word('moo','nam')\n",
    "\n",
    "\n"
   ]
  },
  {
   "cell_type": "markdown",
   "metadata": {},
   "source": [
    "### HW 4-4 문자열 애너그램"
   ]
  },
  {
   "cell_type": "code",
   "execution_count": 18,
   "metadata": {},
   "outputs": [
    {
     "name": "stdout",
     "output_type": "stream",
     "text": [
      "{'aet': ['eat', 'tea', 'ate'], 'ant': ['tan', 'nat'], 'abt': ['bat']}\n"
     ]
    }
   ],
   "source": [
    "words =[\"eat\", \"tea\", \"tan\", \"ate\", \"nat\", \"bat\"]\n",
    "\n",
    "anagram_dict = {} #애너그램단위로 묶은 결과가 들어있는 딕셔너리\n",
    "# key: 해당 단어를 정렬한 결과\n",
    "# value :key와 같은 애너그램 그룹에 있는 단어들의 모음을 리스트로 만든다.\n",
    "\n",
    "for word in words:\n",
    "    sorted_word = \"\".join(sorted(word)) #sorted() => 결과가 리스트, 물자열로 변환해야한다.==> join()\n",
    "\n",
    "    if anagram_dict.get(sorted_word): #딕셔너리에 애너그램 그룹이 존재한다\n",
    "        anagram_dict[sorted_word].append(word) #존재하면 딕셔너리에 추가해준다\n",
    "    else:\n",
    "        anagram_dict[sorted_word] = [word]\n",
    "\n",
    "print(anagram_dict)"
   ]
  },
  {
   "cell_type": "code",
   "execution_count": null,
   "metadata": {},
   "outputs": [],
   "source": []
  },
  {
   "cell_type": "code",
   "execution_count": null,
   "metadata": {},
   "outputs": [],
   "source": []
  }
 ],
 "metadata": {
  "kernelspec": {
   "display_name": "Python 3.9.13 64-bit",
   "language": "python",
   "name": "python3"
  },
  "language_info": {
   "codemirror_mode": {
    "name": "ipython",
    "version": 3
   },
   "file_extension": ".py",
   "mimetype": "text/x-python",
   "name": "python",
   "nbconvert_exporter": "python",
   "pygments_lexer": "ipython3",
   "version": "3.9.13"
  },
  "orig_nbformat": 4,
  "vscode": {
   "interpreter": {
    "hash": "3d3579b64ed644892bc49d0da2d1890659408e00eebf25200bc250e1696a02dd"
   }
  }
 },
 "nbformat": 4,
 "nbformat_minor": 2
}
