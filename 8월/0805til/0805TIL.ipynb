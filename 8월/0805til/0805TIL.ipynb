{
 "cells": [
  {
   "cell_type": "markdown",
   "metadata": {},
   "source": [
    "# 0805(금)TIL\n",
    "(시험공부하기...)"
   ]
  },
  {
   "cell_type": "markdown",
   "metadata": {
    "vscode": {
     "languageId": "python"
    }
   },
   "source": [
    "#### 마크다운에서 코드블록 넣으려먼 키보드 물결표에 있는 쩜 2개 찍어야함 (' 이거 말고 `이거임)\n",
    "- HTML: Hyper Text Markup Language\n",
    "  \n",
    "- 시맨틱 태그: HTML 태그가 특징 목적,역할 및 의미적 가치(semantic value)를 가지는 것\n",
    "  - ### Non semantic : div, span\n",
    "  - 대표적인 시맨틱 태그 : header,nav,aside,section,article,footer\n",
    "  - 시맨틱 태그 사용해야 하는 이유\n",
    "    - 의미론적 마크업\n",
    "- 렌더링(Rendering): 코트 =>웹사이트\n",
    "  \n",
    "- 인라인/블록요소\n",
    "  - HTML 요소는 크게 인라인/블록 요소로 나남\n",
    "  - 인라인 요소는 글자처럼 취급\n",
    "  - 블록 요소는 한 줄 모두 사용\n",
    "- 텍스트 요소\n",
    "```\n",
    "<a></a> href 속성을 활용하여 다른 URL로 연결하는 하이퍼링크 생성\n",
    "<b></b> 굵은 글씨 요소\n",
    "<strong></strong> 굵은 글씨 요소\n",
    "<i></i> 기울임 글씨 요소\n",
    "<em></em> 기울임 글씨 요소\n",
    "<br> 텍스트 내에 줄 바꿈 생성\n",
    "<img> src 속성을 활용하여 이미지 표현\n",
    "<span></span> 의미 없는 인라인 컨테이너\n",
    "<p></p> 하나의 문단\n",
    "<hr> 수평선\n",
    "<ol></ol> 순서가 있는 리스트\n",
    "<ul></ul> 순서가 없는 리스트\n",
    "<div></div> 의미 없는 블록 레벨 컨테이너\n",
    "```\n",
    "- form: 정보를 서버에 제출하기 위해 사용하는 태그\n",
    "### CSS\n",
    "- 스타일을 지정하기 위한 언어\n",
    "- 정의 방법 : 인라인, 내부참조, 외부참조\n",
    "- CSS 선택자 정리\n",
    "  - 요소 선택자\n",
    "    - HTML 태그를 직접 선택\n",
    "  - 클래스(class) 선택자\n",
    "    - 마침표(.)로 시작하며, 해당 클래스가 적용된 항목을 선택\n",
    "  - 아이디(id) 선택자\n",
    "    - #문자로 시작하며, 해당 아이디가 적용된 항목을 선택\n",
    "    - 일반적으로 하나의 문서에 1번만 사용\n",
    "    - 여러 번 사용해도 동작하지만, 단일 id를 사용하는 것을 권장 \n",
    "- CSS상속\n",
    "  - 상속 되는것 (Text 관련 요소)\n",
    "    - font,color,text-align\n",
    "  - 상속 되지 않는 것 (Box model 관련 요소,position 관련 요소)\n",
    "    - 너비,높이,간격, border,box-sizing,display,position,top,bottom 등등\n",
    "- 크기단위\n",
    "  - px\n",
    "  - %\n",
    "  - em: 상속의 영향을 받음\n",
    "  - rem: 상속의 영향을 받지 않음\n",
    "- 결합자\n",
    "  - 자손결합자(공백) : 하위 모두\n",
    "  - 자식결합자(>) : 바로 아래 요소만\n",
    "  - 일반 형제 결합자(~): selectorA의 형제 요소 중 뒤에 위치하는 selectorB 요소를 모두 선택\n",
    "  - 인접 형제 결합자(+): selectorA의 형제 요소 중 바로 뒤에 위치하는 selectorB 요소를 선택\n",
    "- display: block\n",
    "  - 줄 바꿈이 일어나는 요소\n",
    "  - 화면 크기 전체의 가로 폭을 차지한다.\n",
    "  - 블록 레벨 요소 안에 인라인 레벨 요소가 들어갈 수 있음.\n",
    "  - 대표적인 블록 레벨 요소 : div / ul,ol,li /p/ hr/ form\n",
    "- display: inline\n",
    "  - 줄 바꿈이 일어나지 않는 행의 일부 요소\n",
    "  - content 너비만큼 가로 폭을 차지한다\n",
    "  - width, height, margin 등을 지정할 수 없다\n",
    "  - 상하 여백은 line-height로 지정한다.\n",
    "  - 대표적인 인라인 레벨 요소 : span / a/ img/ input,label/b,em,i,strong\n",
    "- display: inline-block\n",
    "  - block과 inline 레벨 요소의 특징을 모두 가짐\n",
    "  - inline처럼 한 줄에 표시할 수 있고, block처럼 width,height,margin 속성을 모두 지정할 수 있음"
   ]
  },
  {
   "cell_type": "markdown",
   "metadata": {},
   "source": []
  }
 ],
 "metadata": {
  "kernelspec": {
   "display_name": "Python 3.9.13 64-bit",
   "language": "python",
   "name": "python3"
  },
  "language_info": {
   "name": "python",
   "version": "3.9.13"
  },
  "orig_nbformat": 4,
  "vscode": {
   "interpreter": {
    "hash": "3d3579b64ed644892bc49d0da2d1890659408e00eebf25200bc250e1696a02dd"
   }
  }
 },
 "nbformat": 4,
 "nbformat_minor": 2
}
